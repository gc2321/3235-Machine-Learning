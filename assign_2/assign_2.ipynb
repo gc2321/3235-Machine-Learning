{
  "nbformat": 4,
  "nbformat_minor": 0,
  "metadata": {
    "colab": {
      "provenance": [],
      "authorship_tag": "ABX9TyMoCzHCvHTewNGHIDYCUd9s",
      "include_colab_link": true
    },
    "kernelspec": {
      "name": "python3",
      "display_name": "Python 3"
    },
    "language_info": {
      "name": "python"
    }
  },
  "cells": [
    {
      "cell_type": "markdown",
      "metadata": {
        "id": "view-in-github",
        "colab_type": "text"
      },
      "source": [
        "<a href=\"https://colab.research.google.com/github/gc2321/3235-Machine-Learning/blob/main/assign_2/assign_2.ipynb\" target=\"_parent\"><img src=\"https://colab.research.google.com/assets/colab-badge.svg\" alt=\"Open In Colab\"/></a>"
      ]
    },
    {
      "cell_type": "markdown",
      "source": [
        "# Classifying Flowers using Transfer Learning in Keras"
      ],
      "metadata": {
        "id": "gaQHOXCEc7rQ"
      }
    },
    {
      "cell_type": "markdown",
      "source": [
        "### Gordon Chan (qq525548)"
      ],
      "metadata": {
        "id": "ljQTjM98dBMR"
      }
    },
    {
      "cell_type": "markdown",
      "source": [
        "## Assignment 2 - Convolutional Neural Nets and Transfer Learning"
      ],
      "metadata": {
        "id": "MBDlrVmHczex"
      }
    },
    {
      "cell_type": "markdown",
      "source": [],
      "metadata": {
        "id": "95nc0gNncutw"
      }
    },
    {
      "cell_type": "code",
      "execution_count": null,
      "metadata": {
        "id": "ydGDtyOHcYWB"
      },
      "outputs": [],
      "source": [
        "Classifying Flowers using Transfer Learning in Keras\n",
        "\n",
        "Please follow all instructions carefully:\n",
        "\n",
        "    Download the small flower dataset (http://download.tensorflow.org/example_images/flower_photos.tgz\n",
        "\n",
        "    Links to an external site.). This dataset has 5 classes (Daisy, Dandelion, Rose, Sunflower, and Tulip). Images for each class are stored in its own folder. Note: if clicking on the above link does not trigger a download automatically, try copying the link into your browser.\n",
        "\n",
        "    The images have different dimensions. Resize all of them to match the pixel dimensions expected by VGG16,  e.g. 224x224 pixels.\n",
        "\n",
        "    Split images to 80-20% for training and test. Make sure you have the same distribution of flower types between train and test datasets.\n",
        "        Note: your test set should be held out until final evaluation, after you have finished optimizing your model. When trying different hyperparameters, please cut a separate validation split (10-20% of total training set size) from your training data to assess generalization importance. This can be done either manually or by passing the `validation_split` parameter to `model.fit()`.  A single validation split will suffice, you do not need to use full K-fold cross-validation for this assignment.\n",
        "\n",
        "    Use a VGG16 model (pre-trained on ImageNet) for transfer learning. Remove the top layers (fully connected layers).\n",
        "\n",
        "    Add your own fully connected layers (example: one with 256 nodes using ‘relu’ activation, and an output layer with 5 nodes and ‘softmax’ activation; the choice is up to you). You will train three different models and compare all three:\n",
        "        Model 1: First, freeze all layers of VGG16, train only the layers you added on top of it, and evaluate the model. Try your best to improve the model performance, and explain the reason behind any choices you make. You should experiment with different hyperparameters, such as the number of neurons or layers, optimizer type, and so forth. You can also apply regularization, batch normalization, or data augmentation as you see fit. Please show all steps, so we can follow the progression of your improvements to the model. Evaluate your model. You should report training, validation, and test accuracy (all three).\n",
        "        Model 2: Second, unfreeze the last block of VGG16 (block5), re-train and evaluate the model. You can keep the same set of best hyperparameters that you found while optimizing Model 1, or try new hyperparameters, it's up to you.\n",
        "        Model 3: Third, unfreeze all the layers and try again. Evaluate your model.\n",
        "\n",
        "    Compare the accuracy achieved between all three cases. Which one is better and why? Offer an explanation as to why performance is either better or worse in each case.\n",
        "\n",
        "\n",
        "\n",
        "Code quality, comments and documentation should follow the guidelines set forth in this document: 3546 - Assignment Guidelines.pdf\n",
        "\n",
        "Download 3546 - Assignment Guidelines.pdf\n",
        "\n",
        "Please be sure to add your name and student number to the top of your assignment. Submit your assignment as a fully-evaluated .ipynb notebook file.\n",
        "\n",
        "Good luck and have fun!"
      ]
    }
  ]
}