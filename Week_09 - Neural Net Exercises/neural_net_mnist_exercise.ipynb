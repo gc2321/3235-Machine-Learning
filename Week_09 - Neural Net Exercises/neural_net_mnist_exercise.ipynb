{
  "nbformat": 4,
  "nbformat_minor": 0,
  "metadata": {
    "colab": {
      "provenance": [],
      "include_colab_link": true
    },
    "kernelspec": {
      "name": "python3",
      "display_name": "Python 3"
    },
    "language_info": {
      "name": "python"
    }
  },
  "cells": [
    {
      "cell_type": "markdown",
      "metadata": {
        "id": "view-in-github",
        "colab_type": "text"
      },
      "source": [
        "<a href=\"https://colab.research.google.com/github/gc2321/3235-Machine-Learning/blob/main/Week_09%20-%20Neural%20Net%20Exercises/neural_net_mnist_exercise.ipynb\" target=\"_parent\"><img src=\"https://colab.research.google.com/assets/colab-badge.svg\" alt=\"Open In Colab\"/></a>"
      ]
    },
    {
      "cell_type": "code",
      "execution_count": 1,
      "metadata": {
        "id": "WAzZpPVYtusM"
      },
      "outputs": [],
      "source": [
        "import sys\n",
        "assert sys.version_info >= (3, 7)\n"
      ]
    },
    {
      "cell_type": "code",
      "source": [
        "from packaging import version\n",
        "import sklearn\n",
        "assert version.parse(sklearn.__version__) >= version.parse(\"1.0.1\")"
      ],
      "metadata": {
        "id": "r6c8VTDnuKrD"
      },
      "execution_count": 2,
      "outputs": []
    },
    {
      "cell_type": "code",
      "source": [
        "import tensorflow as tf\n",
        "assert version.parse(tf.__version__) >= version.parse(\"2.8.0\")"
      ],
      "metadata": {
        "id": "_KQFY6RuuP8D"
      },
      "execution_count": 3,
      "outputs": []
    },
    {
      "cell_type": "code",
      "source": [
        "import matplotlib.pyplot as plt\n",
        "\n",
        "plt.rc('font', size=14)\n",
        "plt.rc('axes', labelsize=14, titlesize=14)\n",
        "plt.rc('legend', fontsize=14)\n",
        "plt.rc('xtick', labelsize=10)\n",
        "plt.rc('ytick', labelsize=10)"
      ],
      "metadata": {
        "id": "mxbvWPIBugBE"
      },
      "execution_count": 4,
      "outputs": []
    },
    {
      "cell_type": "code",
      "source": [
        "tf.keras.backend.clear_session()\n",
        "tf.random.set_seed(42)"
      ],
      "metadata": {
        "id": "4IhTqeL4uxYM"
      },
      "execution_count": 5,
      "outputs": []
    },
    {
      "cell_type": "code",
      "source": [
        "# load data\n",
        "(X_train_full, y_train_full), (X_test, y_test) = tf.keras.datasets.mnist.load_data()"
      ],
      "metadata": {
        "colab": {
          "base_uri": "https://localhost:8080/"
        },
        "id": "MAWGWdMKu1OD",
        "outputId": "04d82fc2-47c9-4555-d9d3-d7fc0be3c7ed"
      },
      "execution_count": 6,
      "outputs": [
        {
          "output_type": "stream",
          "name": "stdout",
          "text": [
            "Downloading data from https://storage.googleapis.com/tensorflow/tf-keras-datasets/mnist.npz\n",
            "11490434/11490434 [==============================] - 0s 0us/step\n"
          ]
        }
      ]
    },
    {
      "cell_type": "code",
      "source": [
        "X_train_full.shape"
      ],
      "metadata": {
        "id": "HM2sbGfYwMkl",
        "outputId": "c0472634-713a-4ef0-a767-fc0a3be7b773",
        "colab": {
          "base_uri": "https://localhost:8080/"
        }
      },
      "execution_count": 7,
      "outputs": [
        {
          "output_type": "execute_result",
          "data": {
            "text/plain": [
              "(60000, 28, 28)"
            ]
          },
          "metadata": {},
          "execution_count": 7
        }
      ]
    },
    {
      "cell_type": "code",
      "source": [
        "X_train_full.dtype"
      ],
      "metadata": {
        "id": "WpW0elTHwP_o",
        "outputId": "c517c612-837f-42ed-e20f-e3eb57aff2ba",
        "colab": {
          "base_uri": "https://localhost:8080/"
        }
      },
      "execution_count": 8,
      "outputs": [
        {
          "output_type": "execute_result",
          "data": {
            "text/plain": [
              "dtype('uint8')"
            ]
          },
          "metadata": {},
          "execution_count": 8
        }
      ]
    },
    {
      "cell_type": "code",
      "source": [
        "# scale the pixel intensities down to the 0-1 range and convert them to floats, by dividing by 255\n",
        "X_valid, X_train = X_train_full[:5000] / 255., X_train_full[5000:] / 255.\n",
        "y_valid, y_train = y_train_full[:5000], y_train_full[5000:]\n",
        "X_test = X_test / 255."
      ],
      "metadata": {
        "id": "-PM3l4UgwU1m"
      },
      "execution_count": 10,
      "outputs": []
    },
    {
      "cell_type": "code",
      "source": [
        "plt.imshow(X_train[0], cmap=\"binary\")\n",
        "plt.axis('off')\n",
        "plt.show()"
      ],
      "metadata": {
        "id": "54PQ_7qlw44C",
        "outputId": "791ba5b3-c6f7-4ec8-b3ab-fd8d1c0715c4",
        "colab": {
          "base_uri": "https://localhost:8080/",
          "height": 406
        }
      },
      "execution_count": 12,
      "outputs": [
        {
          "output_type": "display_data",
          "data": {
            "text/plain": [
              "<Figure size 640x480 with 1 Axes>"
            ],
            "image/png": "[encoded data removed]"
          },
          "metadata": {}
        }
      ]
    },
    {
      "cell_type": "code",
      "source": [
        "y_train"
      ],
      "metadata": {
        "id": "k_iO21V0xA1r",
        "outputId": "024322e1-ec1b-47cc-e2c2-cdce28c5ac85",
        "colab": {
          "base_uri": "https://localhost:8080/"
        }
      },
      "execution_count": 13,
      "outputs": [
        {
          "output_type": "execute_result",
          "data": {
            "text/plain": [
              "array([7, 3, 4, ..., 5, 6, 8], dtype=uint8)"
            ]
          },
          "metadata": {},
          "execution_count": 13
        }
      ]
    },
    {
      "cell_type": "code",
      "source": [
        "X_valid.shape"
      ],
      "metadata": {
        "id": "Mi_2PHTAxFqm",
        "outputId": "5e7d8a1c-5f6a-495d-a2be-e953f58d92b6",
        "colab": {
          "base_uri": "https://localhost:8080/"
        }
      },
      "execution_count": 14,
      "outputs": [
        {
          "output_type": "execute_result",
          "data": {
            "text/plain": [
              "(5000, 28, 28)"
            ]
          },
          "metadata": {},
          "execution_count": 14
        }
      ]
    },
    {
      "cell_type": "code",
      "source": [
        "X_test.shape"
      ],
      "metadata": {
        "id": "nf-S0Oo_xKbx",
        "outputId": "acfe6427-fd0d-4a87-8db6-23c18c0d714c",
        "colab": {
          "base_uri": "https://localhost:8080/"
        }
      },
      "execution_count": 15,
      "outputs": [
        {
          "output_type": "execute_result",
          "data": {
            "text/plain": [
              "(10000, 28, 28)"
            ]
          },
          "metadata": {},
          "execution_count": 15
        }
      ]
    },
    {
      "cell_type": "code",
      "source": [
        "n_rows = 4\n",
        "n_cols = 10\n",
        "plt.figure(figsize=(n_cols * 1.2, n_rows * 1.2))\n",
        "for row in range(n_rows):\n",
        "    for col in range(n_cols):\n",
        "        index = n_cols * row + col\n",
        "        plt.subplot(n_rows, n_cols, index + 1)\n",
        "        plt.imshow(X_train[index], cmap=\"binary\", interpolation=\"nearest\")\n",
        "        plt.axis('off')\n",
        "        plt.title(y_train[index])\n",
        "plt.subplots_adjust(wspace=0.2, hspace=0.5)\n",
        "plt.show()"
      ],
      "metadata": {
        "id": "Bgn65aNHxPhn",
        "outputId": "4cb8474f-33af-42c2-9e48-0980b589500b",
        "colab": {
          "base_uri": "https://localhost:8080/",
          "height": 429
        }
      },
      "execution_count": 16,
      "outputs": [
        {
          "output_type": "display_data",
          "data": {
            "text/plain": [
              "<Figure size 1200x480 with 40 Axes>"
            ],
            "image/png": "[encoded data removed]"
          },
          "metadata": {}
        }
      ]
    },
    {
      "cell_type": "code",
      "source": [
        "K = tf.keras.backend\n",
        "\n",
        "class ExponentialLearningRate(tf.keras.callbacks.Callback):\n",
        "    def __init__(self, factor):\n",
        "        self.factor = factor\n",
        "        self.rates = []\n",
        "        self.losses = []\n",
        "    def on_batch_end(self, batch, logs):\n",
        "        self.rates.append(K.get_value(self.model.optimizer.learning_rate))\n",
        "        self.losses.append(logs[\"loss\"])\n",
        "        K.set_value(self.model.optimizer.learning_rate, self.model.optimizer.learning_rate * self.factor)"
      ],
      "metadata": {
        "id": "HeEk3AhExR2F"
      },
      "execution_count": 17,
      "outputs": []
    },
    {
      "cell_type": "code",
      "source": [
        "import numpy as np\n",
        "tf.keras.backend.clear_session()\n",
        "np.random.seed(42)\n",
        "tf.random.set_seed(42)"
      ],
      "metadata": {
        "id": "4vVsvYDoxdWq"
      },
      "execution_count": 19,
      "outputs": []
    },
    {
      "cell_type": "code",
      "source": [
        "model = tf.keras.Sequential([\n",
        "    tf.keras.layers.Flatten(input_shape=[28, 28]),\n",
        "    tf.keras.layers.Dense(300, activation=\"relu\"),\n",
        "    tf.keras.layers.Dense(100, activation=\"relu\"),\n",
        "    tf.keras.layers.Dense(10, activation=\"softmax\")\n",
        "])"
      ],
      "metadata": {
        "id": "lmrD1KJixlac"
      },
      "execution_count": 20,
      "outputs": []
    },
    {
      "cell_type": "code",
      "source": [
        "optimizer = tf.keras.optimizers.SGD(learning_rate=1e-3)\n",
        "model.compile(loss=\"sparse_categorical_crossentropy\", optimizer=optimizer,\n",
        "              metrics=[\"accuracy\"])\n",
        "expon_lr = ExponentialLearningRate(factor=1.005)"
      ],
      "metadata": {
        "id": "JwQDMlLLx5ys"
      },
      "execution_count": 21,
      "outputs": []
    },
    {
      "cell_type": "code",
      "source": [
        "history = model.fit(X_train, y_train, epochs=1,\n",
        "                    validation_data=(X_valid, y_valid),\n",
        "                    callbacks=[expon_lr])"
      ],
      "metadata": {
        "id": "YAIsTSqPyAWe",
        "outputId": "763c7e55-6d1a-4cf8-89d5-d6ef4b282f83",
        "colab": {
          "base_uri": "https://localhost:8080/"
        }
      },
      "execution_count": 23,
      "outputs": [
        {
          "output_type": "stream",
          "name": "stdout",
          "text": [
            "1719/1719 [==============================] - 10s 6ms/step - loss: nan - accuracy: 0.5841 - val_loss: nan - val_accuracy: 0.0958\n"
          ]
        }
      ]
    },
    {
      "cell_type": "code",
      "source": [
        "plt.plot(expon_lr.rates, expon_lr.losses)\n",
        "plt.gca().set_xscale('log')\n",
        "plt.hlines(min(expon_lr.losses), min(expon_lr.rates), max(expon_lr.rates))\n",
        "plt.axis([min(expon_lr.rates), max(expon_lr.rates), 0, expon_lr.losses[0]])\n",
        "plt.grid()\n",
        "plt.xlabel(\"Learning rate\")\n",
        "plt.ylabel(\"Loss\")"
      ],
      "metadata": {
        "id": "sBSpm4_5yKRw",
        "outputId": "930b8784-cfb4-4117-cca7-d807088d5a08",
        "colab": {
          "base_uri": "https://localhost:8080/",
          "height": 477
        }
      },
      "execution_count": 25,
      "outputs": [
        {
          "output_type": "execute_result",
          "data": {
            "text/plain": [
              "Text(0, 0.5, 'Loss')"
            ]
          },
          "metadata": {},
          "execution_count": 25
        },
        {
          "output_type": "display_data",
          "data": {
            "text/plain": [
              "<Figure size 640x480 with 1 Axes>"
            ],
            "image/png": "[encoded data removed]"
          },
          "metadata": {}
        }
      ]
    },
    {
      "cell_type": "code",
      "source": [
        "tf.keras.backend.clear_session()\n",
        "np.random.seed(42)\n",
        "tf.random.set_seed(42)"
      ],
      "metadata": {
        "id": "AOFXfWsa0ZBt"
      },
      "execution_count": 45,
      "outputs": []
    },
    {
      "cell_type": "code",
      "source": [
        "model = tf.keras.Sequential([\n",
        "    tf.keras.layers.Flatten(input_shape=[28, 28]),\n",
        "    tf.keras.layers.Dense(300, activation=\"relu\"),\n",
        "    tf.keras.layers.Dense(100, activation=\"relu\"),\n",
        "    tf.keras.layers.Dense(10, activation=\"softmax\")\n",
        "])"
      ],
      "metadata": {
        "id": "H-1t5If-0eo6"
      },
      "execution_count": 46,
      "outputs": []
    },
    {
      "cell_type": "code",
      "source": [
        "optimizer = tf.keras.optimizers.SGD(learning_rate=3e-1)\n",
        "model.compile(loss=\"sparse_categorical_crossentropy\", optimizer=optimizer,\n",
        "              metrics=[\"accuracy\"])"
      ],
      "metadata": {
        "id": "WhrNeyKK0kWG"
      },
      "execution_count": 47,
      "outputs": []
    },
    {
      "cell_type": "code",
      "source": [
        "if \"google.colab\" in sys.modules:  # extra code\n",
        "    %pip install -q -U tensorboard-plugin-profile"
      ],
      "metadata": {
        "id": "iNYXitzx1LN5"
      },
      "execution_count": 53,
      "outputs": []
    },
    {
      "cell_type": "code",
      "source": [
        "from pathlib import Path\n",
        "\n",
        "IMAGES_PATH = Path() / \"images\" / \"ann\"\n",
        "IMAGES_PATH.mkdir(parents=True, exist_ok=True)\n",
        "\n",
        "def save_fig(fig_id, tight_layout=True, fig_extension=\"png\", resolution=300):\n",
        "    path = IMAGES_PATH / f\"{fig_id}.{fig_extension}\"\n",
        "    if tight_layout:\n",
        "        plt.tight_layout()\n",
        "    plt.savefig(path, format=fig_extension, dpi=resolution)"
      ],
      "metadata": {
        "id": "6e0FDwNB3LMB"
      },
      "execution_count": 48,
      "outputs": []
    },
    {
      "cell_type": "code",
      "source": [
        "run_index = 1 # increment this at every run\n",
        "run_logdir = Path() / \"my_mnist_logs\" / \"run_{:03d}\".format(run_index)\n",
        "run_logdir"
      ],
      "metadata": {
        "id": "mIPEL_cy25pp",
        "outputId": "0321aa06-12e7-4e21-d9e6-9ea803a1e71f",
        "colab": {
          "base_uri": "https://localhost:8080/"
        }
      },
      "execution_count": 49,
      "outputs": [
        {
          "output_type": "execute_result",
          "data": {
            "text/plain": [
              "PosixPath('my_mnist_logs/run_001')"
            ]
          },
          "metadata": {},
          "execution_count": 49
        }
      ]
    },
    {
      "cell_type": "code",
      "source": [
        "early_stopping_cb = tf.keras.callbacks.EarlyStopping(patience=20)\n",
        "checkpoint_cb = tf.keras.callbacks.ModelCheckpoint(\"my_mnist_model\", save_best_only=True)\n",
        "tensorboard_cb = tf.keras.callbacks.TensorBoard(run_logdir)\n",
        "\n",
        "history = model.fit(X_train, y_train, epochs=100,\n",
        "                    validation_data=(X_valid, y_valid),\n",
        "                    callbacks=[checkpoint_cb, early_stopping_cb, tensorboard_cb])"
      ],
      "metadata": {
        "id": "78WK53I118ih",
        "outputId": "7a8dd000-da58-4ab0-977d-b604951f2d7e",
        "colab": {
          "base_uri": "https://localhost:8080/"
        }
      },
      "execution_count": 50,
      "outputs": [
        {
          "output_type": "stream",
          "name": "stdout",
          "text": [
            "Epoch 1/100\n",
            "1719/1719 [==============================] - 11s 6ms/step - loss: 0.2336 - accuracy: 0.9273 - val_loss: 0.1089 - val_accuracy: 0.9672\n",
            "Epoch 2/100\n",
            "1719/1719 [==============================] - 9s 5ms/step - loss: 0.0946 - accuracy: 0.9710 - val_loss: 0.0955 - val_accuracy: 0.9740\n",
            "Epoch 3/100\n",
            "1719/1719 [==============================] - 11s 6ms/step - loss: 0.0653 - accuracy: 0.9789 - val_loss: 0.0848 - val_accuracy: 0.9768\n",
            "Epoch 4/100\n",
            "1719/1719 [==============================] - 11s 6ms/step - loss: 0.0477 - accuracy: 0.9848 - val_loss: 0.0768 - val_accuracy: 0.9784\n",
            "Epoch 5/100\n",
            "1719/1719 [==============================] - 10s 6ms/step - loss: 0.0338 - accuracy: 0.9891 - val_loss: 0.0770 - val_accuracy: 0.9788\n",
            "Epoch 6/100\n",
            "1719/1719 [==============================] - 12s 7ms/step - loss: 0.0276 - accuracy: 0.9911 - val_loss: 0.0715 - val_accuracy: 0.9810\n",
            "Epoch 7/100\n",
            "1719/1719 [==============================] - 11s 6ms/step - loss: 0.0232 - accuracy: 0.9925 - val_loss: 0.0866 - val_accuracy: 0.9810\n",
            "Epoch 8/100\n",
            "1719/1719 [==============================] - 9s 5ms/step - loss: 0.0179 - accuracy: 0.9939 - val_loss: 0.1221 - val_accuracy: 0.9724\n",
            "Epoch 9/100\n",
            "1719/1719 [==============================] - 11s 6ms/step - loss: 0.0144 - accuracy: 0.9957 - val_loss: 0.0920 - val_accuracy: 0.9806\n",
            "Epoch 10/100\n",
            "1719/1719 [==============================] - 11s 6ms/step - loss: 0.0155 - accuracy: 0.9948 - val_loss: 0.0831 - val_accuracy: 0.9816\n",
            "Epoch 11/100\n",
            "1719/1719 [==============================] - 10s 6ms/step - loss: 0.0120 - accuracy: 0.9961 - val_loss: 0.0961 - val_accuracy: 0.9804\n",
            "Epoch 12/100\n",
            "1719/1719 [==============================] - 10s 6ms/step - loss: 0.0134 - accuracy: 0.9958 - val_loss: 0.1218 - val_accuracy: 0.9758\n",
            "Epoch 13/100\n",
            "1719/1719 [==============================] - 9s 5ms/step - loss: 0.0156 - accuracy: 0.9951 - val_loss: 0.0854 - val_accuracy: 0.9834\n",
            "Epoch 14/100\n",
            "1719/1719 [==============================] - 11s 6ms/step - loss: 0.0055 - accuracy: 0.9984 - val_loss: 0.0872 - val_accuracy: 0.9840\n",
            "Epoch 15/100\n",
            "1719/1719 [==============================] - 10s 6ms/step - loss: 0.0029 - accuracy: 0.9991 - val_loss: 0.0871 - val_accuracy: 0.9836\n",
            "Epoch 16/100\n",
            "1719/1719 [==============================] - 11s 6ms/step - loss: 0.0017 - accuracy: 0.9996 - val_loss: 0.0856 - val_accuracy: 0.9864\n",
            "Epoch 17/100\n",
            "1719/1719 [==============================] - 10s 6ms/step - loss: 3.2595e-04 - accuracy: 0.9999 - val_loss: 0.0821 - val_accuracy: 0.9868\n",
            "Epoch 18/100\n",
            "1719/1719 [==============================] - 9s 5ms/step - loss: 1.1604e-04 - accuracy: 1.0000 - val_loss: 0.0844 - val_accuracy: 0.9870\n",
            "Epoch 19/100\n",
            "1719/1719 [==============================] - 13s 8ms/step - loss: 8.7886e-05 - accuracy: 1.0000 - val_loss: 0.0851 - val_accuracy: 0.9868\n",
            "Epoch 20/100\n",
            "1719/1719 [==============================] - 11s 7ms/step - loss: 7.2622e-05 - accuracy: 1.0000 - val_loss: 0.0862 - val_accuracy: 0.9872\n",
            "Epoch 21/100\n",
            "1719/1719 [==============================] - 10s 6ms/step - loss: 6.3273e-05 - accuracy: 1.0000 - val_loss: 0.0869 - val_accuracy: 0.9872\n",
            "Epoch 22/100\n",
            "1719/1719 [==============================] - 11s 6ms/step - loss: 5.6393e-05 - accuracy: 1.0000 - val_loss: 0.0874 - val_accuracy: 0.9868\n",
            "Epoch 23/100\n",
            "1719/1719 [==============================] - 11s 6ms/step - loss: 5.1105e-05 - accuracy: 1.0000 - val_loss: 0.0883 - val_accuracy: 0.9870\n",
            "Epoch 24/100\n",
            "1719/1719 [==============================] - 10s 6ms/step - loss: 4.6894e-05 - accuracy: 1.0000 - val_loss: 0.0888 - val_accuracy: 0.9872\n",
            "Epoch 25/100\n",
            "1719/1719 [==============================] - 10s 6ms/step - loss: 4.3485e-05 - accuracy: 1.0000 - val_loss: 0.0895 - val_accuracy: 0.9872\n",
            "Epoch 26/100\n",
            "1719/1719 [==============================] - 11s 6ms/step - loss: 4.0611e-05 - accuracy: 1.0000 - val_loss: 0.0899 - val_accuracy: 0.9872\n"
          ]
        }
      ]
    },
    {
      "cell_type": "code",
      "source": [
        "model = tf.keras.models.load_model(\"my_mnist_model\") # rollback to best model\n",
        "model.evaluate(X_test, y_test)"
      ],
      "metadata": {
        "id": "jxXJAlke4H-T",
        "outputId": "f55a7132-5e4c-4b2b-9ec7-deaa6b4ba1f9",
        "colab": {
          "base_uri": "https://localhost:8080/"
        }
      },
      "execution_count": 51,
      "outputs": [
        {
          "output_type": "stream",
          "name": "stdout",
          "text": [
            "313/313 [==============================] - 1s 3ms/step - loss: 2.4635 - accuracy: 0.0892\n"
          ]
        },
        {
          "output_type": "execute_result",
          "data": {
            "text/plain": [
              "[2.4634947776794434, 0.08919999748468399]"
            ]
          },
          "metadata": {},
          "execution_count": 51
        }
      ]
    },
    {
      "cell_type": "code",
      "source": [
        "%tensorboard --logdir=./my_mnist_logs"
      ],
      "metadata": {
        "id": "nhnniIfi6JgW",
        "outputId": "de6d7488-f0ca-4602-d361-9ef2e2739b3b",
        "colab": {
          "base_uri": "https://localhost:8080/"
        }
      },
      "execution_count": 54,
      "outputs": [
        {
          "output_type": "stream",
          "name": "stderr",
          "text": [
            "UsageError: Line magic function `%tensorboard` not found.\n"
          ]
        }
      ]
    }
  ]
}