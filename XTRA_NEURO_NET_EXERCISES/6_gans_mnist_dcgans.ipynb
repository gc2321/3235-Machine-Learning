{
  "nbformat": 4,
  "nbformat_minor": 0,
  "metadata": {
    "colab": {
      "provenance": [],
      "gpuType": "T4",
      "authorship_tag": "ABX9TyNVilua6//UgS0N44GatjyJ",
      "include_colab_link": true
    },
    "kernelspec": {
      "name": "python3",
      "display_name": "Python 3"
    },
    "language_info": {
      "name": "python"
    },
    "accelerator": "GPU"
  },
  "cells": [
    {
      "cell_type": "markdown",
      "metadata": {
        "id": "view-in-github",
        "colab_type": "text"
      },
      "source": [
        "<a href=\"https://colab.research.google.com/github/gc2321/3235-Machine-Learning/blob/main/XTRA_NEURO_NET_EXERCISES/6_gans_mnist_dcgans.ipynb\" target=\"_parent\"><img src=\"https://colab.research.google.com/assets/colab-badge.svg\" alt=\"Open In Colab\"/></a>"
      ]
    },
    {
      "cell_type": "code",
      "execution_count": 1,
      "metadata": {
        "id": "vJWWOrt7Jfp6"
      },
      "outputs": [],
      "source": [
        "import numpy as np\n",
        "import pandas as pd\n",
        "import seaborn as sns\n",
        "import matplotlib.pyplot as plt\n",
        "import random\n",
        "import tensorflow as tf\n",
        "random.seed(42)"
      ]
    },
    {
      "cell_type": "code",
      "source": [
        "from tensorflow.keras.datasets import mnist"
      ],
      "metadata": {
        "id": "9MRJJ4klnMsy"
      },
      "execution_count": 2,
      "outputs": []
    },
    {
      "cell_type": "code",
      "source": [
        "(X_train, y_train), (X_test, y_test) = mnist.load_data()"
      ],
      "metadata": {
        "colab": {
          "base_uri": "https://localhost:8080/"
        },
        "id": "fDEjEC7Dms77",
        "outputId": "7ccb0e15-fb02-4f06-c818-7d223977ac07"
      },
      "execution_count": 3,
      "outputs": [
        {
          "output_type": "stream",
          "name": "stdout",
          "text": [
            "Downloading data from https://storage.googleapis.com/tensorflow/tf-keras-datasets/mnist.npz\n",
            "11490434/11490434 [==============================] - 0s 0us/step\n"
          ]
        }
      ]
    },
    {
      "cell_type": "code",
      "source": [
        "plt.imshow(X_train[0])"
      ],
      "metadata": {
        "colab": {
          "base_uri": "https://localhost:8080/",
          "height": 448
        },
        "id": "WCwC_mA7murU",
        "outputId": "f89552b1-fc70-4556-b061-bea50edcdd60"
      },
      "execution_count": 4,
      "outputs": [
        {
          "output_type": "execute_result",
          "data": {
            "text/plain": [
              "<matplotlib.image.AxesImage at 0x7e7070441900>"
            ]
          },
          "metadata": {},
          "execution_count": 4
        },
        {
          "output_type": "display_data",
          "data": {
            "text/plain": [
              "<Figure size 640x480 with 1 Axes>"
            ],
            "image/png": "[encoded data removed]"
          },
          "metadata": {}
        }
      ]
    },
    {
      "cell_type": "code",
      "source": [
        "y_train"
      ],
      "metadata": {
        "colab": {
          "base_uri": "https://localhost:8080/"
        },
        "id": "TRSGIrs4O0n2",
        "outputId": "fa365891-ebfa-41f3-9e06-3147de78c25f"
      },
      "execution_count": 5,
      "outputs": [
        {
          "output_type": "execute_result",
          "data": {
            "text/plain": [
              "array([5, 0, 4, ..., 5, 6, 8], dtype=uint8)"
            ]
          },
          "metadata": {},
          "execution_count": 5
        }
      ]
    },
    {
      "cell_type": "code",
      "source": [
        "X_train = X_train/255"
      ],
      "metadata": {
        "id": "lk0tvnuwcMhN"
      },
      "execution_count": 6,
      "outputs": []
    },
    {
      "cell_type": "code",
      "source": [
        "X_train = X_train.reshape(-1, 28, 28, 1) * 2. - 1."
      ],
      "metadata": {
        "id": "ugkgK2fNcQP4"
      },
      "execution_count": 7,
      "outputs": []
    },
    {
      "cell_type": "code",
      "source": [
        "X_train.min(), X_train.max()"
      ],
      "metadata": {
        "colab": {
          "base_uri": "https://localhost:8080/"
        },
        "id": "xRrmYPYBcP4V",
        "outputId": "9ebbb5ea-2395-4e86-94fc-eea2320c9cda"
      },
      "execution_count": 8,
      "outputs": [
        {
          "output_type": "execute_result",
          "data": {
            "text/plain": [
              "(-1.0, 1.0)"
            ]
          },
          "metadata": {},
          "execution_count": 8
        }
      ]
    },
    {
      "cell_type": "code",
      "source": [
        "only_zeros = X_train[y_train==0]"
      ],
      "metadata": {
        "id": "5GsOpcUqO2K1"
      },
      "execution_count": 9,
      "outputs": []
    },
    {
      "cell_type": "code",
      "source": [
        "only_zeros.shape"
      ],
      "metadata": {
        "colab": {
          "base_uri": "https://localhost:8080/"
        },
        "id": "hm8SmVw_O428",
        "outputId": "b083d543-814e-4150-8f6a-a0b41896a9e8"
      },
      "execution_count": 10,
      "outputs": [
        {
          "output_type": "execute_result",
          "data": {
            "text/plain": [
              "(5923, 28, 28, 1)"
            ]
          },
          "metadata": {},
          "execution_count": 10
        }
      ]
    },
    {
      "cell_type": "code",
      "source": [
        "plt.imshow(only_zeros[950])"
      ],
      "metadata": {
        "colab": {
          "base_uri": "https://localhost:8080/",
          "height": 448
        },
        "id": "rI98ABVBO6rF",
        "outputId": "2cc58495-4e36-48a3-a07f-96a7e48d9c21"
      },
      "execution_count": 11,
      "outputs": [
        {
          "output_type": "execute_result",
          "data": {
            "text/plain": [
              "<matplotlib.image.AxesImage at 0x7e706cf1e110>"
            ]
          },
          "metadata": {},
          "execution_count": 11
        },
        {
          "output_type": "display_data",
          "data": {
            "text/plain": [
              "<Figure size 640x480 with 1 Axes>"
            ],
            "image/png": "[encoded data removed]"
          },
          "metadata": {}
        }
      ]
    },
    {
      "cell_type": "code",
      "source": [
        "import tensorflow as tf\n",
        "from tensorflow.keras.layers import Dense,Reshape,Dropout,LeakyReLU,Flatten,BatchNormalization,Conv2D,Conv2DTranspose\n",
        "from tensorflow.keras.models import Sequential"
      ],
      "metadata": {
        "id": "7p2u7xkjO8ie"
      },
      "execution_count": 14,
      "outputs": []
    },
    {
      "cell_type": "code",
      "source": [
        "np.random.seed(42)\n",
        "tf.random.set_seed(42)\n",
        "\n",
        "# input size for generator, original size is 784 (28*28)\n",
        "codings_size = 100"
      ],
      "metadata": {
        "id": "48O3XQ_MPAfB"
      },
      "execution_count": 13,
      "outputs": []
    },
    {
      "cell_type": "code",
      "source": [
        "generator = Sequential()\n",
        "generator.add(Dense(7 * 7 * 128, input_shape=[codings_size]))\n",
        "generator.add(Reshape([7, 7, 128]))\n",
        "generator.add(BatchNormalization())\n",
        "generator.add(Conv2DTranspose(64, kernel_size=5, strides=2, padding=\"same\",\n",
        "                                 activation=\"relu\"))\n",
        "generator.add(BatchNormalization())\n",
        "generator.add(Conv2DTranspose(1, kernel_size=5, strides=2, padding=\"same\",\n",
        "                                 activation=\"tanh\"))"
      ],
      "metadata": {
        "id": "Z5Ze82AsPCgl"
      },
      "execution_count": 15,
      "outputs": []
    },
    {
      "cell_type": "code",
      "source": [
        "discriminator = Sequential()\n",
        "discriminator.add(Conv2D(64, kernel_size=5, strides=2, padding=\"same\",\n",
        "                        activation=LeakyReLU(0.3),\n",
        "                        input_shape=[28, 28, 1]))\n",
        "discriminator.add(Dropout(0.5))\n",
        "discriminator.add(Conv2D(128, kernel_size=5, strides=2, padding=\"same\",\n",
        "                        activation=LeakyReLU(0.3)))\n",
        "discriminator.add(Dropout(0.5))\n",
        "discriminator.add(Flatten())\n",
        "discriminator.add(Dense(1, activation=\"sigmoid\"))"
      ],
      "metadata": {
        "id": "ivXpQXWnQHDp"
      },
      "execution_count": 16,
      "outputs": []
    },
    {
      "cell_type": "code",
      "source": [
        "GAN = Sequential([generator, discriminator])"
      ],
      "metadata": {
        "id": "6sr3jWGGQJiU"
      },
      "execution_count": 17,
      "outputs": []
    },
    {
      "cell_type": "code",
      "source": [
        "discriminator.compile(loss=\"binary_crossentropy\", optimizer=\"adam\")\n",
        "discriminator.trainable = False"
      ],
      "metadata": {
        "id": "Y-aLxyDvRqQk"
      },
      "execution_count": 18,
      "outputs": []
    },
    {
      "cell_type": "code",
      "source": [
        "GAN.compile(loss=\"binary_crossentropy\", optimizer=\"adam\")"
      ],
      "metadata": {
        "id": "TWGyvzj9Rr7F"
      },
      "execution_count": 19,
      "outputs": []
    },
    {
      "cell_type": "code",
      "source": [
        "GAN.layers"
      ],
      "metadata": {
        "colab": {
          "base_uri": "https://localhost:8080/"
        },
        "id": "FjWogziMRtnD",
        "outputId": "c2e7fb00-0bc0-42f2-ed0c-d56272793868"
      },
      "execution_count": 20,
      "outputs": [
        {
          "output_type": "execute_result",
          "data": {
            "text/plain": [
              "[<keras.src.engine.sequential.Sequential at 0x7e706f7ea110>,\n",
              " <keras.src.engine.sequential.Sequential at 0x7e706f7eb7f0>]"
            ]
          },
          "metadata": {},
          "execution_count": 20
        }
      ]
    },
    {
      "cell_type": "code",
      "source": [
        "GAN.summary()"
      ],
      "metadata": {
        "id": "9n8Gj4G0SMNz",
        "outputId": "58df992c-dfe6-46f8-c4f1-4d9685ce4808",
        "colab": {
          "base_uri": "https://localhost:8080/"
        }
      },
      "execution_count": 21,
      "outputs": [
        {
          "output_type": "stream",
          "name": "stdout",
          "text": [
            "Model: \"sequential_2\"\n",
            "_________________________________________________________________\n",
            " Layer (type)                Output Shape              Param #   \n",
            "=================================================================\n",
            " sequential (Sequential)     (None, 28, 28, 1)         840705    \n",
            "                                                                 \n",
            " sequential_1 (Sequential)   (None, 1)                 212865    \n",
            "                                                                 \n",
            "=================================================================\n",
            "Total params: 1053570 (4.02 MB)\n",
            "Trainable params: 840321 (3.21 MB)\n",
            "Non-trainable params: 213249 (833.00 KB)\n",
            "_________________________________________________________________\n"
          ]
        }
      ]
    },
    {
      "cell_type": "markdown",
      "source": [
        "## Set up Training Batches"
      ],
      "metadata": {
        "id": "6JfhwVCESu9M"
      }
    },
    {
      "cell_type": "code",
      "source": [
        "import tensorflow as tf"
      ],
      "metadata": {
        "id": "uNUEpRhnSuYo"
      },
      "execution_count": 22,
      "outputs": []
    },
    {
      "cell_type": "code",
      "source": [
        "batch_size = 32"
      ],
      "metadata": {
        "id": "5-oixZf2S0Gv"
      },
      "execution_count": 23,
      "outputs": []
    },
    {
      "cell_type": "code",
      "source": [
        "my_data = only_zeros"
      ],
      "metadata": {
        "id": "hGfIrORUS1g-"
      },
      "execution_count": 24,
      "outputs": []
    },
    {
      "cell_type": "code",
      "source": [
        "dataset = tf.data.Dataset.from_tensor_slices(my_data).shuffle(buffer_size=1000)"
      ],
      "metadata": {
        "id": "ipogJfjnS5B1"
      },
      "execution_count": 25,
      "outputs": []
    },
    {
      "cell_type": "code",
      "source": [
        "type(dataset)"
      ],
      "metadata": {
        "id": "WvdjwTMpS7Pp",
        "outputId": "b65ea743-bbd2-41ec-d542-9b92f6a0573f",
        "colab": {
          "base_uri": "https://localhost:8080/",
          "height": 121
        }
      },
      "execution_count": 26,
      "outputs": [
        {
          "output_type": "execute_result",
          "data": {
            "text/plain": [
              "tensorflow.python.data.ops.shuffle_op._ShuffleDataset"
            ],
            "text/html": [
              "<div style=\"max-width:800px; border: 1px solid var(--colab-border-color);\"><style>\n",
              "      pre.function-repr-contents {\n",
              "        overflow-x: auto;\n",
              "        padding: 8px 12px;\n",
              "        max-height: 500px;\n",
              "      }\n",
              "\n",
              "      pre.function-repr-contents.function-repr-contents-collapsed {\n",
              "        cursor: pointer;\n",
              "        max-height: 100px;\n",
              "      }\n",
              "    </style>\n",
              "    <pre style=\"white-space: initial; background:\n",
              "         var(--colab-secondary-surface-color); padding: 8px 12px;\n",
              "         border-bottom: 1px solid var(--colab-border-color);\"><b>tensorflow.python.data.ops.shuffle_op._ShuffleDataset</b><br/>def __init__(input_dataset, buffer_size, seed=None, reshuffle_each_iteration=None, name=None)</pre><pre class=\"function-repr-contents function-repr-contents-collapsed\" style=\"\"><a class=\"filepath\" style=\"display:none\" href=\"#\">/usr/local/lib/python3.10/dist-packages/tensorflow/python/data/ops/shuffle_op.py</a>A `Dataset` that randomly shuffles the elements of its input.</pre>\n",
              "      <script>\n",
              "      if (google.colab.kernel.accessAllowed && google.colab.files && google.colab.files.view) {\n",
              "        for (const element of document.querySelectorAll('.filepath')) {\n",
              "          element.style.display = 'block'\n",
              "          element.onclick = (event) => {\n",
              "            event.preventDefault();\n",
              "            event.stopPropagation();\n",
              "            google.colab.files.view(element.textContent, 35);\n",
              "          };\n",
              "        }\n",
              "      }\n",
              "      for (const element of document.querySelectorAll('.function-repr-contents')) {\n",
              "        element.onclick = (event) => {\n",
              "          event.preventDefault();\n",
              "          event.stopPropagation();\n",
              "          element.classList.toggle('function-repr-contents-collapsed');\n",
              "        };\n",
              "      }\n",
              "      </script>\n",
              "      </div>"
            ]
          },
          "metadata": {},
          "execution_count": 26
        }
      ]
    },
    {
      "cell_type": "code",
      "source": [
        "dataset = dataset.batch(batch_size, drop_remainder=True).prefetch(1)"
      ],
      "metadata": {
        "id": "MDJHBcmhS9pe"
      },
      "execution_count": 27,
      "outputs": []
    },
    {
      "cell_type": "code",
      "source": [
        "epochs = 20"
      ],
      "metadata": {
        "id": "NsQVwtJaTeGW"
      },
      "execution_count": 28,
      "outputs": []
    },
    {
      "cell_type": "markdown",
      "source": [
        "## Training Loop"
      ],
      "metadata": {
        "id": "b53qAZ4rTj7Z"
      }
    },
    {
      "cell_type": "code",
      "source": [
        "# Grab the seprate components\n",
        "generator, discriminator = GAN.layers\n",
        "\n",
        "# For every epcoh\n",
        "for epoch in range(epochs):\n",
        "    print(f\"Currently on Epoch {epoch+1}\")\n",
        "    i = 0\n",
        "    # For every batch in the dataset\n",
        "    for X_batch in dataset:\n",
        "        i=i+1\n",
        "        if i%20 == 0:\n",
        "            print(f\"\\tCurrently on batch number {i} of {len(my_data)//batch_size}\")\n",
        "        #####################################\n",
        "        ## TRAINING THE DISCRIMINATOR ######\n",
        "        ###################################\n",
        "\n",
        "        # Create Noise\n",
        "        noise = tf.random.normal(shape=[batch_size, codings_size])\n",
        "\n",
        "        # Generate numbers based just on noise input\n",
        "        gen_images = generator(noise)\n",
        "\n",
        "        # Concatenate Generated Images against the Real Ones\n",
        "        # TO use tf.concat, the data types must match!\n",
        "        X_fake_vs_real = tf.concat([gen_images, tf.dtypes.cast(X_batch,tf.float32)], axis=0)\n",
        "\n",
        "        # Targets set to zero for fake images and 1 for real images\n",
        "        y1 = tf.constant([[0.]] * batch_size + [[1.]] * batch_size)\n",
        "\n",
        "        # This gets rid of a Keras warning\n",
        "        discriminator.trainable = True\n",
        "\n",
        "        # Train the discriminator on this batch\n",
        "        discriminator.train_on_batch(X_fake_vs_real, y1)\n",
        "\n",
        "\n",
        "        #####################################\n",
        "        ## TRAINING THE GENERATOR     ######\n",
        "        ###################################\n",
        "\n",
        "        # Create some noise\n",
        "        noise = tf.random.normal(shape=[batch_size, codings_size])\n",
        "\n",
        "        # We want discriminator to belive that fake images are real\n",
        "        y2 = tf.constant([[1.]] * batch_size)\n",
        "\n",
        "        # Avois a warning\n",
        "        discriminator.trainable = False\n",
        "\n",
        "        GAN.train_on_batch(noise, y2)\n",
        "\n",
        "print(\"TRAINING COMPLETE\")"
      ],
      "metadata": {
        "id": "3wYqlwPmTgb8",
        "outputId": "3cdea26c-b433-4a78-df00-c0a1ea379c8d",
        "colab": {
          "base_uri": "https://localhost:8080/"
        }
      },
      "execution_count": 29,
      "outputs": [
        {
          "output_type": "stream",
          "name": "stdout",
          "text": [
            "Currently on Epoch 1\n",
            "\tCurrently on batch number 20 of 185\n",
            "\tCurrently on batch number 40 of 185\n",
            "\tCurrently on batch number 60 of 185\n",
            "\tCurrently on batch number 80 of 185\n",
            "\tCurrently on batch number 100 of 185\n",
            "\tCurrently on batch number 120 of 185\n",
            "\tCurrently on batch number 140 of 185\n",
            "\tCurrently on batch number 160 of 185\n",
            "\tCurrently on batch number 180 of 185\n",
            "Currently on Epoch 2\n",
            "\tCurrently on batch number 20 of 185\n",
            "\tCurrently on batch number 40 of 185\n",
            "\tCurrently on batch number 60 of 185\n",
            "\tCurrently on batch number 80 of 185\n",
            "\tCurrently on batch number 100 of 185\n",
            "\tCurrently on batch number 120 of 185\n",
            "\tCurrently on batch number 140 of 185\n",
            "\tCurrently on batch number 160 of 185\n",
            "\tCurrently on batch number 180 of 185\n",
            "Currently on Epoch 3\n",
            "\tCurrently on batch number 20 of 185\n",
            "\tCurrently on batch number 40 of 185\n",
            "\tCurrently on batch number 60 of 185\n",
            "\tCurrently on batch number 80 of 185\n",
            "\tCurrently on batch number 100 of 185\n",
            "\tCurrently on batch number 120 of 185\n",
            "\tCurrently on batch number 140 of 185\n",
            "\tCurrently on batch number 160 of 185\n",
            "\tCurrently on batch number 180 of 185\n",
            "Currently on Epoch 4\n",
            "\tCurrently on batch number 20 of 185\n",
            "\tCurrently on batch number 40 of 185\n",
            "\tCurrently on batch number 60 of 185\n",
            "\tCurrently on batch number 80 of 185\n",
            "\tCurrently on batch number 100 of 185\n",
            "\tCurrently on batch number 120 of 185\n",
            "\tCurrently on batch number 140 of 185\n",
            "\tCurrently on batch number 160 of 185\n",
            "\tCurrently on batch number 180 of 185\n",
            "Currently on Epoch 5\n",
            "\tCurrently on batch number 20 of 185\n",
            "\tCurrently on batch number 40 of 185\n",
            "\tCurrently on batch number 60 of 185\n",
            "\tCurrently on batch number 80 of 185\n",
            "\tCurrently on batch number 100 of 185\n",
            "\tCurrently on batch number 120 of 185\n",
            "\tCurrently on batch number 140 of 185\n",
            "\tCurrently on batch number 160 of 185\n",
            "\tCurrently on batch number 180 of 185\n",
            "Currently on Epoch 6\n",
            "\tCurrently on batch number 20 of 185\n",
            "\tCurrently on batch number 40 of 185\n",
            "\tCurrently on batch number 60 of 185\n",
            "\tCurrently on batch number 80 of 185\n",
            "\tCurrently on batch number 100 of 185\n",
            "\tCurrently on batch number 120 of 185\n",
            "\tCurrently on batch number 140 of 185\n",
            "\tCurrently on batch number 160 of 185\n",
            "\tCurrently on batch number 180 of 185\n",
            "Currently on Epoch 7\n",
            "\tCurrently on batch number 20 of 185\n",
            "\tCurrently on batch number 40 of 185\n",
            "\tCurrently on batch number 60 of 185\n",
            "\tCurrently on batch number 80 of 185\n",
            "\tCurrently on batch number 100 of 185\n",
            "\tCurrently on batch number 120 of 185\n",
            "\tCurrently on batch number 140 of 185\n",
            "\tCurrently on batch number 160 of 185\n",
            "\tCurrently on batch number 180 of 185\n",
            "Currently on Epoch 8\n",
            "\tCurrently on batch number 20 of 185\n",
            "\tCurrently on batch number 40 of 185\n",
            "\tCurrently on batch number 60 of 185\n",
            "\tCurrently on batch number 80 of 185\n",
            "\tCurrently on batch number 100 of 185\n",
            "\tCurrently on batch number 120 of 185\n",
            "\tCurrently on batch number 140 of 185\n",
            "\tCurrently on batch number 160 of 185\n",
            "\tCurrently on batch number 180 of 185\n",
            "Currently on Epoch 9\n",
            "\tCurrently on batch number 20 of 185\n",
            "\tCurrently on batch number 40 of 185\n",
            "\tCurrently on batch number 60 of 185\n",
            "\tCurrently on batch number 80 of 185\n",
            "\tCurrently on batch number 100 of 185\n",
            "\tCurrently on batch number 120 of 185\n",
            "\tCurrently on batch number 140 of 185\n",
            "\tCurrently on batch number 160 of 185\n",
            "\tCurrently on batch number 180 of 185\n",
            "Currently on Epoch 10\n",
            "\tCurrently on batch number 20 of 185\n",
            "\tCurrently on batch number 40 of 185\n",
            "\tCurrently on batch number 60 of 185\n",
            "\tCurrently on batch number 80 of 185\n",
            "\tCurrently on batch number 100 of 185\n",
            "\tCurrently on batch number 120 of 185\n",
            "\tCurrently on batch number 140 of 185\n",
            "\tCurrently on batch number 160 of 185\n",
            "\tCurrently on batch number 180 of 185\n",
            "Currently on Epoch 11\n",
            "\tCurrently on batch number 20 of 185\n",
            "\tCurrently on batch number 40 of 185\n",
            "\tCurrently on batch number 60 of 185\n",
            "\tCurrently on batch number 80 of 185\n",
            "\tCurrently on batch number 100 of 185\n",
            "\tCurrently on batch number 120 of 185\n",
            "\tCurrently on batch number 140 of 185\n",
            "\tCurrently on batch number 160 of 185\n",
            "\tCurrently on batch number 180 of 185\n",
            "Currently on Epoch 12\n",
            "\tCurrently on batch number 20 of 185\n",
            "\tCurrently on batch number 40 of 185\n",
            "\tCurrently on batch number 60 of 185\n",
            "\tCurrently on batch number 80 of 185\n",
            "\tCurrently on batch number 100 of 185\n",
            "\tCurrently on batch number 120 of 185\n",
            "\tCurrently on batch number 140 of 185\n",
            "\tCurrently on batch number 160 of 185\n",
            "\tCurrently on batch number 180 of 185\n",
            "Currently on Epoch 13\n",
            "\tCurrently on batch number 20 of 185\n",
            "\tCurrently on batch number 40 of 185\n",
            "\tCurrently on batch number 60 of 185\n",
            "\tCurrently on batch number 80 of 185\n",
            "\tCurrently on batch number 100 of 185\n",
            "\tCurrently on batch number 120 of 185\n",
            "\tCurrently on batch number 140 of 185\n",
            "\tCurrently on batch number 160 of 185\n",
            "\tCurrently on batch number 180 of 185\n",
            "Currently on Epoch 14\n",
            "\tCurrently on batch number 20 of 185\n",
            "\tCurrently on batch number 40 of 185\n",
            "\tCurrently on batch number 60 of 185\n",
            "\tCurrently on batch number 80 of 185\n",
            "\tCurrently on batch number 100 of 185\n",
            "\tCurrently on batch number 120 of 185\n",
            "\tCurrently on batch number 140 of 185\n",
            "\tCurrently on batch number 160 of 185\n",
            "\tCurrently on batch number 180 of 185\n",
            "Currently on Epoch 15\n",
            "\tCurrently on batch number 20 of 185\n",
            "\tCurrently on batch number 40 of 185\n",
            "\tCurrently on batch number 60 of 185\n",
            "\tCurrently on batch number 80 of 185\n",
            "\tCurrently on batch number 100 of 185\n",
            "\tCurrently on batch number 120 of 185\n",
            "\tCurrently on batch number 140 of 185\n",
            "\tCurrently on batch number 160 of 185\n",
            "\tCurrently on batch number 180 of 185\n",
            "Currently on Epoch 16\n",
            "\tCurrently on batch number 20 of 185\n",
            "\tCurrently on batch number 40 of 185\n",
            "\tCurrently on batch number 60 of 185\n",
            "\tCurrently on batch number 80 of 185\n",
            "\tCurrently on batch number 100 of 185\n",
            "\tCurrently on batch number 120 of 185\n",
            "\tCurrently on batch number 140 of 185\n",
            "\tCurrently on batch number 160 of 185\n",
            "\tCurrently on batch number 180 of 185\n",
            "Currently on Epoch 17\n",
            "\tCurrently on batch number 20 of 185\n",
            "\tCurrently on batch number 40 of 185\n",
            "\tCurrently on batch number 60 of 185\n",
            "\tCurrently on batch number 80 of 185\n",
            "\tCurrently on batch number 100 of 185\n",
            "\tCurrently on batch number 120 of 185\n",
            "\tCurrently on batch number 140 of 185\n",
            "\tCurrently on batch number 160 of 185\n",
            "\tCurrently on batch number 180 of 185\n",
            "Currently on Epoch 18\n",
            "\tCurrently on batch number 20 of 185\n",
            "\tCurrently on batch number 40 of 185\n",
            "\tCurrently on batch number 60 of 185\n",
            "\tCurrently on batch number 80 of 185\n",
            "\tCurrently on batch number 100 of 185\n",
            "\tCurrently on batch number 120 of 185\n",
            "\tCurrently on batch number 140 of 185\n",
            "\tCurrently on batch number 160 of 185\n",
            "\tCurrently on batch number 180 of 185\n",
            "Currently on Epoch 19\n",
            "\tCurrently on batch number 20 of 185\n",
            "\tCurrently on batch number 40 of 185\n",
            "\tCurrently on batch number 60 of 185\n",
            "\tCurrently on batch number 80 of 185\n",
            "\tCurrently on batch number 100 of 185\n",
            "\tCurrently on batch number 120 of 185\n",
            "\tCurrently on batch number 140 of 185\n",
            "\tCurrently on batch number 160 of 185\n",
            "\tCurrently on batch number 180 of 185\n",
            "Currently on Epoch 20\n",
            "\tCurrently on batch number 20 of 185\n",
            "\tCurrently on batch number 40 of 185\n",
            "\tCurrently on batch number 60 of 185\n",
            "\tCurrently on batch number 80 of 185\n",
            "\tCurrently on batch number 100 of 185\n",
            "\tCurrently on batch number 120 of 185\n",
            "\tCurrently on batch number 140 of 185\n",
            "\tCurrently on batch number 160 of 185\n",
            "\tCurrently on batch number 180 of 185\n",
            "TRAINING COMPLETE\n"
          ]
        }
      ]
    },
    {
      "cell_type": "code",
      "source": [
        "# generate 10 fake images, of size 100\n",
        "noise = tf.random.normal(shape=[10, codings_size])"
      ],
      "metadata": {
        "id": "Er0DdPrCW3i1"
      },
      "execution_count": 30,
      "outputs": []
    },
    {
      "cell_type": "code",
      "source": [
        "noise.shape"
      ],
      "metadata": {
        "id": "_BwcZ8T3W4l_",
        "outputId": "52ef79d0-3cf6-4c7b-8fcb-87c523019423",
        "colab": {
          "base_uri": "https://localhost:8080/"
        }
      },
      "execution_count": 31,
      "outputs": [
        {
          "output_type": "execute_result",
          "data": {
            "text/plain": [
              "TensorShape([10, 100])"
            ]
          },
          "metadata": {},
          "execution_count": 31
        }
      ]
    },
    {
      "cell_type": "code",
      "source": [
        "plt.imshow(noise)"
      ],
      "metadata": {
        "id": "xCZVIc1CW7zc",
        "outputId": "f2bbc61a-f83c-478d-b29a-6802616e44c3",
        "colab": {
          "base_uri": "https://localhost:8080/",
          "height": 131
        }
      },
      "execution_count": 32,
      "outputs": [
        {
          "output_type": "execute_result",
          "data": {
            "text/plain": [
              "<matplotlib.image.AxesImage at 0x7e7068117490>"
            ]
          },
          "metadata": {},
          "execution_count": 32
        },
        {
          "output_type": "display_data",
          "data": {
            "text/plain": [
              "<Figure size 640x480 with 1 Axes>"
            ],
            "image/png": "[encoded data removed]"
          },
          "metadata": {}
        }
      ]
    },
    {
      "cell_type": "code",
      "source": [
        "images = generator(noise)"
      ],
      "metadata": {
        "id": "OTx6KJadW-9u"
      },
      "execution_count": 36,
      "outputs": []
    },
    {
      "cell_type": "code",
      "source": [
        "plt.imshow(images[5])"
      ],
      "metadata": {
        "id": "TmHOJQO-XDWQ",
        "outputId": "0ecb34cd-e884-42c5-ee5b-478e5cc233e6",
        "colab": {
          "base_uri": "https://localhost:8080/",
          "height": 448
        }
      },
      "execution_count": 37,
      "outputs": [
        {
          "output_type": "execute_result",
          "data": {
            "text/plain": [
              "<matplotlib.image.AxesImage at 0x7e705836d360>"
            ]
          },
          "metadata": {},
          "execution_count": 37
        },
        {
          "output_type": "display_data",
          "data": {
            "text/plain": [
              "<Figure size 640x480 with 1 Axes>"
            ],
            "image/png": "[encoded data removed]"
          },
          "metadata": {}
        }
      ]
    },
    {
      "cell_type": "code",
      "source": [
        "for image in images:\n",
        "    plt.imshow(image.numpy().reshape(28,28))\n",
        "    plt.show()"
      ],
      "metadata": {
        "id": "xoNtJSPYXFoG",
        "outputId": "a7df2dc4-6b13-48ea-c60f-3636e050fedb",
        "colab": {
          "base_uri": "https://localhost:8080/",
          "height": 1000
        }
      },
      "execution_count": 38,
      "outputs": [
        {
          "output_type": "display_data",
          "data": {
            "text/plain": [
              "<Figure size 640x480 with 1 Axes>"
            ],
            "image/png": "[encoded data removed]"
          },
          "metadata": {}
        },
        {
          "output_type": "display_data",
          "data": {
            "text/plain": [
              "<Figure size 640x480 with 1 Axes>"
            ],
            "image/png": "[encoded data removed]"
          },
          "metadata": {}
        },
        {
          "output_type": "display_data",
          "data": {
            "text/plain": [
              "<Figure size 640x480 with 1 Axes>"
            ],
            "image/png": "[encoded data removed]"
          },
          "metadata": {}
        },
        {
          "output_type": "display_data",
          "data": {
            "text/plain": [
              "<Figure size 640x480 with 1 Axes>"
            ],
            "image/png": "[encoded data removed]"
          },
          "metadata": {}
        },
        {
          "output_type": "display_data",
          "data": {
            "text/plain": [
              "<Figure size 640x480 with 1 Axes>"
            ],
            "image/png": "[encoded data removed]"
          },
          "metadata": {}
        },
        {
          "output_type": "display_data",
          "data": {
            "text/plain": [
              "<Figure size 640x480 with 1 Axes>"
            ],
            "image/png": "[encoded data removed]"
          },
          "metadata": {}
        },
        {
          "output_type": "display_data",
          "data": {
            "text/plain": [
              "<Figure size 640x480 with 1 Axes>"
            ],
            "image/png": "[encoded data removed]"
          },
          "metadata": {}
        },
        {
          "output_type": "display_data",
          "data": {
            "text/plain": [
              "<Figure size 640x480 with 1 Axes>"
            ],
            "image/png": "[encoded data removed]"
          },
          "metadata": {}
        },
        {
          "output_type": "display_data",
          "data": {
            "text/plain": [
              "<Figure size 640x480 with 1 Axes>"
            ],
            "image/png": "[encoded data removed]"
          },
          "metadata": {}
        },
        {
          "output_type": "display_data",
          "data": {
            "text/plain": [
              "<Figure size 640x480 with 1 Axes>"
            ],
            "image/png": "[encoded data removed]"
          },
          "metadata": {}
        }
      ]
    },
    {
      "cell_type": "code",
      "source": [],
      "metadata": {
        "id": "QI8OYvPxYCeG"
      },
      "execution_count": null,
      "outputs": []
    }
  ]
}