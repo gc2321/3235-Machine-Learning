{
  "nbformat": 4,
  "nbformat_minor": 0,
  "metadata": {
    "colab": {
      "provenance": [],
      "authorship_tag": "ABX9TyNxtiAeuARb0m2vJ81oc+Sw",
      "include_colab_link": true
    },
    "kernelspec": {
      "name": "python3",
      "display_name": "Python 3"
    },
    "language_info": {
      "name": "python"
    }
  },
  "cells": [
    {
      "cell_type": "markdown",
      "metadata": {
        "id": "view-in-github",
        "colab_type": "text"
      },
      "source": [
        "<a href=\"https://colab.research.google.com/github/gc2321/3235-Machine-Learning/blob/main/XTRA_NLP/5_topic_modeling.ipynb\" target=\"_parent\"><img src=\"https://colab.research.google.com/assets/colab-badge.svg\" alt=\"Open In Colab\"/></a>"
      ]
    },
    {
      "cell_type": "code",
      "source": [
        "from google.colab import files\n",
        "uploaded = files.upload()"
      ],
      "metadata": {
        "colab": {
          "base_uri": "https://localhost:8080/",
          "height": 71
        },
        "id": "S1D9XM-2NXrH",
        "outputId": "231f3188-2812-4d12-9076-3b207b37580e"
      },
      "execution_count": 1,
      "outputs": [
        {
          "output_type": "display_data",
          "data": {
            "text/plain": [
              "<IPython.core.display.HTML object>"
            ],
            "text/html": [
              "\n",
              "     <input type=\"file\" id=\"files-e6951610-f206-410f-a08b-aa029e7c2888\" name=\"files[]\" multiple disabled\n",
              "        style=\"border:none\" />\n",
              "     <output id=\"result-e6951610-f206-410f-a08b-aa029e7c2888\">\n",
              "      Upload widget is only available when the cell has been executed in the\n",
              "      current browser session. Please rerun this cell to enable.\n",
              "      </output>\n",
              "      <script>// Copyright 2017 Google LLC\n",
              "//\n",
              "// Licensed under the Apache License, Version 2.0 (the \"License\");\n",
              "// you may not use this file except in compliance with the License.\n",
              "// You may obtain a copy of the License at\n",
              "//\n",
              "//      http://www.apache.org/licenses/LICENSE-2.0\n",
              "//\n",
              "// Unless required by applicable law or agreed to in writing, software\n",
              "// distributed under the License is distributed on an \"AS IS\" BASIS,\n",
              "// WITHOUT WARRANTIES OR CONDITIONS OF ANY KIND, either express or implied.\n",
              "// See the License for the specific language governing permissions and\n",
              "// limitations under the License.\n",
              "\n",
              "/**\n",
              " * @fileoverview Helpers for google.colab Python module.\n",
              " */\n",
              "(function(scope) {\n",
              "function span(text, styleAttributes = {}) {\n",
              "  const element = document.createElement('span');\n",
              "  element.textContent = text;\n",
              "  for (const key of Object.keys(styleAttributes)) {\n",
              "    element.style[key] = styleAttributes[key];\n",
              "  }\n",
              "  return element;\n",
              "}\n",
              "\n",
              "// Max number of bytes which will be uploaded at a time.\n",
              "const MAX_PAYLOAD_SIZE = 100 * 1024;\n",
              "\n",
              "function _uploadFiles(inputId, outputId) {\n",
              "  const steps = uploadFilesStep(inputId, outputId);\n",
              "  const outputElement = document.getElementById(outputId);\n",
              "  // Cache steps on the outputElement to make it available for the next call\n",
              "  // to uploadFilesContinue from Python.\n",
              "  outputElement.steps = steps;\n",
              "\n",
              "  return _uploadFilesContinue(outputId);\n",
              "}\n",
              "\n",
              "// This is roughly an async generator (not supported in the browser yet),\n",
              "// where there are multiple asynchronous steps and the Python side is going\n",
              "// to poll for completion of each step.\n",
              "// This uses a Promise to block the python side on completion of each step,\n",
              "// then passes the result of the previous step as the input to the next step.\n",
              "function _uploadFilesContinue(outputId) {\n",
              "  const outputElement = document.getElementById(outputId);\n",
              "  const steps = outputElement.steps;\n",
              "\n",
              "  const next = steps.next(outputElement.lastPromiseValue);\n",
              "  return Promise.resolve(next.value.promise).then((value) => {\n",
              "    // Cache the last promise value to make it available to the next\n",
              "    // step of the generator.\n",
              "    outputElement.lastPromiseValue = value;\n",
              "    return next.value.response;\n",
              "  });\n",
              "}\n",
              "\n",
              "/**\n",
              " * Generator function which is called between each async step of the upload\n",
              " * process.\n",
              " * @param {string} inputId Element ID of the input file picker element.\n",
              " * @param {string} outputId Element ID of the output display.\n",
              " * @return {!Iterable<!Object>} Iterable of next steps.\n",
              " */\n",
              "function* uploadFilesStep(inputId, outputId) {\n",
              "  const inputElement = document.getElementById(inputId);\n",
              "  inputElement.disabled = false;\n",
              "\n",
              "  const outputElement = document.getElementById(outputId);\n",
              "  outputElement.innerHTML = '';\n",
              "\n",
              "  const pickedPromise = new Promise((resolve) => {\n",
              "    inputElement.addEventListener('change', (e) => {\n",
              "      resolve(e.target.files);\n",
              "    });\n",
              "  });\n",
              "\n",
              "  const cancel = document.createElement('button');\n",
              "  inputElement.parentElement.appendChild(cancel);\n",
              "  cancel.textContent = 'Cancel upload';\n",
              "  const cancelPromise = new Promise((resolve) => {\n",
              "    cancel.onclick = () => {\n",
              "      resolve(null);\n",
              "    };\n",
              "  });\n",
              "\n",
              "  // Wait for the user to pick the files.\n",
              "  const files = yield {\n",
              "    promise: Promise.race([pickedPromise, cancelPromise]),\n",
              "    response: {\n",
              "      action: 'starting',\n",
              "    }\n",
              "  };\n",
              "\n",
              "  cancel.remove();\n",
              "\n",
              "  // Disable the input element since further picks are not allowed.\n",
              "  inputElement.disabled = true;\n",
              "\n",
              "  if (!files) {\n",
              "    return {\n",
              "      response: {\n",
              "        action: 'complete',\n",
              "      }\n",
              "    };\n",
              "  }\n",
              "\n",
              "  for (const file of files) {\n",
              "    const li = document.createElement('li');\n",
              "    li.append(span(file.name, {fontWeight: 'bold'}));\n",
              "    li.append(span(\n",
              "        `(${file.type || 'n/a'}) - ${file.size} bytes, ` +\n",
              "        `last modified: ${\n",
              "            file.lastModifiedDate ? file.lastModifiedDate.toLocaleDateString() :\n",
              "                                    'n/a'} - `));\n",
              "    const percent = span('0% done');\n",
              "    li.appendChild(percent);\n",
              "\n",
              "    outputElement.appendChild(li);\n",
              "\n",
              "    const fileDataPromise = new Promise((resolve) => {\n",
              "      const reader = new FileReader();\n",
              "      reader.onload = (e) => {\n",
              "        resolve(e.target.result);\n",
              "      };\n",
              "      reader.readAsArrayBuffer(file);\n",
              "    });\n",
              "    // Wait for the data to be ready.\n",
              "    let fileData = yield {\n",
              "      promise: fileDataPromise,\n",
              "      response: {\n",
              "        action: 'continue',\n",
              "      }\n",
              "    };\n",
              "\n",
              "    // Use a chunked sending to avoid message size limits. See b/62115660.\n",
              "    let position = 0;\n",
              "    do {\n",
              "      const length = Math.min(fileData.byteLength - position, MAX_PAYLOAD_SIZE);\n",
              "      const chunk = new Uint8Array(fileData, position, length);\n",
              "      position += length;\n",
              "\n",
              "      const base64 = btoa(String.fromCharCode.apply(null, chunk));\n",
              "      yield {\n",
              "        response: {\n",
              "          action: 'append',\n",
              "          file: file.name,\n",
              "          data: base64,\n",
              "        },\n",
              "      };\n",
              "\n",
              "      let percentDone = fileData.byteLength === 0 ?\n",
              "          100 :\n",
              "          Math.round((position / fileData.byteLength) * 100);\n",
              "      percent.textContent = `${percentDone}% done`;\n",
              "\n",
              "    } while (position < fileData.byteLength);\n",
              "  }\n",
              "\n",
              "  // All done.\n",
              "  yield {\n",
              "    response: {\n",
              "      action: 'complete',\n",
              "    }\n",
              "  };\n",
              "}\n",
              "\n",
              "scope.google = scope.google || {};\n",
              "scope.google.colab = scope.google.colab || {};\n",
              "scope.google.colab._files = {\n",
              "  _uploadFiles,\n",
              "  _uploadFilesContinue,\n",
              "};\n",
              "})(self);\n",
              "</script> "
            ]
          },
          "metadata": {}
        },
        {
          "output_type": "stream",
          "name": "stdout",
          "text": [
            "Saving npr.csv to npr.csv\n"
          ]
        }
      ]
    },
    {
      "cell_type": "code",
      "source": [
        "import numpy as np\n",
        "import pandas as pd\n",
        "\n",
        "npr = pd.read_csv('npr.csv')\n",
        "npr.head()"
      ],
      "metadata": {
        "colab": {
          "base_uri": "https://localhost:8080/",
          "height": 206
        },
        "id": "3rpqUIMmQ17N",
        "outputId": "a3402d7f-f7a9-4ffc-8c05-d827718c1ae3"
      },
      "execution_count": 2,
      "outputs": [
        {
          "output_type": "execute_result",
          "data": {
            "text/plain": [
              "                                             Article\n",
              "0  In the Washington of 2016, even when the polic...\n",
              "1    Donald Trump has used Twitter  —   his prefe...\n",
              "2    Donald Trump is unabashedly praising Russian...\n",
              "3  Updated at 2:50 p. m. ET, Russian President Vl...\n",
              "4  From photography, illustration and video, to d..."
            ],
            "text/html": [
              "\n",
              "  <div id=\"df-3daa8c76-2dce-4505-ab54-c62b05b97f27\" class=\"colab-df-container\">\n",
              "    <div>\n",
              "<style scoped>\n",
              "    .dataframe tbody tr th:only-of-type {\n",
              "        vertical-align: middle;\n",
              "    }\n",
              "\n",
              "    .dataframe tbody tr th {\n",
              "        vertical-align: top;\n",
              "    }\n",
              "\n",
              "    .dataframe thead th {\n",
              "        text-align: right;\n",
              "    }\n",
              "</style>\n",
              "<table border=\"1\" class=\"dataframe\">\n",
              "  <thead>\n",
              "    <tr style=\"text-align: right;\">\n",
              "      <th></th>\n",
              "      <th>Article</th>\n",
              "    </tr>\n",
              "  </thead>\n",
              "  <tbody>\n",
              "    <tr>\n",
              "      <th>0</th>\n",
              "      <td>In the Washington of 2016, even when the polic...</td>\n",
              "    </tr>\n",
              "    <tr>\n",
              "      <th>1</th>\n",
              "      <td>Donald Trump has used Twitter  —   his prefe...</td>\n",
              "    </tr>\n",
              "    <tr>\n",
              "      <th>2</th>\n",
              "      <td>Donald Trump is unabashedly praising Russian...</td>\n",
              "    </tr>\n",
              "    <tr>\n",
              "      <th>3</th>\n",
              "      <td>Updated at 2:50 p. m. ET, Russian President Vl...</td>\n",
              "    </tr>\n",
              "    <tr>\n",
              "      <th>4</th>\n",
              "      <td>From photography, illustration and video, to d...</td>\n",
              "    </tr>\n",
              "  </tbody>\n",
              "</table>\n",
              "</div>\n",
              "    <div class=\"colab-df-buttons\">\n",
              "\n",
              "  <div class=\"colab-df-container\">\n",
              "    <button class=\"colab-df-convert\" onclick=\"convertToInteractive('df-3daa8c76-2dce-4505-ab54-c62b05b97f27')\"\n",
              "            title=\"Convert this dataframe to an interactive table.\"\n",
              "            style=\"display:none;\">\n",
              "\n",
              "  <svg xmlns=\"http://www.w3.org/2000/svg\" height=\"24px\" viewBox=\"0 -960 960 960\">\n",
              "    <path d=\"M120-120v-720h720v720H120Zm60-500h600v-160H180v160Zm220 220h160v-160H400v160Zm0 220h160v-160H400v160ZM180-400h160v-160H180v160Zm440 0h160v-160H620v160ZM180-180h160v-160H180v160Zm440 0h160v-160H620v160Z\"/>\n",
              "  </svg>\n",
              "    </button>\n",
              "\n",
              "  <style>\n",
              "    .colab-df-container {\n",
              "      display:flex;\n",
              "      gap: 12px;\n",
              "    }\n",
              "\n",
              "    .colab-df-convert {\n",
              "      background-color: #E8F0FE;\n",
              "      border: none;\n",
              "      border-radius: 50%;\n",
              "      cursor: pointer;\n",
              "      display: none;\n",
              "      fill: #1967D2;\n",
              "      height: 32px;\n",
              "      padding: 0 0 0 0;\n",
              "      width: 32px;\n",
              "    }\n",
              "\n",
              "    .colab-df-convert:hover {\n",
              "      background-color: #E2EBFA;\n",
              "      box-shadow: 0px 1px 2px rgba(60, 64, 67, 0.3), 0px 1px 3px 1px rgba(60, 64, 67, 0.15);\n",
              "      fill: #174EA6;\n",
              "    }\n",
              "\n",
              "    .colab-df-buttons div {\n",
              "      margin-bottom: 4px;\n",
              "    }\n",
              "\n",
              "    [theme=dark] .colab-df-convert {\n",
              "      background-color: #3B4455;\n",
              "      fill: #D2E3FC;\n",
              "    }\n",
              "\n",
              "    [theme=dark] .colab-df-convert:hover {\n",
              "      background-color: #434B5C;\n",
              "      box-shadow: 0px 1px 3px 1px rgba(0, 0, 0, 0.15);\n",
              "      filter: drop-shadow(0px 1px 2px rgba(0, 0, 0, 0.3));\n",
              "      fill: #FFFFFF;\n",
              "    }\n",
              "  </style>\n",
              "\n",
              "    <script>\n",
              "      const buttonEl =\n",
              "        document.querySelector('#df-3daa8c76-2dce-4505-ab54-c62b05b97f27 button.colab-df-convert');\n",
              "      buttonEl.style.display =\n",
              "        google.colab.kernel.accessAllowed ? 'block' : 'none';\n",
              "\n",
              "      async function convertToInteractive(key) {\n",
              "        const element = document.querySelector('#df-3daa8c76-2dce-4505-ab54-c62b05b97f27');\n",
              "        const dataTable =\n",
              "          await google.colab.kernel.invokeFunction('convertToInteractive',\n",
              "                                                    [key], {});\n",
              "        if (!dataTable) return;\n",
              "\n",
              "        const docLinkHtml = 'Like what you see? Visit the ' +\n",
              "          '<a target=\"_blank\" href=https://colab.research.google.com/notebooks/data_table.ipynb>data table notebook</a>'\n",
              "          + ' to learn more about interactive tables.';\n",
              "        element.innerHTML = '';\n",
              "        dataTable['output_type'] = 'display_data';\n",
              "        await google.colab.output.renderOutput(dataTable, element);\n",
              "        const docLink = document.createElement('div');\n",
              "        docLink.innerHTML = docLinkHtml;\n",
              "        element.appendChild(docLink);\n",
              "      }\n",
              "    </script>\n",
              "  </div>\n",
              "\n",
              "\n",
              "<div id=\"df-ec344f4a-2ad3-46f0-8906-23c208bb8c32\">\n",
              "  <button class=\"colab-df-quickchart\" onclick=\"quickchart('df-ec344f4a-2ad3-46f0-8906-23c208bb8c32')\"\n",
              "            title=\"Suggest charts\"\n",
              "            style=\"display:none;\">\n",
              "\n",
              "<svg xmlns=\"http://www.w3.org/2000/svg\" height=\"24px\"viewBox=\"0 0 24 24\"\n",
              "     width=\"24px\">\n",
              "    <g>\n",
              "        <path d=\"M19 3H5c-1.1 0-2 .9-2 2v14c0 1.1.9 2 2 2h14c1.1 0 2-.9 2-2V5c0-1.1-.9-2-2-2zM9 17H7v-7h2v7zm4 0h-2V7h2v10zm4 0h-2v-4h2v4z\"/>\n",
              "    </g>\n",
              "</svg>\n",
              "  </button>\n",
              "\n",
              "<style>\n",
              "  .colab-df-quickchart {\n",
              "      --bg-color: #E8F0FE;\n",
              "      --fill-color: #1967D2;\n",
              "      --hover-bg-color: #E2EBFA;\n",
              "      --hover-fill-color: #174EA6;\n",
              "      --disabled-fill-color: #AAA;\n",
              "      --disabled-bg-color: #DDD;\n",
              "  }\n",
              "\n",
              "  [theme=dark] .colab-df-quickchart {\n",
              "      --bg-color: #3B4455;\n",
              "      --fill-color: #D2E3FC;\n",
              "      --hover-bg-color: #434B5C;\n",
              "      --hover-fill-color: #FFFFFF;\n",
              "      --disabled-bg-color: #3B4455;\n",
              "      --disabled-fill-color: #666;\n",
              "  }\n",
              "\n",
              "  .colab-df-quickchart {\n",
              "    background-color: var(--bg-color);\n",
              "    border: none;\n",
              "    border-radius: 50%;\n",
              "    cursor: pointer;\n",
              "    display: none;\n",
              "    fill: var(--fill-color);\n",
              "    height: 32px;\n",
              "    padding: 0;\n",
              "    width: 32px;\n",
              "  }\n",
              "\n",
              "  .colab-df-quickchart:hover {\n",
              "    background-color: var(--hover-bg-color);\n",
              "    box-shadow: 0 1px 2px rgba(60, 64, 67, 0.3), 0 1px 3px 1px rgba(60, 64, 67, 0.15);\n",
              "    fill: var(--button-hover-fill-color);\n",
              "  }\n",
              "\n",
              "  .colab-df-quickchart-complete:disabled,\n",
              "  .colab-df-quickchart-complete:disabled:hover {\n",
              "    background-color: var(--disabled-bg-color);\n",
              "    fill: var(--disabled-fill-color);\n",
              "    box-shadow: none;\n",
              "  }\n",
              "\n",
              "  .colab-df-spinner {\n",
              "    border: 2px solid var(--fill-color);\n",
              "    border-color: transparent;\n",
              "    border-bottom-color: var(--fill-color);\n",
              "    animation:\n",
              "      spin 1s steps(1) infinite;\n",
              "  }\n",
              "\n",
              "  @keyframes spin {\n",
              "    0% {\n",
              "      border-color: transparent;\n",
              "      border-bottom-color: var(--fill-color);\n",
              "      border-left-color: var(--fill-color);\n",
              "    }\n",
              "    20% {\n",
              "      border-color: transparent;\n",
              "      border-left-color: var(--fill-color);\n",
              "      border-top-color: var(--fill-color);\n",
              "    }\n",
              "    30% {\n",
              "      border-color: transparent;\n",
              "      border-left-color: var(--fill-color);\n",
              "      border-top-color: var(--fill-color);\n",
              "      border-right-color: var(--fill-color);\n",
              "    }\n",
              "    40% {\n",
              "      border-color: transparent;\n",
              "      border-right-color: var(--fill-color);\n",
              "      border-top-color: var(--fill-color);\n",
              "    }\n",
              "    60% {\n",
              "      border-color: transparent;\n",
              "      border-right-color: var(--fill-color);\n",
              "    }\n",
              "    80% {\n",
              "      border-color: transparent;\n",
              "      border-right-color: var(--fill-color);\n",
              "      border-bottom-color: var(--fill-color);\n",
              "    }\n",
              "    90% {\n",
              "      border-color: transparent;\n",
              "      border-bottom-color: var(--fill-color);\n",
              "    }\n",
              "  }\n",
              "</style>\n",
              "\n",
              "  <script>\n",
              "    async function quickchart(key) {\n",
              "      const quickchartButtonEl =\n",
              "        document.querySelector('#' + key + ' button');\n",
              "      quickchartButtonEl.disabled = true;  // To prevent multiple clicks.\n",
              "      quickchartButtonEl.classList.add('colab-df-spinner');\n",
              "      try {\n",
              "        const charts = await google.colab.kernel.invokeFunction(\n",
              "            'suggestCharts', [key], {});\n",
              "      } catch (error) {\n",
              "        console.error('Error during call to suggestCharts:', error);\n",
              "      }\n",
              "      quickchartButtonEl.classList.remove('colab-df-spinner');\n",
              "      quickchartButtonEl.classList.add('colab-df-quickchart-complete');\n",
              "    }\n",
              "    (() => {\n",
              "      let quickchartButtonEl =\n",
              "        document.querySelector('#df-ec344f4a-2ad3-46f0-8906-23c208bb8c32 button');\n",
              "      quickchartButtonEl.style.display =\n",
              "        google.colab.kernel.accessAllowed ? 'block' : 'none';\n",
              "    })();\n",
              "  </script>\n",
              "</div>\n",
              "\n",
              "    </div>\n",
              "  </div>\n"
            ],
            "application/vnd.google.colaboratory.intrinsic+json": {
              "type": "dataframe",
              "variable_name": "npr",
              "summary": "{\n  \"name\": \"npr\",\n  \"rows\": 11992,\n  \"fields\": [\n    {\n      \"column\": \"Article\",\n      \"properties\": {\n        \"dtype\": \"string\",\n        \"num_unique_values\": 11991,\n        \"samples\": [\n          \"Last week, physicists at the National Institute for Standards and Technology reported they\\u2019d cooled an object to a million times colder than room temperature. It was a record for the   science of  . In this field, researchers inch ever closer to  \\u2014   but never reach  \\u2014   the state of absolute zero temperature. It\\u2019s a science that has some very cool (pun very much intended) applications including   gravity wave detectors for \\u201dhearing\\u201d distant black hole mergers. But moving beyond these applications, why is   so hard to begin with? Why can\\u2019t we just get to absolute zero degrees and be done with it? The answer to this question drops us straight into one of the quantum universe\\u2019s most startling features: The world never rests. To see what this means, let\\u2019s remind ourselves about the meaning of \\u201dtemperature.\\u201d Without getting too technical (we should really be talking about entropy here) temperature for physicists is a measure of random motion. Imagine the gas molecules in the air around you are little cue balls of matter. The higher the air temperature, the faster those little orbs of matter will be ricocheting around the room, bouncing off the walls and each other. So cooling the air means finding some means to slow the molecules down. From this perspective, there there\\u2019s no conceptual reason why you shouldn\\u2019t be able bring them entirely to a halt. Do that, and the air would have a temperature of \\u201dabsolute zero\\u201d degrees (as measured in units called Kelvins. In Fahrenheit, this would be  . 67 degrees). But, it turns out, nature doesn\\u2019t work that way. The universe doesn\\u2019t \\u201ddo\\u201d zero temperatures because it doesn\\u2019t do zero motion. Thinking about matter and motion in the way we described above is what we physicists call \\u201da classical picture.\\u201d In classical physics, matter is made of tiny particles of \\u201dstuff\\u201d and motion is just the change in the particles position with time. It all makes intuitive sense based on our experience of the world at the scale of baseballs and boulders. But a hundred years or so ago, physicists began probing the world on the scale of atoms. What they found was the classical, intuitive picture didn\\u2019t work well for explaining their experiments. In response, they developed a new kind of physics. In an astonishing burst of creativity, they kept key principles from the classical world  \\u2014   like the conservation of energy  \\u2014   but added new rules. One of these was the Uncertainty Principle, which essentially told us that reality is fuzzy at its root level. To be exact, certain pairs of properties  \\u2014   like motion and position  \\u2014   can never be known exactly. The Uncertainty Principle isn\\u2019t saying there\\u2019s something wrong with our instruments. Instead, it tells us there\\u2019s something wrong with our classical intuitions. In particular, when it comes to motion, it tells us it\\u2019s impossible to know the position and the motion of a particle exactly. The more you lock in the position of a particle, the wider the range of velocities the particle can have. So what does this have to do with temperature? Absolute zero should mean bringing particles to a halt. But that would imply you knew exactly where they were. You had them perfectly \\u201dlocalized.\\u201d If that\\u2019s the case, then the Uncertainty Principle demands there must be some uncertainty in their motion. They can\\u2019t be perfectly known to be perfectly at rest. The deeper meaning of this this quantum logic is that the universe can never be at rest. There is a \\u201dfloor\\u201d to how much things can be slowed down (or cooled). It\\u2019s impossible to go below that floor (though scientists do get ever more clever in skirting its edges). The implications of this can get pretty strange. Imagine we put a particle, like an electron, in a box. Now we ask: What\\u2019s the lowest energy state of the electron + box system? In classical physics, it would just be the electron sitting there unmoving  \\u2014   i. e. zero motion, hence zero energy. But quantum physics won\\u2019t allow such a thing as zero energy (because of the Uncertainty Principle). Instead, the system has   \\u201dground state\\u201d energy with the electron bouncing back and forth between the box walls. That\\u2019s as low as you can go. The electron can\\u2019t be stopped. Take this idea further, and you get to the delicious idea of vacuum energy. There the Uncertainty Principle demands that there can be no pure and perfect vacuum with a state of zero energy. Thus, in quantum physics, the vacuum is not empty but is a seething froth of \\u201dvirtual particles\\u201d that are never manifested and yet have a verifiable effect on the particles we do see. No vacuum. No zero energy. No zero temperature. No common sense expectation about the world\\u2019s behavior. The discovery that the quantum world was the foundation for our   classical experience was a triumph of science. It was a validation of science\\u2019s ability to take us beyond our limited senses and limited concepts. There is no way to \\u201dpicture\\u201d this quantum world with our classical imaginations. Instead, what we found was a new frontier. At its root, quantum physics showed us that this world we inhabit is dynamic to its very core: buzzing, roaring, shuddering and trembling like an infinite Jackson Pollack painting. It is not just richer than we imagined, but stranger and more wonderful than we can imagine. That view, hidden in the impossibility of absolute zero temperature, is a gift that science has given us all. Now what are we to make of it? Adam Frank is a   of the 13. 7 blog, an astrophysics professor at the University of Rochester, a book author and a   \\u201devangelist of science.\\u201d You can keep up with more of what Adam is thinking on Facebook and Twitter: @adamfrank4\",\n          \"President Trump hosted Russian Foreign Minister Sergey Lavrov at the White House on Wednesday, one day after firing the man whose agency is investigating Russia\\u2019s meddling in the 2016 election that brought Trump to power. Trump fired   FBI Director James Comey, who told Congress earlier this year that his agency has been investigating Russia\\u2019s actions  \\u2014   and possible ties to anyone associated with the Trump campaign  \\u2014   since July. As NPR\\u2019s Domenico Montanaro reports, the firing of Comey with more than six years left on his term in office has prompted a flurry of questions about the president\\u2019s motives  \\u2014   and about what\\u2019s next. Lavrov\\u2019s meeting with the president was scheduled for 10:30 a. m. ET, and it was declared closed to the press. Russian agencies tweeted photos from the Oval Office showing that in addition to Lavrov, Trump shook hands with Russia\\u2019s ambassador to America, Sergey Kislyak  \\u2014   a key figure in the investigation into Trump\\u2019s ousted national security adviser, Michael Flynn. After the Lavrov session had concluded, members of the U. S. media were allowed into the Oval Office, where they found the president sitting with Henry Kissinger, who served as President Richard Nixon\\u2019s secretary of state. The meeting hadn\\u2019t been listed on the president\\u2019s official schedule. Trump said he and Kissinger had met to talk \\u201dabout Russia and various other matters,\\u201d according to the pool report. To a question about Comey, Trump reportedly replied, \\u201dHe wasn\\u2019t doing a good job. Very simply. He was not doing a good job.\\u201d The president also said the issue had not affected his meeting with Lavrov. Lavrov arrived in Washington on Tuesday. He met with Secretary of State Rex Tillerson at the White House early Wednesday, ahead of his visit to the Oval Office. Tillerson and Lavrov made a brief appearance Wednesday morning for a   and as Tillerson began to lead his guest back behind closed doors, Lavrov responded to a question about Comey\\u2019s firing. When a reporter asked whether the dismissal has \\u201dcast a shadow\\u201d over their talks, Lavrov stopped and seemed to look genuinely quizzical when he responded, \\u201dWas he fired?\\u201d  \\u2014   but then adopted a deadpan tone as he told the reporter, \\u201dYou are kidding, you are kidding.\\u201d With a theatrical twitch of his head, the Russian diplomat then followed his American counterpart away from the media. The exchange was not included in the State Department\\u2019s brief video snippet from the   that it posted to Twitter. Tillerson\\u2019s office said his talks with Lavrov would focus on \\u201dUkraine, Syria, and bilateral issues.\\u201d But the Russians\\u2019 visit to the White House also came as the Kremlin made its first public comments on Comey\\u2019s removal. When Russian presidential spokesman Dmitry Peskov was asked how the firing might affect U. S.  relations, Peskov replied, \\u201dWe hope that it will not affect them at all. That\\u2019s the United States\\u2019 internal affair. That\\u2019s the U. S. president\\u2019s independent decision, which has nothing to do and should have nothing to do with Russia.\\u201d Comey\\u2019s dismissal has sparked new calls for an independent probe into Russia\\u2019s attempts to influence last year\\u2019s U. S. presidential election  \\u2014   despite the Trump administration\\u2019s assertion that Comey was removed over his handling of the investigation into Clinton\\u2019s private email server. \\u201dThis is nothing less than Nixonian,\\u201d said Patrick Leahy,  . a longtime member of the Senate Judiciary Committee. Announcing Comey\\u2019s abrupt firing Tuesday afternoon, White House press secretary Sean Spicer said the president \\u201dacted based on the clear recommendations of both Deputy Attorney General Rod Rosenstein and Attorney General Jeff Sessions.\\u201d\",\n          \"Republican presidential nominee Donald Trump has been calling for a criminal investigation of his political opponent Hillary Clinton on the campaign trail this year. Trump is angry the FBI probe of Clinton\\u2019s email server ended with no charges. Now, he says, an independent outsider needs to look at the Clinton Foundation. \\u201dThe Justice Department is required to appoint an independent special prosecutor because it has proven itself to be really, sadly, a political arm of the White House,\\u201d Trump said in Akron, Ohio, last week. Trump has offered no evidence to back up his claims that the Justice Department has been corrupted. But his call for a special prosecutor sounds familiar to people who study the intersection of law and politics. \\u201dIf you look at the chronology, pretty much the political party that does not control the White House tends to want special prosecutors and independent counsel laws,\\u201d said Ken Gormley, president of Duquesne University in Pittsburgh and the author of two books on special prosecutors. \\u201dAs soon as the party is in the White House, they don\\u2019t want it anymore.\\u201d In modern times, the idea first cropped up during the 1970s. President Richard Nixon notoriously fired a special prosecutor who was getting close to the tapes that would bring down his administration. Five months after what became known as the Saturday Night Massacre, Congress started work on an independent counsel law. The idea was to insulate sensitive criminal investigations from meddling by the White House. The law would stand for about 20 years. It didn\\u2019t produce many criminal convictions, but it did stir up a lot of trouble for presidents  \\u2014   and the people close to them. In 1996, Hillary Clinton became the first sitting first lady to testify before a grand jury. This one was investigating the Whitewater affair, an investigation that began with a real estate investment and morphed into scrutiny of President Bill Clinton\\u2019s sexual improprieties. Hillary Clinton was never charged with wrongdoing, but the investigation left a mark. Years later, Gormley interviewed Bill Clinton about it. \\u201dHe made clear that his decision to allow and endorse the appointment of an independent counsel in the Whitewater matter was one of the biggest mistakes of his presidency,\\u201d Gormley said. \\u201dIn fact, the words he used at one point is that it was like Wile E. Coyote and the Road Runner. And almost from the moment he was in the White House, there were political opponents using special prosecutors to bring him down, and they were off to the races.\\u201d By 1999, when Congress considered whether to renew the statute, opposition came from nearly all sides. Even Whitewater independent counsel Ken Starr told Congress the law had become a political weapon. \\u201dThe statutory mechanism intended to enhance confidence in law enforcement had the effect of weakening it,\\u201d Starr said, in arguing the law should not be reauthorized. \\u201dJurisdiction and authority over these sensitive matters ought to be returned to the Justice Department. And who will oversee them? The Congress, the press, the public.\\u201d That\\u2019s exactly what happened. The law expired. But the Justice Department can still use special prosecutors. They\\u2019re career lawyers, protected from political leaders at Justice by a firewall. During the George W. Bush years, special prosecutor Patrick Fitzgerald charged and convicted a top aide to the vice president. Justice Department leaders went on to deploy special prosecutors to investigate the firings of U. S. attorneys and the destruction of videotapes that showed torture of detainees. But authorities have relied on those prosecutors only sparingly, a position adopted by many, including Gormley. \\u201dI think I\\u2019ve come to the conclusion that we are better off when we have less of these investigations rather than more,\\u201d he said. \\u201dThey should be reserved for very special and extreme occasions.\\u201d Otherwise, Gormley argued, they could distract from what\\u2019s really important. \\u201dAs we as a country were just obsessed with the issue of Whitewater, Paula Jones, Monica Lewinsky and all of these distractions during the 1990s, there were people inside and outside the country literally plotting our attack,\\u201d he said. One of them, Gormley said, was Osama bin Laden.\"\n        ],\n        \"semantic_type\": \"\",\n        \"description\": \"\"\n      }\n    }\n  ]\n}"
            }
          },
          "metadata": {},
          "execution_count": 2
        }
      ]
    },
    {
      "cell_type": "code",
      "source": [
        "len(npr)"
      ],
      "metadata": {
        "id": "LgJBgkGrKPSJ",
        "outputId": "29327b6e-0ae4-4583-c85e-a8c2e06b1ea7",
        "colab": {
          "base_uri": "https://localhost:8080/"
        }
      },
      "execution_count": 4,
      "outputs": [
        {
          "output_type": "execute_result",
          "data": {
            "text/plain": [
              "11992"
            ]
          },
          "metadata": {},
          "execution_count": 4
        }
      ]
    },
    {
      "cell_type": "markdown",
      "source": [
        "## Preprocessing"
      ],
      "metadata": {
        "id": "aUCgtAV1KQYD"
      }
    },
    {
      "cell_type": "code",
      "source": [
        "from sklearn.feature_extraction.text import CountVectorizer"
      ],
      "metadata": {
        "id": "GNQMb6LJKSIY"
      },
      "execution_count": 3,
      "outputs": []
    },
    {
      "cell_type": "code",
      "source": [
        "cv = CountVectorizer(max_df=0.95, min_df=2, stop_words='english')\n",
        "## max_df: ignore term with high document frequency, 0.95 - discard words in 95% of all documents\n",
        "## min_df\" ignore terms with frequency lower than given threshold, 2 : min words has show up at min 2 documents"
      ],
      "metadata": {
        "id": "WGsrjqB2KT1P"
      },
      "execution_count": 5,
      "outputs": []
    },
    {
      "cell_type": "code",
      "source": [
        "dtm = cv.fit_transform(npr['Article'])"
      ],
      "metadata": {
        "id": "hrcrXaL6LWTX"
      },
      "execution_count": 6,
      "outputs": []
    },
    {
      "cell_type": "code",
      "source": [
        "dtm"
      ],
      "metadata": {
        "id": "nmMVe5BeLYML",
        "outputId": "fa00c379-c62a-47fb-9f1a-d465e4ae6e8e",
        "colab": {
          "base_uri": "https://localhost:8080/"
        }
      },
      "execution_count": 7,
      "outputs": [
        {
          "output_type": "execute_result",
          "data": {
            "text/plain": [
              "<11992x54777 sparse matrix of type '<class 'numpy.int64'>'\n",
              "\twith 3033388 stored elements in Compressed Sparse Row format>"
            ]
          },
          "metadata": {},
          "execution_count": 7
        }
      ]
    },
    {
      "cell_type": "code",
      "source": [],
      "metadata": {
        "id": "zv2k997wLcou"
      },
      "execution_count": null,
      "outputs": []
    },
    {
      "cell_type": "markdown",
      "source": [
        "## LDA"
      ],
      "metadata": {
        "id": "pEFeqRhULeLI"
      }
    },
    {
      "cell_type": "code",
      "source": [
        "from sklearn.decomposition import LatentDirichletAllocation"
      ],
      "metadata": {
        "id": "YJBRf1k9LfV3"
      },
      "execution_count": 8,
      "outputs": []
    },
    {
      "cell_type": "code",
      "source": [],
      "metadata": {
        "id": "-8ujxmJaLh4U"
      },
      "execution_count": null,
      "outputs": []
    }
  ]
}