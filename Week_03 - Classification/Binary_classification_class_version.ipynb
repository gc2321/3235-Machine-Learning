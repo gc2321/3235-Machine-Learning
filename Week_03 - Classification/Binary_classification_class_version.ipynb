{
  "nbformat": 4,
  "nbformat_minor": 0,
  "metadata": {
    "colab": {
      "name": "Binary_classification_class_version.ipynb",
      "provenance": []
    },
    "kernelspec": {
      "display_name": "Python 3",
      "language": "python",
      "name": "python3"
    }
  },
  "cells": [
    {
      "cell_type": "markdown",
      "metadata": {
        "id": "NXzM8E-PelGa"
      },
      "source": [
        "**Week 3 – Classification**\n",
        "\n",
        "<font size=\"4.5\" color=\"white\">Objective: build a supervised learning [classification] model that predicts the handwriting digit of each picture in MNIST dataset </font>\n",
        "\n",
        "<font size=\"4.5\" color=\"blue\">Note: There are some Green color text in this notebook; these are the questions you need to answer!\n",
        "Good luck</font>"
      ]
    },
    {
      "cell_type": "markdown",
      "metadata": {
        "id": "aksg23xCelGd"
      },
      "source": [
        "# Setup"
      ]
    },
    {
      "cell_type": "markdown",
      "metadata": {
        "id": "PK3a3ys5elGe"
      },
      "source": [
        "First import a few common modules, ensure MatplotLib plots figures inline"
      ]
    },
    {
      "cell_type": "code",
      "metadata": {
        "id": "-cSh87H_elGf",
        "cellView": "both"
      },
      "source": [
        "# Common imports\n",
        "import numpy as np\n",
        "import os\n",
        "\n",
        "# to make this notebook's output stable across runs\n",
        "np.random.seed(42)\n",
        "\n",
        "# To plot pretty figures\n",
        "%matplotlib inline\n",
        "import matplotlib as mpl\n",
        "import matplotlib.pyplot as plt\n",
        "mpl.rc('axes', labelsize=14)\n",
        "mpl.rc('xtick', labelsize=12)\n",
        "mpl.rc('ytick', labelsize=12)"
      ],
      "execution_count": null,
      "outputs": []
    },
    {
      "cell_type": "markdown",
      "metadata": {
        "id": "g_4P0FMLelGj"
      },
      "source": [
        "# MNIST"
      ]
    },
    {
      "cell_type": "markdown",
      "metadata": {
        "id": "f_AYEGmmelGj"
      },
      "source": [
        "The MNIST database of handwritten digits, available from this page, has a training set of 60,000 examples, and a test set of 10,000 examples. It is a subset of a larger set available from NIST. The digits have been size-normalized and centered in a fixed-size image.\n",
        "\n",
        "Learn more about the dataset [here](http://yann.lecun.com/exdb/mnist/).\n",
        "\n",
        "<img src = \"https://drive.google.com/uc?id=100v43llJaBhmDze48CCTwBeZj3HCRI-J\" alt=\"OpenML\" height=\"420\" width=\"720\" align=\"middle\">\n",
        "\n",
        "Learn more about [OpenML](https://www.openml.org/).\n"
      ]
    },
    {
      "cell_type": "code",
      "metadata": {
        "id": "Q7nDMwlhelGn",
        "colab": {
          "base_uri": "https://localhost:8080/"
        },
        "outputId": "62f1e47e-a76d-44b6-82eb-449e665cbdb6"
      },
      "source": [
        "from sklearn.datasets import fetch_openml\n",
        "\n",
        "mnist = fetch_openml('mnist_784', version=1, cache=True)\n",
        "mnist.target = mnist.target.astype(np.int8) # fetch_openml() returns targets as strings\n",
        "\n",
        "mnist[\"data\"], mnist[\"target\"]"
      ],
      "execution_count": null,
      "outputs": [
        {
          "output_type": "execute_result",
          "data": {
            "text/plain": [
              "(       pixel1  pixel2  pixel3  pixel4  ...  pixel781  pixel782  pixel783  pixel784\n",
              " 0         0.0     0.0     0.0     0.0  ...       0.0       0.0       0.0       0.0\n",
              " 1         0.0     0.0     0.0     0.0  ...       0.0       0.0       0.0       0.0\n",
              " 2         0.0     0.0     0.0     0.0  ...       0.0       0.0       0.0       0.0\n",
              " 3         0.0     0.0     0.0     0.0  ...       0.0       0.0       0.0       0.0\n",
              " 4         0.0     0.0     0.0     0.0  ...       0.0       0.0       0.0       0.0\n",
              " ...       ...     ...     ...     ...  ...       ...       ...       ...       ...\n",
              " 69995     0.0     0.0     0.0     0.0  ...       0.0       0.0       0.0       0.0\n",
              " 69996     0.0     0.0     0.0     0.0  ...       0.0       0.0       0.0       0.0\n",
              " 69997     0.0     0.0     0.0     0.0  ...       0.0       0.0       0.0       0.0\n",
              " 69998     0.0     0.0     0.0     0.0  ...       0.0       0.0       0.0       0.0\n",
              " 69999     0.0     0.0     0.0     0.0  ...       0.0       0.0       0.0       0.0\n",
              " \n",
              " [70000 rows x 784 columns], 0        5\n",
              " 1        0\n",
              " 2        4\n",
              " 3        1\n",
              " 4        9\n",
              "         ..\n",
              " 69995    2\n",
              " 69996    3\n",
              " 69997    4\n",
              " 69998    5\n",
              " 69999    6\n",
              " Name: class, Length: 70000, dtype: int8)"
            ]
          },
          "metadata": {},
          "execution_count": 75
        }
      ]
    },
    {
      "cell_type": "markdown",
      "metadata": {
        "id": "8RcBgP3JfPWT"
      },
      "source": [
        "<font size=\"8\" color=\"green\">What type of data object is MNIST?</font>\n"
      ]
    },
    {
      "cell_type": "code",
      "metadata": {
        "id": "u-9Gn_A7fSzr",
        "colab": {
          "base_uri": "https://localhost:8080/"
        },
        "outputId": "b3a33901-8e28-410a-8388-d84a03101923"
      },
      "source": [
        "# How do you know? What funtion/method would tell us the type of an object? Try describe, show, try, learn, type and see which one works!\n",
        "type(mnist)"
      ],
      "execution_count": null,
      "outputs": [
        {
          "output_type": "execute_result",
          "data": {
            "text/plain": [
              "sklearn.utils.Bunch"
            ]
          },
          "metadata": {},
          "execution_count": 76
        }
      ]
    },
    {
      "cell_type": "markdown",
      "metadata": {
        "id": "RpEdB7vrfec9"
      },
      "source": [
        "## What is MNIST data shape/dimension?"
      ]
    },
    {
      "cell_type": "code",
      "metadata": {
        "id": "Kwx5BbqZelGs",
        "colab": {
          "base_uri": "https://localhost:8080/"
        },
        "outputId": "c8ac77a0-d4f4-475d-ed26-a42d5a795d54"
      },
      "source": [
        "#mnist.data is a numpy array\n",
        "print(type(mnist.data))\n",
        "\n",
        "#use shape to see shape of a numpy array\n",
        "mnist.data.shape"
      ],
      "execution_count": null,
      "outputs": [
        {
          "output_type": "stream",
          "name": "stdout",
          "text": [
            "<class 'pandas.core.frame.DataFrame'>\n"
          ]
        },
        {
          "output_type": "execute_result",
          "data": {
            "text/plain": [
              "(70000, 784)"
            ]
          },
          "metadata": {},
          "execution_count": 77
        }
      ]
    },
    {
      "cell_type": "code",
      "metadata": {
        "id": "2kL8wXDYelGv",
        "colab": {
          "base_uri": "https://localhost:8080/"
        },
        "outputId": "d6acec97-9d26-4a0c-9410-a9571e1c1109"
      },
      "source": [
        "X, y = mnist[\"data\"], mnist[\"target\"]\n",
        "X.shape"
      ],
      "execution_count": null,
      "outputs": [
        {
          "output_type": "execute_result",
          "data": {
            "text/plain": [
              "(70000, 784)"
            ]
          },
          "metadata": {},
          "execution_count": 78
        }
      ]
    },
    {
      "cell_type": "code",
      "metadata": {
        "id": "RPSvHTmfelGy",
        "colab": {
          "base_uri": "https://localhost:8080/"
        },
        "outputId": "fd53b195-8bec-4f67-8835-79bbda466924"
      },
      "source": [
        "y.shape"
      ],
      "execution_count": null,
      "outputs": [
        {
          "output_type": "execute_result",
          "data": {
            "text/plain": [
              "(70000,)"
            ]
          },
          "metadata": {},
          "execution_count": 79
        }
      ]
    },
    {
      "cell_type": "code",
      "metadata": {
        "id": "8FpzwFbaelG1",
        "colab": {
          "base_uri": "https://localhost:8080/"
        },
        "outputId": "5cd15a2d-846f-4f0b-c94d-311a42a96ba9"
      },
      "source": [
        "28*28"
      ],
      "execution_count": null,
      "outputs": [
        {
          "output_type": "execute_result",
          "data": {
            "text/plain": [
              "784"
            ]
          },
          "metadata": {},
          "execution_count": 80
        }
      ]
    },
    {
      "cell_type": "markdown",
      "metadata": {
        "id": "fZ3vpPS9gA3G"
      },
      "source": [
        "## Lets take a look at example of handwritings!"
      ]
    },
    {
      "cell_type": "code",
      "metadata": {
        "id": "4v_nNyEQelG_"
      },
      "source": [
        "# Define a function to plot image\n",
        "def plot_digit(data):\n",
        "    image = data.reshape(28, 28)\n",
        "    plt.imshow(image, cmap = mpl.cm.binary,#mlp (matplotlib)\n",
        "               interpolation=\"nearest\")\n",
        "    plt.axis(\"off\")"
      ],
      "execution_count": null,
      "outputs": []
    },
    {
      "cell_type": "code",
      "metadata": {
        "id": "8IAg-o-ghc6A",
        "colab": {
          "base_uri": "https://localhost:8080/"
        },
        "outputId": "9ac50f7e-7997-4c53-dad7-1b16f159e424"
      },
      "source": [
        "some_digit = X.iloc[7655-1].values # Index can be between 0 to 69999!\n",
        "plot_digit(some_digit)"
      ],
      "execution_count": null,
      "outputs": [
        {
          "output_type": "display_data",
          "data": {
            "image/png": "[encoded data removed]",
            "text/plain": [
              "<Figure size 432x288 with 1 Axes>"
            ]
          },
          "metadata": {
            "needs_background": "light"
          }
        }
      ]
    },
    {
      "cell_type": "markdown",
      "metadata": {
        "id": "81Pb5aecm9z3"
      },
      "source": [
        "<font size=\"8\" color=\"green\">Can you plot handwriting digit in X[45]? </font>"
      ]
    },
    {
      "cell_type": "code",
      "metadata": {
        "id": "orLNNZtUnHlS"
      },
      "source": [
        "# Your code here"
      ],
      "execution_count": null,
      "outputs": []
    },
    {
      "cell_type": "markdown",
      "metadata": {
        "id": "k2DcUFRMh44T"
      },
      "source": [
        "# Lets see content of target variable"
      ]
    },
    {
      "cell_type": "code",
      "metadata": {
        "id": "7wxQHJQ_elHH",
        "colab": {
          "base_uri": "https://localhost:8080/"
        },
        "outputId": "a5d70d81-6478-4955-b1ee-1eca743611e3"
      },
      "source": [
        "y[7655-1]"
      ],
      "execution_count": null,
      "outputs": [
        {
          "output_type": "execute_result",
          "data": {
            "text/plain": [
              "2"
            ]
          },
          "metadata": {},
          "execution_count": 84
        }
      ]
    },
    {
      "cell_type": "markdown",
      "metadata": {
        "id": "ZsTw17XKh_4f"
      },
      "source": [
        "# Split dataset to train and test"
      ]
    },
    {
      "cell_type": "code",
      "metadata": {
        "id": "aFUh14s2elHJ"
      },
      "source": [
        "# Write a code to split your dataset into 80/20 dataset\n",
        "from sklearn.model_selection import train_test_split\n",
        "\n",
        "X_train, X_test, y_train, y_test = train_test_split(X,y,test_size= 0.2)\n"
      ],
      "execution_count": null,
      "outputs": []
    },
    {
      "cell_type": "markdown",
      "metadata": {
        "id": "IOZy_2_YiqHr"
      },
      "source": [
        "<font size=\"8\" color=\"green\">Can you verify data dimension?</font>"
      ]
    },
    {
      "cell_type": "code",
      "metadata": {
        "id": "76xI13IDelHM",
        "colab": {
          "base_uri": "https://localhost:8080/"
        },
        "outputId": "027bebb1-9a6a-4257-c418-c3a6878c490b"
      },
      "source": [
        "# print shape of the data to ensure your split is right\n",
        "X_train.shape, X_test.shape, y_train.shape, y_test.shape"
      ],
      "execution_count": null,
      "outputs": [
        {
          "output_type": "execute_result",
          "data": {
            "text/plain": [
              "((56000, 784), (14000, 784), (56000,), (14000,))"
            ]
          },
          "metadata": {},
          "execution_count": 86
        }
      ]
    },
    {
      "cell_type": "markdown",
      "metadata": {
        "id": "s4WEnUl2elHO"
      },
      "source": [
        "# Binary classifier\n",
        "\n",
        "###Predict if an image is 5 or not."
      ]
    },
    {
      "cell_type": "code",
      "metadata": {
        "id": "ICnhpmF1elHP"
      },
      "source": [
        "# if y_train value equals 5, it replaces it with true otherwise false\n",
        "y_train_5 = (y_train == 5)\n",
        "y_test_5 = (y_test == 5)"
      ],
      "execution_count": null,
      "outputs": []
    },
    {
      "cell_type": "code",
      "metadata": {
        "id": "VmMxpIiPTFAx",
        "colab": {
          "base_uri": "https://localhost:8080/"
        },
        "outputId": "f04eb7a8-ef88-46db-c817-250139529169"
      },
      "source": [
        "y_train_5.shape"
      ],
      "execution_count": null,
      "outputs": [
        {
          "output_type": "execute_result",
          "data": {
            "text/plain": [
              "(56000,)"
            ]
          },
          "metadata": {},
          "execution_count": 88
        }
      ]
    },
    {
      "cell_type": "markdown",
      "metadata": {
        "id": "IvLrlO2helHR"
      },
      "source": [
        "**Note**: a few hyperparameters will have a different default value in future versions of Scikit-Learn, so a warning is issued if you do not set them explicitly. This is why we set `max_iter=5` and `tol=-np.infty`, to get the same results as in the book, while avoiding the warnings."
      ]
    },
    {
      "cell_type": "code",
      "metadata": {
        "id": "eeshrrZpelHT",
        "colab": {
          "base_uri": "https://localhost:8080/"
        },
        "outputId": "3de65c01-837b-4375-f99e-8e6562fca355"
      },
      "source": [
        "from sklearn.linear_model import SGDClassifier\n",
        "\n",
        "#sgd stands for stochastic gradient descent (read more about GSD https://medium.com/@lachlanmiller_52885/machine-learning-week-1-cost-function-gradient-descent-and-univariate-linear-regression-8f5fe69815fd)\n",
        "#clf stands for classifier\n",
        "sgd_clf = SGDClassifier(max_iter=5, tol=-np.infty, random_state=42)\n",
        "sgd_clf.fit(X_train, y_train_5)\n"
      ],
      "execution_count": null,
      "outputs": [
        {
          "output_type": "execute_result",
          "data": {
            "text/plain": [
              "SGDClassifier(max_iter=5, random_state=42, tol=-inf)"
            ]
          },
          "metadata": {},
          "execution_count": 89
        }
      ]
    },
    {
      "cell_type": "markdown",
      "metadata": {
        "id": "934AgKnXPTTS"
      },
      "source": [
        "### We just built a model. Now lets pass a single image to it and see the response"
      ]
    },
    {
      "cell_type": "code",
      "metadata": {
        "id": "M5zk1WVUOm3J",
        "colab": {
          "base_uri": "https://localhost:8080/"
        },
        "outputId": "a06e970c-d50e-4e76-f1b0-13bc2f72ba07"
      },
      "source": [
        "# See the value of 11th image and corresponding label\n",
        "print(y_train_5.iloc[11])\n",
        "print(X_train.iloc[11])"
      ],
      "execution_count": null,
      "outputs": [
        {
          "output_type": "stream",
          "name": "stdout",
          "text": [
            "True\n",
            "pixel1      0.0\n",
            "pixel2      0.0\n",
            "pixel3      0.0\n",
            "pixel4      0.0\n",
            "pixel5      0.0\n",
            "           ... \n",
            "pixel780    0.0\n",
            "pixel781    0.0\n",
            "pixel782    0.0\n",
            "pixel783    0.0\n",
            "pixel784    0.0\n",
            "Name: 39158, Length: 784, dtype: float64\n"
          ]
        }
      ]
    },
    {
      "cell_type": "code",
      "metadata": {
        "colab": {
          "base_uri": "https://localhost:8080/"
        },
        "id": "egzOS6cqOmxD",
        "outputId": "aec0445c-4827-4b67-c474-ce3fc4a24e0c"
      },
      "source": [
        "plot_digit(X_train.iloc[11].values)"
      ],
      "execution_count": null,
      "outputs": [
        {
          "output_type": "display_data",
          "data": {
            "image/png": "[encoded data removed]",
            "text/plain": [
              "<Figure size 432x288 with 1 Axes>"
            ]
          },
          "metadata": {
            "needs_background": "light"
          }
        }
      ]
    },
    {
      "cell_type": "markdown",
      "metadata": {
        "id": "_tLGlmRySWiT"
      },
      "source": [
        "# How does  above array representing X_train[11] which is image of 5?"
      ]
    },
    {
      "cell_type": "code",
      "metadata": {
        "id": "b9IRniNdelHV",
        "colab": {
          "base_uri": "https://localhost:8080/"
        },
        "outputId": "4e44d87b-376b-4605-b174-2257f0df9ddb"
      },
      "source": [
        "# Predict using the model\n",
        "pred = sgd_clf.predict([X_train.iloc[11]])\n",
        "pred[0]"
      ],
      "execution_count": null,
      "outputs": [
        {
          "output_type": "stream",
          "name": "stderr",
          "text": [
            "/usr/local/lib/python3.7/dist-packages/sklearn/base.py:451: UserWarning: X does not have valid feature names, but SGDClassifier was fitted with feature names\n",
            "  \"X does not have valid feature names, but\"\n"
          ]
        },
        {
          "output_type": "execute_result",
          "data": {
            "text/plain": [
              "True"
            ]
          },
          "metadata": {},
          "execution_count": 92
        }
      ]
    },
    {
      "cell_type": "markdown",
      "metadata": {
        "id": "Ojs9BVsBPtpO"
      },
      "source": [
        "# Use Cross Validation Technique"
      ]
    },
    {
      "cell_type": "code",
      "metadata": {
        "id": "0cn2-SLZelHX",
        "colab": {
          "base_uri": "https://localhost:8080/"
        },
        "outputId": "cc3a7bea-b388-4048-9d56-a5ff62540b9e"
      },
      "source": [
        "from sklearn.model_selection import cross_val_score\n",
        "\n",
        "# Fit the model with CS=3 and evaluate its performance using \"Accuracy\". What do you expect to see?\n",
        "cross_val_score(sgd_clf, X_train, y_train_5, cv=3, scoring=\"accuracy\")"
      ],
      "execution_count": null,
      "outputs": [
        {
          "output_type": "execute_result",
          "data": {
            "text/plain": [
              "array([0.91230514, 0.93930466, 0.95912354])"
            ]
          },
          "metadata": {},
          "execution_count": 93
        }
      ]
    },
    {
      "cell_type": "markdown",
      "metadata": {
        "id": "3APaJyDWazpi"
      },
      "source": [
        "# !!!!!! Wait a minute!!!!!!\n",
        "## What just happened? In your first attempts, you have a model with 95% accuract? Do you trust your model?"
      ]
    },
    {
      "cell_type": "code",
      "metadata": {
        "id": "RVaTcl9_elHa",
        "colab": {
          "base_uri": "https://localhost:8080/"
        },
        "outputId": "03b362f5-d22c-450e-d63a-648b3623494d"
      },
      "source": [
        "#Above cell mimics below logic. As you see the results are the same. This cell is just for your self-study. Using previous cell is good enough in practice\n",
        "from sklearn.model_selection import StratifiedKFold\n",
        "from sklearn.base import clone\n",
        "\n",
        "skfolds = StratifiedKFold(n_splits=3, random_state=42, shuffle=True)\n",
        "\n",
        "for train_index, test_index in skfolds.split(X_train, y_train_5):\n",
        "    clone_clf = clone(sgd_clf)\n",
        "    X_train_folds = X_train.iloc[train_index]\n",
        "    y_train_folds = (y_train_5.iloc[train_index])\n",
        "    X_test_fold = X_train.iloc[test_index]\n",
        "    y_test_fold = (y_train_5.iloc[test_index])\n",
        "\n",
        "    clone_clf.fit(X_train_folds, y_train_folds)\n",
        "    y_pred = clone_clf.predict(X_test_fold)\n",
        "    n_correct = sum(y_pred == y_test_fold)\n",
        "    print(n_correct / len(y_pred))"
      ],
      "execution_count": null,
      "outputs": [
        {
          "output_type": "stream",
          "name": "stdout",
          "text": [
            "0.9563400653559758\n",
            "0.9442331386939519\n",
            "0.9573556198435659\n"
          ]
        }
      ]
    },
    {
      "cell_type": "markdown",
      "metadata": {
        "id": "D4RXjNJtaPEs"
      },
      "source": [
        "#Question: What is StratifiedKFold for? Can you search for it online and type your answer in Chat?"
      ]
    },
    {
      "cell_type": "code",
      "metadata": {
        "id": "k1JAC8qOelHd"
      },
      "source": [
        "#BaseEstimator is when there is no model!\n",
        "from sklearn.base import BaseEstimator\n",
        "class Never5Classifier(BaseEstimator):\n",
        "    def fit(self, X, y=None):\n",
        "        pass\n",
        "    def predict(self, X):\n",
        "        return np.zeros((len(X), 1), dtype=bool)"
      ],
      "execution_count": null,
      "outputs": []
    },
    {
      "cell_type": "code",
      "metadata": {
        "id": "PfvfSwnuelHf",
        "colab": {
          "base_uri": "https://localhost:8080/"
        },
        "outputId": "72ca4c32-6553-468f-d70d-436b1a84410a"
      },
      "source": [
        "\n",
        "never_5_clf = Never5Classifier()\n",
        "cross_val_score(never_5_clf, X_train, y_train_5, cv=3, scoring=\"accuracy\")"
      ],
      "execution_count": null,
      "outputs": [
        {
          "output_type": "execute_result",
          "data": {
            "text/plain": [
              "array([0.91107302, 0.90914448, 0.90978249])"
            ]
          },
          "metadata": {},
          "execution_count": 96
        }
      ]
    },
    {
      "cell_type": "markdown",
      "metadata": {
        "id": "qcvFj0dQsRo5"
      },
      "source": [
        "## As you see accuracy of base model is 90%!\n",
        "\n",
        "Can you explain it?"
      ]
    },
    {
      "cell_type": "code",
      "metadata": {
        "id": "iXiJRZLulje-",
        "colab": {
          "base_uri": "https://localhost:8080/"
        },
        "outputId": "dec24f03-e56e-4392-eea5-a9f4034c8d2b"
      },
      "source": [
        "# Look at number of times 5 is repeated in the dataset!\n",
        "import numpy as np\n",
        "\n",
        "np.unique(y_train_5, return_counts=True)\n",
        "\n",
        "# As expected, 5 is repeated only 10% of the times. So, even if we never detect it, stil we will have 90% accuracy!\n"
      ],
      "execution_count": null,
      "outputs": [
        {
          "output_type": "execute_result",
          "data": {
            "text/plain": [
              "(array([False,  True]), array([50960,  5040]))"
            ]
          },
          "metadata": {},
          "execution_count": 97
        }
      ]
    },
    {
      "cell_type": "code",
      "metadata": {
        "id": "4Tj5EXuHlWiE",
        "colab": {
          "base_uri": "https://localhost:8080/"
        },
        "outputId": "e56f07eb-f452-44e2-e08f-76ac987c34c6"
      },
      "source": [
        "np.unique(never_5_clf.predict(X_train), return_counts = True)"
      ],
      "execution_count": null,
      "outputs": [
        {
          "output_type": "execute_result",
          "data": {
            "text/plain": [
              "(array([False]), array([56000]))"
            ]
          },
          "metadata": {},
          "execution_count": 98
        }
      ]
    },
    {
      "cell_type": "code",
      "metadata": {
        "id": "yapwZfN5elHj"
      },
      "source": [
        "from sklearn.model_selection import cross_val_predict\n",
        "\n",
        "y_train_pred = cross_val_predict(sgd_clf, X_train, y_train_5, cv=10)"
      ],
      "execution_count": null,
      "outputs": []
    },
    {
      "cell_type": "markdown",
      "metadata": {
        "id": "E6MiRIj48gp-"
      },
      "source": [
        "#A food for your thought:\n",
        "\n",
        "#### Look at below evaluation results (confusion matrix, Precision and Recall values) and record them in your book. Then change the value of cv in above cell. Either increase or decrese cv and calculate precision and recall again. What do you observe?\n",
        "\n",
        "#### Can you explain it?"
      ]
    },
    {
      "cell_type": "code",
      "metadata": {
        "id": "W8m3_m7ielHm",
        "colab": {
          "base_uri": "https://localhost:8080/"
        },
        "outputId": "70b114d4-b3fd-4a45-dbc5-3c8b80697a9b"
      },
      "source": [
        "from sklearn.metrics import confusion_matrix\n",
        "\n",
        "confusion_matrix(y_train_5, y_train_pred)\n",
        "# Rows are model predictions (0,1)\n",
        "# Cols are actual y (0,1)\n"
      ],
      "execution_count": null,
      "outputs": [
        {
          "output_type": "execute_result",
          "data": {
            "text/plain": [
              "array([[50381,   579],\n",
              "       [ 1588,  3452]])"
            ]
          },
          "metadata": {},
          "execution_count": 100
        }
      ]
    },
    {
      "cell_type": "code",
      "metadata": {
        "id": "EXUMMPPXelHn"
      },
      "source": [
        "y_train_perfect_predictions = y_train_5"
      ],
      "execution_count": null,
      "outputs": []
    },
    {
      "cell_type": "markdown",
      "metadata": {
        "id": "aXiPSNZa0U7Q"
      },
      "source": [
        "# Too good to be true !!! Hard to trust the model!"
      ]
    },
    {
      "cell_type": "code",
      "metadata": {
        "id": "gkczIKQEelHq",
        "colab": {
          "base_uri": "https://localhost:8080/"
        },
        "outputId": "8204b917-ea3a-4f0f-eec7-881635cbd0c8"
      },
      "source": [
        "confusion_matrix(y_train_perfect_predictions,y_train_5)"
      ],
      "execution_count": null,
      "outputs": [
        {
          "output_type": "execute_result",
          "data": {
            "text/plain": [
              "array([[50960,     0],\n",
              "       [    0,  5040]])"
            ]
          },
          "metadata": {},
          "execution_count": 102
        }
      ]
    },
    {
      "cell_type": "markdown",
      "metadata": {
        "id": "p-0rop3R1aYm"
      },
      "source": [
        "# Precision of our SGD model!"
      ]
    },
    {
      "cell_type": "code",
      "metadata": {
        "id": "taW48oHselHt",
        "colab": {
          "base_uri": "https://localhost:8080/"
        },
        "outputId": "905eacf6-4813-468f-e06e-5f7d20b22f47"
      },
      "source": [
        "from sklearn.metrics import precision_score, recall_score\n",
        "\n",
        "precision_score(y_train_5, y_train_pred)\n",
        "\n",
        "#2995/(2995+291)"
      ],
      "execution_count": null,
      "outputs": [
        {
          "output_type": "execute_result",
          "data": {
            "text/plain": [
              "0.8563631853138179"
            ]
          },
          "metadata": {},
          "execution_count": 103
        }
      ]
    },
    {
      "cell_type": "markdown",
      "metadata": {
        "id": "kZIPoibm1dgk"
      },
      "source": [
        "#  Recall of our SGD model"
      ]
    },
    {
      "cell_type": "code",
      "metadata": {
        "id": "AfRIa7jkelHz",
        "colab": {
          "base_uri": "https://localhost:8080/"
        },
        "outputId": "63c2cbeb-5d1a-42c9-8f05-3ae20d623aa9"
      },
      "source": [
        "recall_score(y_train_5, y_train_pred)\n",
        "\n",
        "#2995/(2995+2045)"
      ],
      "execution_count": null,
      "outputs": [
        {
          "output_type": "execute_result",
          "data": {
            "text/plain": [
              "0.6849206349206349"
            ]
          },
          "metadata": {},
          "execution_count": 104
        }
      ]
    },
    {
      "cell_type": "markdown",
      "metadata": {
        "id": "bbQVktKM1ga0"
      },
      "source": [
        "# F1 score of our model"
      ]
    },
    {
      "cell_type": "code",
      "metadata": {
        "id": "GOJy3vPqelH5",
        "colab": {
          "base_uri": "https://localhost:8080/"
        },
        "outputId": "b46cbda8-2d7b-47b7-c2f9-3bbc81a7e7b9"
      },
      "source": [
        "from sklearn.metrics import f1_score\n",
        "f1_score(y_train_5, y_train_pred)\n",
        "\n",
        "# As you see, F1 score penalizes 91% compared to 59% recall"
      ],
      "execution_count": null,
      "outputs": [
        {
          "output_type": "execute_result",
          "data": {
            "text/plain": [
              "0.7611068239444384"
            ]
          },
          "metadata": {},
          "execution_count": 105
        }
      ]
    },
    {
      "cell_type": "markdown",
      "metadata": {
        "id": "pwm_qIKF1u_r"
      },
      "source": [
        "#What is best Precision Recall Ratio?"
      ]
    },
    {
      "cell_type": "code",
      "metadata": {
        "id": "gveM2XkCelH9",
        "colab": {
          "base_uri": "https://localhost:8080/"
        },
        "outputId": "0458db6a-7ece-470b-e55e-daa606794e46"
      },
      "source": [
        "#\n",
        "y_scores = sgd_clf.decision_function([some_digit])\n",
        "y_scores"
      ],
      "execution_count": null,
      "outputs": [
        {
          "output_type": "stream",
          "name": "stderr",
          "text": [
            "/usr/local/lib/python3.7/dist-packages/sklearn/base.py:451: UserWarning: X does not have valid feature names, but SGDClassifier was fitted with feature names\n",
            "  \"X does not have valid feature names, but\"\n"
          ]
        },
        {
          "output_type": "execute_result",
          "data": {
            "text/plain": [
              "array([-713019.39065759])"
            ]
          },
          "metadata": {},
          "execution_count": 106
        }
      ]
    },
    {
      "cell_type": "code",
      "metadata": {
        "id": "tAOK6AAtelIA"
      },
      "source": [
        "threshold = 0\n",
        "y_some_digit_pred = (y_scores > threshold)"
      ],
      "execution_count": null,
      "outputs": []
    },
    {
      "cell_type": "code",
      "metadata": {
        "id": "2489GhbrelIC",
        "colab": {
          "base_uri": "https://localhost:8080/"
        },
        "outputId": "fe349894-e6e0-4d20-bed7-c8d50f16f8ea"
      },
      "source": [
        "y_some_digit_pred"
      ],
      "execution_count": null,
      "outputs": [
        {
          "output_type": "execute_result",
          "data": {
            "text/plain": [
              "array([False])"
            ]
          },
          "metadata": {},
          "execution_count": 108
        }
      ]
    },
    {
      "cell_type": "code",
      "metadata": {
        "id": "P7XtfF01elIF",
        "colab": {
          "base_uri": "https://localhost:8080/"
        },
        "outputId": "5998062c-f19d-4477-bfa7-700f848fda2e"
      },
      "source": [
        "threshold = 200000\n",
        "y_some_digit_pred = (y_scores > threshold)\n",
        "y_some_digit_pred"
      ],
      "execution_count": null,
      "outputs": [
        {
          "output_type": "execute_result",
          "data": {
            "text/plain": [
              "array([False])"
            ]
          },
          "metadata": {},
          "execution_count": 109
        }
      ]
    },
    {
      "cell_type": "code",
      "metadata": {
        "id": "Me9lkVX_elIL"
      },
      "source": [
        "y_scores = cross_val_predict(sgd_clf, X_train, y_train_5, cv=3,\n",
        "                             method=\"decision_function\")"
      ],
      "execution_count": null,
      "outputs": []
    },
    {
      "cell_type": "code",
      "metadata": {
        "id": "LCuUMFz_2otO",
        "colab": {
          "base_uri": "https://localhost:8080/"
        },
        "outputId": "5bfab86e-bfe0-45db-e179-f713863e6d5c"
      },
      "source": [
        "y_scores_ = sgd_clf.decision_function(X_train)\n",
        "y_scores_"
      ],
      "execution_count": null,
      "outputs": [
        {
          "output_type": "execute_result",
          "data": {
            "text/plain": [
              "array([   5963.20358648, -363746.26157173,   67327.05185641, ...,\n",
              "        -79483.86206143, -247685.13679906, -433566.97267746])"
            ]
          },
          "metadata": {},
          "execution_count": 111
        }
      ]
    },
    {
      "cell_type": "markdown",
      "metadata": {
        "id": "au0uXULmelIN"
      },
      "source": [
        "Note: there was an [issue](https://github.com/scikit-learn/scikit-learn/issues/9589) in Scikit-Learn 0.19.0 (fixed in 0.19.1) where the result of `cross_val_predict()` was incorrect in the binary classification case when using `method=\"decision_function\"`, as in the code above. The resulting array had an extra first dimension full of 0s. Just in case you are using 0.19.0, we need to add this small hack to work around this issue:"
      ]
    },
    {
      "cell_type": "code",
      "metadata": {
        "id": "wBsCE-pselIN",
        "colab": {
          "base_uri": "https://localhost:8080/"
        },
        "outputId": "8fee93d0-0734-4a27-d990-2920b17fc66f"
      },
      "source": [
        "y_scores.shape"
      ],
      "execution_count": null,
      "outputs": [
        {
          "output_type": "execute_result",
          "data": {
            "text/plain": [
              "(56000,)"
            ]
          },
          "metadata": {},
          "execution_count": 112
        }
      ]
    },
    {
      "cell_type": "code",
      "metadata": {
        "id": "j6WXVjiOelIP"
      },
      "source": [
        "# hack to work around issue #9589 in Scikit-Learn 0.19.0\n",
        "if y_scores.ndim == 2:\n",
        "    y_scores = y_scores[:, 1]"
      ],
      "execution_count": null,
      "outputs": []
    },
    {
      "cell_type": "markdown",
      "metadata": {
        "id": "7q9XobEU2Rw_"
      },
      "source": [
        "# Plot Precision/Recall Curve"
      ]
    },
    {
      "cell_type": "code",
      "metadata": {
        "id": "EUheNAdmelIR"
      },
      "source": [
        "from sklearn.metrics import precision_recall_curve\n",
        "\n",
        "precisions, recalls, thresholds = precision_recall_curve(y_train_5, y_scores)"
      ],
      "execution_count": null,
      "outputs": []
    },
    {
      "cell_type": "code",
      "metadata": {
        "id": "MMKtVSuGelIT",
        "colab": {
          "base_uri": "https://localhost:8080/"
        },
        "outputId": "f59f03d5-f771-403b-93a7-3422a8500d66"
      },
      "source": [
        "def plot_precision_recall_vs_threshold(precisions, recalls, thresholds):\n",
        "    plt.plot(thresholds, precisions[:-1], \"b--\", label=\"Precision\", linewidth=2)\n",
        "    plt.plot(thresholds, recalls[:-1], \"g-\", label=\"Recall\", linewidth=2)\n",
        "    plt.xlabel(\"Threshold\", fontsize=16)\n",
        "    plt.legend(loc=\"upper left\", fontsize=16)\n",
        "    plt.ylim([0, 1])\n",
        "\n",
        "plt.figure(figsize=(8, 4))\n",
        "plot_precision_recall_vs_threshold(precisions, recalls, thresholds)\n",
        "plt.xlim([-700000, 700000])\n",
        "#save_fig(\"precision_recall_vs_threshold_plot\")\n",
        "plt.show()"
      ],
      "execution_count": null,
      "outputs": [
        {
          "output_type": "display_data",
          "data": {
            "image/png": "[encoded data removed]",
            "text/plain": [
              "<Figure size 576x288 with 1 Axes>"
            ]
          },
          "metadata": {
            "needs_background": "light"
          }
        }
      ]
    },
    {
      "cell_type": "code",
      "metadata": {
        "id": "mr4KxfqzelIX",
        "colab": {
          "base_uri": "https://localhost:8080/"
        },
        "outputId": "df8053b4-ae8a-4adf-b325-16a62859c122"
      },
      "source": [
        "(y_train_pred == (y_scores > 0)).all()"
      ],
      "execution_count": null,
      "outputs": [
        {
          "output_type": "execute_result",
          "data": {
            "text/plain": [
              "False"
            ]
          },
          "metadata": {},
          "execution_count": 116
        }
      ]
    },
    {
      "cell_type": "code",
      "metadata": {
        "id": "trUNTeCCelIb"
      },
      "source": [
        "y_train_pred_90 = (y_scores > 70000)"
      ],
      "execution_count": null,
      "outputs": []
    },
    {
      "cell_type": "code",
      "metadata": {
        "id": "-7RK5CjNelIc",
        "colab": {
          "base_uri": "https://localhost:8080/"
        },
        "outputId": "1db7a5f2-2431-4050-a875-3da3d2310491"
      },
      "source": [
        "precision_score(y_train_5, y_train_pred_90)"
      ],
      "execution_count": null,
      "outputs": [
        {
          "output_type": "execute_result",
          "data": {
            "text/plain": [
              "0.7105596812171708"
            ]
          },
          "metadata": {},
          "execution_count": 118
        }
      ]
    },
    {
      "cell_type": "code",
      "metadata": {
        "id": "xc5bFhfdelIf",
        "colab": {
          "base_uri": "https://localhost:8080/"
        },
        "outputId": "aa3f5b98-20ed-4202-9c01-61b42ae2ccc7"
      },
      "source": [
        "recall_score(y_train_5, y_train_pred_90)"
      ],
      "execution_count": null,
      "outputs": [
        {
          "output_type": "execute_result",
          "data": {
            "text/plain": [
              "0.7783730158730159"
            ]
          },
          "metadata": {},
          "execution_count": 119
        }
      ]
    },
    {
      "cell_type": "code",
      "metadata": {
        "id": "Tfqpm0YyelIh",
        "colab": {
          "base_uri": "https://localhost:8080/"
        },
        "outputId": "4916e370-a87d-4589-a110-9d84aa54e010"
      },
      "source": [
        "def plot_precision_vs_recall(precisions, recalls):\n",
        "    plt.plot(recalls, precisions, \"b-\", linewidth=2)\n",
        "    plt.xlabel(\"Recall\", fontsize=16)\n",
        "    plt.ylabel(\"Precision\", fontsize=16)\n",
        "    plt.axis([0, 1, 0, 1])\n",
        "\n",
        "plt.figure(figsize=(8, 6))\n",
        "plot_precision_vs_recall(precisions, recalls)\n",
        "#save_fig(\"precision_vs_recall_plot\")\n",
        "plt.show()"
      ],
      "execution_count": null,
      "outputs": [
        {
          "output_type": "display_data",
          "data": {
            "image/png": "[encoded data removed]",
            "text/plain": [
              "<Figure size 576x432 with 1 Axes>"
            ]
          },
          "metadata": {
            "needs_background": "light"
          }
        }
      ]
    },
    {
      "cell_type": "markdown",
      "metadata": {
        "id": "2ExQNmdfelIj"
      },
      "source": [
        "# ROC curves"
      ]
    },
    {
      "cell_type": "code",
      "metadata": {
        "id": "CaIOH_3GelIk"
      },
      "source": [
        "from sklearn.metrics import roc_curve\n",
        "\n",
        "fpr, tpr, thresholds = roc_curve(y_train_5, y_scores)"
      ],
      "execution_count": null,
      "outputs": []
    },
    {
      "cell_type": "code",
      "metadata": {
        "id": "OUTYxWz6elIm",
        "colab": {
          "base_uri": "https://localhost:8080/"
        },
        "outputId": "fe28fe85-473a-4edd-c947-8a66d4c7c419"
      },
      "source": [
        "def plot_roc_curve(fpr, tpr, label=None):\n",
        "    plt.plot(fpr, tpr, linewidth=2, label=label)\n",
        "    plt.plot([0, 1], [0, 1], 'k--')\n",
        "    plt.axis([0, 1, 0, 1])\n",
        "    plt.xlabel('False Positive Rate', fontsize=16)\n",
        "    plt.ylabel('True Positive Rate', fontsize=16)\n",
        "\n",
        "plt.figure(figsize=(8, 6))\n",
        "plot_roc_curve(fpr, tpr)\n",
        "#save_fig(\"roc_curve_plot\")\n",
        "plt.show()"
      ],
      "execution_count": null,
      "outputs": [
        {
          "output_type": "display_data",
          "data": {
            "image/png": "[encoded data removed]",
            "text/plain": [
              "<Figure size 576x432 with 1 Axes>"
            ]
          },
          "metadata": {
            "needs_background": "light"
          }
        }
      ]
    },
    {
      "cell_type": "code",
      "metadata": {
        "id": "S8Mg8_9selIo",
        "colab": {
          "base_uri": "https://localhost:8080/"
        },
        "outputId": "588f62d8-55e1-4cda-9b47-29aabe1e8646"
      },
      "source": [
        "from sklearn.metrics import roc_auc_score\n",
        "\n",
        "roc_auc_score(y_train_5, y_scores)"
      ],
      "execution_count": null,
      "outputs": [
        {
          "output_type": "execute_result",
          "data": {
            "text/plain": [
              "0.956802818425905"
            ]
          },
          "metadata": {},
          "execution_count": 123
        }
      ]
    },
    {
      "cell_type": "markdown",
      "metadata": {
        "id": "u4bwYXGqelIs"
      },
      "source": [
        "**Note**: we set `n_estimators=10` to avoid a warning about the fact that its default value will be set to 100 in Scikit-Learn 0.22."
      ]
    },
    {
      "cell_type": "code",
      "metadata": {
        "id": "tPlF18PLelIs"
      },
      "source": [
        "from sklearn.ensemble import RandomForestClassifier\n",
        "forest_clf = RandomForestClassifier(n_estimators=10, random_state=42)\n",
        "y_probas_forest = cross_val_predict(forest_clf, X_train, y_train_5, cv=3,\n",
        "                                    method=\"predict_proba\")"
      ],
      "execution_count": null,
      "outputs": []
    },
    {
      "cell_type": "code",
      "metadata": {
        "id": "27pryXfKelIw"
      },
      "source": [
        "y_scores_forest = y_probas_forest[:, 1] # score = proba of positive class\n",
        "fpr_forest, tpr_forest, thresholds_forest = roc_curve(y_train_5,y_scores_forest)"
      ],
      "execution_count": null,
      "outputs": []
    },
    {
      "cell_type": "code",
      "metadata": {
        "id": "Fyzj2tS1elIw"
      },
      "source": [
        "plt.figure(figsize=(8, 6))\n",
        "plt.plot(fpr, tpr, \"b:\", linewidth=2, label=\"SGD\")\n",
        "plot_roc_curve(fpr_forest, tpr_forest, \"Random Forest\")\n",
        "plt.legend(loc=\"lower right\", fontsize=16)\n",
        "#save_fig(\"roc_curve_comparison_plot\")\n",
        "plt.show()"
      ],
      "execution_count": null,
      "outputs": []
    },
    {
      "cell_type": "code",
      "metadata": {
        "id": "TuG4yb0yelIz"
      },
      "source": [
        "roc_auc_score(y_train_5, y_scores_forest)"
      ],
      "execution_count": null,
      "outputs": []
    },
    {
      "cell_type": "code",
      "metadata": {
        "id": "-Hk1V2HselI0"
      },
      "source": [
        "y_train_pred_forest = cross_val_predict(forest_clf, X_train, y_train_5, cv=3)\n",
        "precision_score(y_train_5, y_train_pred_forest)"
      ],
      "execution_count": null,
      "outputs": []
    },
    {
      "cell_type": "code",
      "metadata": {
        "id": "3AabNA0_elI2"
      },
      "source": [
        "recall_score(y_train_5, y_train_pred_forest)"
      ],
      "execution_count": null,
      "outputs": []
    }
  ]
}