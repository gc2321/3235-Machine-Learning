{
  "nbformat": 4,
  "nbformat_minor": 0,
  "metadata": {
    "colab": {
      "name": "People_SatisfactionGDP.ipynb",
      "provenance": []
    },
    "kernelspec": {
      "name": "python3",
      "display_name": "Python 3"
    }
  },
  "cells": [
    {
      "cell_type": "markdown",
      "metadata": {
        "id": "gseS97WXHRAJ"
      },
      "source": [
        "[![Open In Colab](https://colab.research.google.com/assets/colab-badge.svg)](https://github.com/saeid-uot/3253-Machine-Learning/blob/main/GitHubCodeRepo/Week_1/People_SatisfactionGDP.ipynb)\n"
      ]
    },
    {
      "cell_type": "markdown",
      "metadata": {
        "id": "IxL4u-CdRmkX"
      },
      "source": [
        "<a href=\"https://colab.research.google.com/github/googlecolab/colabtools/blob/master/notebooks/colab-github-demo.ipynb\">\n",
        "  <img src=\"https://colab.research.google.com/assets/colab-badge.svg\" alt=\"Open In Colab\"/>\n",
        "</a>"
      ]
    },
    {
      "cell_type": "markdown",
      "metadata": {
        "id": "-OMhwXX0Euz1"
      },
      "source": [
        "# Predict People Satisfaction Across the Globe\n",
        "\n",
        "**Objective:**\n",
        "We would like to build a model that predicts satisfaction score for people of different countries given their country GDP."
      ]
    },
    {
      "cell_type": "markdown",
      "metadata": {
        "id": "-sSMTG_Buxcm"
      },
      "source": [
        "#Note 1: How to enable code completion:\n",
        "\n",
        "Tools menu ==> click on settings ==> Editor ==> Enable \"Automatically trigger code completions\"\n",
        "\n",
        "\n"
      ]
    },
    {
      "cell_type": "markdown",
      "metadata": {
        "id": "x9L7_OwZix-k"
      },
      "source": [
        "#Note 2: Instructions to create a copy of this notebook for youtself\n",
        "\n",
        "You do not have write access to this notebook.\n",
        "\n",
        "* From Menu bar, Go to File,\n",
        "* Select \"Save a copy in my Drive\"\n",
        "* Navigate to Google Drive\n",
        "* Find a folder named \"Collab Notebook\" and open it to find your notebook.\n",
        "* Rename it and start making changes.\n",
        "\n",
        "**Note:** If there is any file you should read in your code, make sure you copy the file from instructor folder to your own Gdrive by following below steps:\n",
        "\n",
        "* Right clicking on the file name\n",
        "* Select \"Make a copy\"\n",
        "* Click on the new file\n",
        "* Move it to desired folder, preferrably where you have your notebook"
      ]
    },
    {
      "cell_type": "markdown",
      "metadata": {
        "id": "WaAyuEL-EfXy"
      },
      "source": [
        "# Download Dataset\n",
        "\n",
        "Download the Better Life Index data (latest edition, currently it is 2017) from the [OECD’s website](http://homl.info/4) as well as stats about GDP per capita from the [IMF’s website](http://homl.info/5). Then you join the tables and sort by GDP per capita."
      ]
    },
    {
      "cell_type": "markdown",
      "metadata": {
        "id": "ZWasUlHjGGHc"
      },
      "source": [
        "# Import Dataset to Google Colab\n",
        "\n",
        "1. Download CSV and XLS files to your computer\n",
        "2. Upload them to your Google Drive\n",
        "3. Open the CSV files using Google Sheets so Google will create the dataset in format of Google Sheets\n",
        "4. You can remove CSV and XLS files from your drive\n",
        "5. Use the step by step guide from [here](https://colab.research.google.com/notebooks/io.ipynb#scrollTo=vz-jH8T_Uk2c) and scroll down to **\" Google Sheets\" ** cell to import data into dataframe\n",
        "\n",
        "NOTE: After creating Google Sheet into your Drive, make sure you are converting Column 2015 to 0.00 format before importing it into Colab  otherwise Google will import it as a string and you will have hard time to clean the data\n",
        "\n",
        "\n"
      ]
    },
    {
      "cell_type": "code",
      "metadata": {
        "colab": {
          "base_uri": "https://localhost:8080/"
        },
        "id": "kCf7qFaAOosJ",
        "outputId": "c1b808d3-2e38-4fb8-db7a-43eca8d6b6d4"
      },
      "source": [
        "#get file from google drive\n",
        "%%time\n",
        "!pip install googledrivedownloader #black magic\n",
        "from google_drive_downloader import GoogleDriveDownloader as gdd\n",
        "\n",
        "# gdd.download_file_from_google_drive(file_id=\"1AavEtw38uMBhcDLmejYU_L8LVbbrWtlh\",\n",
        "#                                     dest_path=\"./BLI_30012019054825599.xlsx\",\n",
        "#                                     unzip=False)\n",
        "\n",
        "gdd.download_file_from_google_drive(file_id=\"1N8nT2DvzCV8e-5T01u5gAtWVf2ghl_mc\",\n",
        "                                    dest_path=\"./BLI.xlsx\",\n",
        "                                    unzip=False)\n",
        "\n",
        "gdd.download_file_from_google_drive(file_id=\"1IaJWQNnk6QdP7VjiovI3v4WobOnxnQdE\",\n",
        "                                    dest_path=\"./WEO_Data.xlsx\",\n",
        "                                    unzip=False)"
      ],
      "execution_count": null,
      "outputs": [
        {
          "output_type": "stream",
          "name": "stdout",
          "text": [
            "Requirement already satisfied: googledrivedownloader in /usr/local/lib/python3.7/dist-packages (0.4)\n",
            "CPU times: user 42.5 ms, sys: 9.3 ms, total: 51.8 ms\n",
            "Wall time: 3.75 s\n"
          ]
        }
      ]
    },
    {
      "cell_type": "code",
      "metadata": {
        "colab": {
          "base_uri": "https://localhost:8080/",
          "height": 1000
        },
        "id": "RNFFiDZgO0_K",
        "outputId": "b5a23d61-687a-4d83-b409-9f5eeb03aafd"
      },
      "source": [
        "import pandas as pd\n",
        "from IPython.display import display\n",
        "\n",
        "#load excel as dataframe\n",
        "bli = pd.read_excel(\"BLI.xlsx\", sheet_name=0)\n",
        "display(bli) #inspect if the dataframe is loaded correctly\n",
        "\n",
        "# Remove rows where inequality has values other than TOT\n",
        "bli = bli[bli[\"INEQUALITY\"]==\"TOT\"]\n",
        "\n",
        "# Reformat data based on \"indicator column\"\n",
        "bli = bli.pivot(index=\"Country\", columns=\"Indicator\", values=\"Value\")\n",
        "\n",
        "bli[\"Life satisfaction\"].head()"
      ],
      "execution_count": null,
      "outputs": [
        {
          "output_type": "display_data",
          "data": {
            "text/html": [
              "<div>\n",
              "<style scoped>\n",
              "    .dataframe tbody tr th:only-of-type {\n",
              "        vertical-align: middle;\n",
              "    }\n",
              "\n",
              "    .dataframe tbody tr th {\n",
              "        vertical-align: top;\n",
              "    }\n",
              "\n",
              "    .dataframe thead th {\n",
              "        text-align: right;\n",
              "    }\n",
              "</style>\n",
              "<table border=\"1\" class=\"dataframe\">\n",
              "  <thead>\n",
              "    <tr style=\"text-align: right;\">\n",
              "      <th></th>\n",
              "      <th>LOCATION</th>\n",
              "      <th>Country</th>\n",
              "      <th>INDICATOR</th>\n",
              "      <th>Indicator</th>\n",
              "      <th>MEASURE</th>\n",
              "      <th>Measure</th>\n",
              "      <th>INEQUALITY</th>\n",
              "      <th>Inequality</th>\n",
              "      <th>Unit Code</th>\n",
              "      <th>Unit</th>\n",
              "      <th>PowerCode Code</th>\n",
              "      <th>PowerCode</th>\n",
              "      <th>Reference Period Code</th>\n",
              "      <th>Reference Period</th>\n",
              "      <th>Value</th>\n",
              "      <th>Flag Codes</th>\n",
              "      <th>Flags</th>\n",
              "    </tr>\n",
              "  </thead>\n",
              "  <tbody>\n",
              "    <tr>\n",
              "      <th>0</th>\n",
              "      <td>AUS</td>\n",
              "      <td>Australia</td>\n",
              "      <td>JE_LMIS</td>\n",
              "      <td>Labour market insecurity</td>\n",
              "      <td>L</td>\n",
              "      <td>Value</td>\n",
              "      <td>TOT</td>\n",
              "      <td>Total</td>\n",
              "      <td>PC</td>\n",
              "      <td>Percentage</td>\n",
              "      <td>0.0</td>\n",
              "      <td>Units</td>\n",
              "      <td>NaN</td>\n",
              "      <td>NaN</td>\n",
              "      <td>4.300000</td>\n",
              "      <td>NaN</td>\n",
              "      <td>NaN</td>\n",
              "    </tr>\n",
              "    <tr>\n",
              "      <th>1</th>\n",
              "      <td>AUS</td>\n",
              "      <td>Australia</td>\n",
              "      <td>CG_SENG</td>\n",
              "      <td>Stakeholder engagement for developing regulations</td>\n",
              "      <td>L</td>\n",
              "      <td>Value</td>\n",
              "      <td>TOT</td>\n",
              "      <td>Total</td>\n",
              "      <td>AVSCORE</td>\n",
              "      <td>Average score</td>\n",
              "      <td>0.0</td>\n",
              "      <td>Units</td>\n",
              "      <td>NaN</td>\n",
              "      <td>NaN</td>\n",
              "      <td>2.700000</td>\n",
              "      <td>NaN</td>\n",
              "      <td>NaN</td>\n",
              "    </tr>\n",
              "    <tr>\n",
              "      <th>2</th>\n",
              "      <td>AUS</td>\n",
              "      <td>Australia</td>\n",
              "      <td>CG_SENG</td>\n",
              "      <td>Stakeholder engagement for developing regulations</td>\n",
              "      <td>L</td>\n",
              "      <td>Value</td>\n",
              "      <td>MN</td>\n",
              "      <td>Men</td>\n",
              "      <td>AVSCORE</td>\n",
              "      <td>Average score</td>\n",
              "      <td>0.0</td>\n",
              "      <td>Units</td>\n",
              "      <td>NaN</td>\n",
              "      <td>NaN</td>\n",
              "      <td>2.700000</td>\n",
              "      <td>E</td>\n",
              "      <td>Estimated value</td>\n",
              "    </tr>\n",
              "    <tr>\n",
              "      <th>3</th>\n",
              "      <td>AUS</td>\n",
              "      <td>Australia</td>\n",
              "      <td>CG_SENG</td>\n",
              "      <td>Stakeholder engagement for developing regulations</td>\n",
              "      <td>L</td>\n",
              "      <td>Value</td>\n",
              "      <td>WMN</td>\n",
              "      <td>Women</td>\n",
              "      <td>AVSCORE</td>\n",
              "      <td>Average score</td>\n",
              "      <td>0.0</td>\n",
              "      <td>Units</td>\n",
              "      <td>NaN</td>\n",
              "      <td>NaN</td>\n",
              "      <td>2.700000</td>\n",
              "      <td>E</td>\n",
              "      <td>Estimated value</td>\n",
              "    </tr>\n",
              "    <tr>\n",
              "      <th>4</th>\n",
              "      <td>AUS</td>\n",
              "      <td>Australia</td>\n",
              "      <td>PS_FSAFEN</td>\n",
              "      <td>Feeling safe walking alone at night</td>\n",
              "      <td>L</td>\n",
              "      <td>Value</td>\n",
              "      <td>TOT</td>\n",
              "      <td>Total</td>\n",
              "      <td>PC</td>\n",
              "      <td>Percentage</td>\n",
              "      <td>0.0</td>\n",
              "      <td>Units</td>\n",
              "      <td>NaN</td>\n",
              "      <td>NaN</td>\n",
              "      <td>63.600000</td>\n",
              "      <td>NaN</td>\n",
              "      <td>NaN</td>\n",
              "    </tr>\n",
              "    <tr>\n",
              "      <th>...</th>\n",
              "      <td>...</td>\n",
              "      <td>...</td>\n",
              "      <td>...</td>\n",
              "      <td>...</td>\n",
              "      <td>...</td>\n",
              "      <td>...</td>\n",
              "      <td>...</td>\n",
              "      <td>...</td>\n",
              "      <td>...</td>\n",
              "      <td>...</td>\n",
              "      <td>...</td>\n",
              "      <td>...</td>\n",
              "      <td>...</td>\n",
              "      <td>...</td>\n",
              "      <td>...</td>\n",
              "      <td>...</td>\n",
              "      <td>...</td>\n",
              "    </tr>\n",
              "    <tr>\n",
              "      <th>3394</th>\n",
              "      <td>USA</td>\n",
              "      <td>United States</td>\n",
              "      <td>WL_EWLH</td>\n",
              "      <td>Employees working very long hours</td>\n",
              "      <td>L</td>\n",
              "      <td>Value</td>\n",
              "      <td>WMN</td>\n",
              "      <td>Women</td>\n",
              "      <td>PC</td>\n",
              "      <td>Percentage</td>\n",
              "      <td>0.0</td>\n",
              "      <td>Units</td>\n",
              "      <td>NaN</td>\n",
              "      <td>NaN</td>\n",
              "      <td>6.860000</td>\n",
              "      <td>NaN</td>\n",
              "      <td>NaN</td>\n",
              "    </tr>\n",
              "    <tr>\n",
              "      <th>3395</th>\n",
              "      <td>USA</td>\n",
              "      <td>United States</td>\n",
              "      <td>WL_TNOW</td>\n",
              "      <td>Time devoted to leisure and personal care</td>\n",
              "      <td>L</td>\n",
              "      <td>Value</td>\n",
              "      <td>TOT</td>\n",
              "      <td>Total</td>\n",
              "      <td>HOUR</td>\n",
              "      <td>Hours</td>\n",
              "      <td>0.0</td>\n",
              "      <td>Units</td>\n",
              "      <td>NaN</td>\n",
              "      <td>NaN</td>\n",
              "      <td>14.440000</td>\n",
              "      <td>NaN</td>\n",
              "      <td>NaN</td>\n",
              "    </tr>\n",
              "    <tr>\n",
              "      <th>3396</th>\n",
              "      <td>USA</td>\n",
              "      <td>United States</td>\n",
              "      <td>WL_TNOW</td>\n",
              "      <td>Time devoted to leisure and personal care</td>\n",
              "      <td>L</td>\n",
              "      <td>Value</td>\n",
              "      <td>MN</td>\n",
              "      <td>Men</td>\n",
              "      <td>HOUR</td>\n",
              "      <td>Hours</td>\n",
              "      <td>0.0</td>\n",
              "      <td>Units</td>\n",
              "      <td>NaN</td>\n",
              "      <td>NaN</td>\n",
              "      <td>14.480000</td>\n",
              "      <td>NaN</td>\n",
              "      <td>NaN</td>\n",
              "    </tr>\n",
              "    <tr>\n",
              "      <th>3397</th>\n",
              "      <td>USA</td>\n",
              "      <td>United States</td>\n",
              "      <td>WL_TNOW</td>\n",
              "      <td>Time devoted to leisure and personal care</td>\n",
              "      <td>L</td>\n",
              "      <td>Value</td>\n",
              "      <td>WMN</td>\n",
              "      <td>Women</td>\n",
              "      <td>HOUR</td>\n",
              "      <td>Hours</td>\n",
              "      <td>0.0</td>\n",
              "      <td>Units</td>\n",
              "      <td>NaN</td>\n",
              "      <td>NaN</td>\n",
              "      <td>14.390000</td>\n",
              "      <td>NaN</td>\n",
              "      <td>NaN</td>\n",
              "    </tr>\n",
              "    <tr>\n",
              "      <th>3398</th>\n",
              "      <td>NaN</td>\n",
              "      <td>NaN</td>\n",
              "      <td>NaN</td>\n",
              "      <td>NaN</td>\n",
              "      <td>NaN</td>\n",
              "      <td>NaN</td>\n",
              "      <td>NaN</td>\n",
              "      <td>NaN</td>\n",
              "      <td>NaN</td>\n",
              "      <td>NaN</td>\n",
              "      <td>NaN</td>\n",
              "      <td>NaN</td>\n",
              "      <td>NaN</td>\n",
              "      <td>NaN</td>\n",
              "      <td>7152.398471</td>\n",
              "      <td>NaN</td>\n",
              "      <td>NaN</td>\n",
              "    </tr>\n",
              "  </tbody>\n",
              "</table>\n",
              "<p>3399 rows × 17 columns</p>\n",
              "</div>"
            ],
            "text/plain": [
              "     LOCATION        Country  ... Flag Codes            Flags\n",
              "0         AUS      Australia  ...        NaN              NaN\n",
              "1         AUS      Australia  ...        NaN              NaN\n",
              "2         AUS      Australia  ...          E  Estimated value\n",
              "3         AUS      Australia  ...          E  Estimated value\n",
              "4         AUS      Australia  ...        NaN              NaN\n",
              "...       ...            ...  ...        ...              ...\n",
              "3394      USA  United States  ...        NaN              NaN\n",
              "3395      USA  United States  ...        NaN              NaN\n",
              "3396      USA  United States  ...        NaN              NaN\n",
              "3397      USA  United States  ...        NaN              NaN\n",
              "3398      NaN            NaN  ...        NaN              NaN\n",
              "\n",
              "[3399 rows x 17 columns]"
            ]
          },
          "metadata": {}
        },
        {
          "output_type": "execute_result",
          "data": {
            "text/plain": [
              "Country\n",
              "Australia    7.3\n",
              "Austria      7.0\n",
              "Belgium      6.9\n",
              "Brazil       6.6\n",
              "Canada       7.3\n",
              "Name: Life satisfaction, dtype: float64"
            ]
          },
          "metadata": {},
          "execution_count": 4
        }
      ]
    },
    {
      "cell_type": "code",
      "metadata": {
        "colab": {
          "base_uri": "https://localhost:8080/",
          "height": 360
        },
        "id": "PJ42_kqLt7Zq",
        "outputId": "97e0a4d7-ac85-4ee3-f7e3-8e8ac52eca73"
      },
      "source": [
        "bli[0:5]"
      ],
      "execution_count": null,
      "outputs": [
        {
          "output_type": "execute_result",
          "data": {
            "text/html": [
              "<div>\n",
              "<style scoped>\n",
              "    .dataframe tbody tr th:only-of-type {\n",
              "        vertical-align: middle;\n",
              "    }\n",
              "\n",
              "    .dataframe tbody tr th {\n",
              "        vertical-align: top;\n",
              "    }\n",
              "\n",
              "    .dataframe thead th {\n",
              "        text-align: right;\n",
              "    }\n",
              "</style>\n",
              "<table border=\"1\" class=\"dataframe\">\n",
              "  <thead>\n",
              "    <tr style=\"text-align: right;\">\n",
              "      <th>Indicator</th>\n",
              "      <th>Air pollution</th>\n",
              "      <th>Dwellings without basic facilities</th>\n",
              "      <th>Educational attainment</th>\n",
              "      <th>Employees working very long hours</th>\n",
              "      <th>Employment rate</th>\n",
              "      <th>Feeling safe walking alone at night</th>\n",
              "      <th>Homicide rate</th>\n",
              "      <th>Household net adjusted disposable income</th>\n",
              "      <th>Household net financial wealth</th>\n",
              "      <th>Housing expenditure</th>\n",
              "      <th>Labour market insecurity</th>\n",
              "      <th>Life expectancy</th>\n",
              "      <th>Life satisfaction</th>\n",
              "      <th>Long-term unemployment rate</th>\n",
              "      <th>Personal earnings</th>\n",
              "      <th>Quality of support network</th>\n",
              "      <th>Rooms per person</th>\n",
              "      <th>Self-reported health</th>\n",
              "      <th>Stakeholder engagement for developing regulations</th>\n",
              "      <th>Student skills</th>\n",
              "      <th>Time devoted to leisure and personal care</th>\n",
              "      <th>Voter turnout</th>\n",
              "      <th>Water quality</th>\n",
              "      <th>Years in education</th>\n",
              "    </tr>\n",
              "    <tr>\n",
              "      <th>Country</th>\n",
              "      <th></th>\n",
              "      <th></th>\n",
              "      <th></th>\n",
              "      <th></th>\n",
              "      <th></th>\n",
              "      <th></th>\n",
              "      <th></th>\n",
              "      <th></th>\n",
              "      <th></th>\n",
              "      <th></th>\n",
              "      <th></th>\n",
              "      <th></th>\n",
              "      <th></th>\n",
              "      <th></th>\n",
              "      <th></th>\n",
              "      <th></th>\n",
              "      <th></th>\n",
              "      <th></th>\n",
              "      <th></th>\n",
              "      <th></th>\n",
              "      <th></th>\n",
              "      <th></th>\n",
              "      <th></th>\n",
              "      <th></th>\n",
              "    </tr>\n",
              "  </thead>\n",
              "  <tbody>\n",
              "    <tr>\n",
              "      <th>Australia</th>\n",
              "      <td>5.0</td>\n",
              "      <td>1.1</td>\n",
              "      <td>80.0</td>\n",
              "      <td>13.20</td>\n",
              "      <td>72.0</td>\n",
              "      <td>63.6</td>\n",
              "      <td>1.0</td>\n",
              "      <td>33417.0</td>\n",
              "      <td>57462.0</td>\n",
              "      <td>20.0</td>\n",
              "      <td>4.3</td>\n",
              "      <td>82.5</td>\n",
              "      <td>7.3</td>\n",
              "      <td>1.36</td>\n",
              "      <td>52063.0</td>\n",
              "      <td>94.0</td>\n",
              "      <td>2.3</td>\n",
              "      <td>85.0</td>\n",
              "      <td>2.7</td>\n",
              "      <td>502.0</td>\n",
              "      <td>14.35</td>\n",
              "      <td>91.0</td>\n",
              "      <td>92.0</td>\n",
              "      <td>21.2</td>\n",
              "    </tr>\n",
              "    <tr>\n",
              "      <th>Austria</th>\n",
              "      <td>16.0</td>\n",
              "      <td>1.0</td>\n",
              "      <td>85.0</td>\n",
              "      <td>6.78</td>\n",
              "      <td>72.0</td>\n",
              "      <td>80.7</td>\n",
              "      <td>0.4</td>\n",
              "      <td>32544.0</td>\n",
              "      <td>59574.0</td>\n",
              "      <td>21.0</td>\n",
              "      <td>2.7</td>\n",
              "      <td>81.3</td>\n",
              "      <td>7.0</td>\n",
              "      <td>1.94</td>\n",
              "      <td>48295.0</td>\n",
              "      <td>92.0</td>\n",
              "      <td>1.6</td>\n",
              "      <td>70.0</td>\n",
              "      <td>1.3</td>\n",
              "      <td>492.0</td>\n",
              "      <td>14.55</td>\n",
              "      <td>75.0</td>\n",
              "      <td>93.0</td>\n",
              "      <td>17.1</td>\n",
              "    </tr>\n",
              "    <tr>\n",
              "      <th>Belgium</th>\n",
              "      <td>15.0</td>\n",
              "      <td>2.3</td>\n",
              "      <td>75.0</td>\n",
              "      <td>4.31</td>\n",
              "      <td>62.0</td>\n",
              "      <td>70.7</td>\n",
              "      <td>1.0</td>\n",
              "      <td>29968.0</td>\n",
              "      <td>104084.0</td>\n",
              "      <td>21.0</td>\n",
              "      <td>4.8</td>\n",
              "      <td>81.1</td>\n",
              "      <td>6.9</td>\n",
              "      <td>3.98</td>\n",
              "      <td>49587.0</td>\n",
              "      <td>92.0</td>\n",
              "      <td>2.2</td>\n",
              "      <td>75.0</td>\n",
              "      <td>2.2</td>\n",
              "      <td>503.0</td>\n",
              "      <td>15.77</td>\n",
              "      <td>89.0</td>\n",
              "      <td>84.0</td>\n",
              "      <td>18.2</td>\n",
              "    </tr>\n",
              "    <tr>\n",
              "      <th>Brazil</th>\n",
              "      <td>10.0</td>\n",
              "      <td>6.7</td>\n",
              "      <td>49.0</td>\n",
              "      <td>7.15</td>\n",
              "      <td>64.0</td>\n",
              "      <td>37.3</td>\n",
              "      <td>27.6</td>\n",
              "      <td>12227.0</td>\n",
              "      <td>7102.0</td>\n",
              "      <td>20.0</td>\n",
              "      <td>4.9</td>\n",
              "      <td>74.7</td>\n",
              "      <td>6.6</td>\n",
              "      <td>3.37</td>\n",
              "      <td>14024.0</td>\n",
              "      <td>90.0</td>\n",
              "      <td>0.8</td>\n",
              "      <td>70.0</td>\n",
              "      <td>2.2</td>\n",
              "      <td>395.0</td>\n",
              "      <td>14.45</td>\n",
              "      <td>79.0</td>\n",
              "      <td>72.0</td>\n",
              "      <td>15.9</td>\n",
              "    </tr>\n",
              "    <tr>\n",
              "      <th>Canada</th>\n",
              "      <td>7.0</td>\n",
              "      <td>0.2</td>\n",
              "      <td>91.0</td>\n",
              "      <td>3.73</td>\n",
              "      <td>73.0</td>\n",
              "      <td>80.9</td>\n",
              "      <td>1.4</td>\n",
              "      <td>29850.0</td>\n",
              "      <td>85758.0</td>\n",
              "      <td>22.0</td>\n",
              "      <td>3.9</td>\n",
              "      <td>81.5</td>\n",
              "      <td>7.3</td>\n",
              "      <td>0.81</td>\n",
              "      <td>48403.0</td>\n",
              "      <td>93.0</td>\n",
              "      <td>2.5</td>\n",
              "      <td>88.0</td>\n",
              "      <td>3.0</td>\n",
              "      <td>523.0</td>\n",
              "      <td>14.41</td>\n",
              "      <td>68.0</td>\n",
              "      <td>91.0</td>\n",
              "      <td>16.7</td>\n",
              "    </tr>\n",
              "  </tbody>\n",
              "</table>\n",
              "</div>"
            ],
            "text/plain": [
              "Indicator  Air pollution  ...  Years in education\n",
              "Country                   ...                    \n",
              "Australia            5.0  ...                21.2\n",
              "Austria             16.0  ...                17.1\n",
              "Belgium             15.0  ...                18.2\n",
              "Brazil              10.0  ...                15.9\n",
              "Canada               7.0  ...                16.7\n",
              "\n",
              "[5 rows x 24 columns]"
            ]
          },
          "metadata": {},
          "execution_count": 5
        }
      ]
    },
    {
      "cell_type": "code",
      "metadata": {
        "colab": {
          "base_uri": "https://localhost:8080/",
          "height": 815
        },
        "id": "xejBWZDCPWEw",
        "outputId": "9123763b-ceac-4313-ba67-29f4c3f2e39a"
      },
      "source": [
        "#load excel as dataframe\n",
        "weo = pd.read_excel(\"WEO_Data.xlsx\", sheet_name=0)\n",
        "display(weo) #inspect if the dataframe is loaded correctly\n",
        "\n",
        "# Drop the header row from data\n",
        "weo = weo.reindex(weo.index.drop(0))\n",
        "\n",
        "# 1- Select only Country name and 2015\n",
        "# 2- then rename it to GDP Per capita\n",
        "weo = weo[['Country','2015']].rename(columns={'2015':'GDP per capita'})\n",
        "\n",
        "# Set Country as index column\n",
        "# Inplace command, will replace the results of command into the same DF\n",
        "weo.set_index(\"Country\", inplace=True)\n",
        "\n",
        "#weo.drop_duplicates(inplace=True)\n",
        "#Print top 5 rows\n",
        "weo.head()\n"
      ],
      "execution_count": null,
      "outputs": [
        {
          "output_type": "display_data",
          "data": {
            "text/html": [
              "<div>\n",
              "<style scoped>\n",
              "    .dataframe tbody tr th:only-of-type {\n",
              "        vertical-align: middle;\n",
              "    }\n",
              "\n",
              "    .dataframe tbody tr th {\n",
              "        vertical-align: top;\n",
              "    }\n",
              "\n",
              "    .dataframe thead th {\n",
              "        text-align: right;\n",
              "    }\n",
              "</style>\n",
              "<table border=\"1\" class=\"dataframe\">\n",
              "  <thead>\n",
              "    <tr style=\"text-align: right;\">\n",
              "      <th></th>\n",
              "      <th>Country</th>\n",
              "      <th>Subject Descriptor</th>\n",
              "      <th>Units</th>\n",
              "      <th>Scale</th>\n",
              "      <th>Country/Series-specific Notes</th>\n",
              "      <th>2015</th>\n",
              "      <th>Estimates Start After</th>\n",
              "    </tr>\n",
              "  </thead>\n",
              "  <tbody>\n",
              "    <tr>\n",
              "      <th>0</th>\n",
              "      <td>Afghanistan</td>\n",
              "      <td>Gross domestic product per capita, current prices</td>\n",
              "      <td>U.S. dollars</td>\n",
              "      <td>Units</td>\n",
              "      <td>See notes for:  Gross domestic product, curren...</td>\n",
              "      <td>599.994</td>\n",
              "      <td>2013.0</td>\n",
              "    </tr>\n",
              "    <tr>\n",
              "      <th>1</th>\n",
              "      <td>Albania</td>\n",
              "      <td>Gross domestic product per capita, current prices</td>\n",
              "      <td>U.S. dollars</td>\n",
              "      <td>Units</td>\n",
              "      <td>See notes for:  Gross domestic product, curren...</td>\n",
              "      <td>3995.380</td>\n",
              "      <td>2010.0</td>\n",
              "    </tr>\n",
              "    <tr>\n",
              "      <th>2</th>\n",
              "      <td>Algeria</td>\n",
              "      <td>Gross domestic product per capita, current prices</td>\n",
              "      <td>U.S. dollars</td>\n",
              "      <td>Units</td>\n",
              "      <td>See notes for:  Gross domestic product, curren...</td>\n",
              "      <td>4318.140</td>\n",
              "      <td>2014.0</td>\n",
              "    </tr>\n",
              "    <tr>\n",
              "      <th>3</th>\n",
              "      <td>Angola</td>\n",
              "      <td>Gross domestic product per capita, current prices</td>\n",
              "      <td>U.S. dollars</td>\n",
              "      <td>Units</td>\n",
              "      <td>See notes for:  Gross domestic product, curren...</td>\n",
              "      <td>4100.320</td>\n",
              "      <td>2014.0</td>\n",
              "    </tr>\n",
              "    <tr>\n",
              "      <th>4</th>\n",
              "      <td>Antigua and Barbuda</td>\n",
              "      <td>Gross domestic product per capita, current prices</td>\n",
              "      <td>U.S. dollars</td>\n",
              "      <td>Units</td>\n",
              "      <td>See notes for:  Gross domestic product, curren...</td>\n",
              "      <td>14414.300</td>\n",
              "      <td>2011.0</td>\n",
              "    </tr>\n",
              "    <tr>\n",
              "      <th>...</th>\n",
              "      <td>...</td>\n",
              "      <td>...</td>\n",
              "      <td>...</td>\n",
              "      <td>...</td>\n",
              "      <td>...</td>\n",
              "      <td>...</td>\n",
              "      <td>...</td>\n",
              "    </tr>\n",
              "    <tr>\n",
              "      <th>186</th>\n",
              "      <td>Yemen</td>\n",
              "      <td>Gross domestic product per capita, current prices</td>\n",
              "      <td>U.S. dollars</td>\n",
              "      <td>Units</td>\n",
              "      <td>See notes for:  Gross domestic product, curren...</td>\n",
              "      <td>1302.940</td>\n",
              "      <td>2008.0</td>\n",
              "    </tr>\n",
              "    <tr>\n",
              "      <th>187</th>\n",
              "      <td>Zambia</td>\n",
              "      <td>Gross domestic product per capita, current prices</td>\n",
              "      <td>U.S. dollars</td>\n",
              "      <td>Units</td>\n",
              "      <td>See notes for:  Gross domestic product, curren...</td>\n",
              "      <td>1350.150</td>\n",
              "      <td>2010.0</td>\n",
              "    </tr>\n",
              "    <tr>\n",
              "      <th>188</th>\n",
              "      <td>Zimbabwe</td>\n",
              "      <td>Gross domestic product per capita, current prices</td>\n",
              "      <td>U.S. dollars</td>\n",
              "      <td>Units</td>\n",
              "      <td>See notes for:  Gross domestic product, curren...</td>\n",
              "      <td>1064.350</td>\n",
              "      <td>2012.0</td>\n",
              "    </tr>\n",
              "    <tr>\n",
              "      <th>189</th>\n",
              "      <td>NaN</td>\n",
              "      <td>NaN</td>\n",
              "      <td>NaN</td>\n",
              "      <td>NaN</td>\n",
              "      <td>NaN</td>\n",
              "      <td>NaN</td>\n",
              "      <td>NaN</td>\n",
              "    </tr>\n",
              "    <tr>\n",
              "      <th>190</th>\n",
              "      <td>International Monetary Fund, World Economic Ou...</td>\n",
              "      <td>NaN</td>\n",
              "      <td>NaN</td>\n",
              "      <td>NaN</td>\n",
              "      <td>NaN</td>\n",
              "      <td>NaN</td>\n",
              "      <td>NaN</td>\n",
              "    </tr>\n",
              "  </tbody>\n",
              "</table>\n",
              "<p>191 rows × 7 columns</p>\n",
              "</div>"
            ],
            "text/plain": [
              "                                               Country  ... Estimates Start After\n",
              "0                                          Afghanistan  ...                2013.0\n",
              "1                                              Albania  ...                2010.0\n",
              "2                                              Algeria  ...                2014.0\n",
              "3                                               Angola  ...                2014.0\n",
              "4                                  Antigua and Barbuda  ...                2011.0\n",
              "..                                                 ...  ...                   ...\n",
              "186                                              Yemen  ...                2008.0\n",
              "187                                             Zambia  ...                2010.0\n",
              "188                                           Zimbabwe  ...                2012.0\n",
              "189                                                NaN  ...                   NaN\n",
              "190  International Monetary Fund, World Economic Ou...  ...                   NaN\n",
              "\n",
              "[191 rows x 7 columns]"
            ]
          },
          "metadata": {}
        },
        {
          "output_type": "execute_result",
          "data": {
            "text/html": [
              "<div>\n",
              "<style scoped>\n",
              "    .dataframe tbody tr th:only-of-type {\n",
              "        vertical-align: middle;\n",
              "    }\n",
              "\n",
              "    .dataframe tbody tr th {\n",
              "        vertical-align: top;\n",
              "    }\n",
              "\n",
              "    .dataframe thead th {\n",
              "        text-align: right;\n",
              "    }\n",
              "</style>\n",
              "<table border=\"1\" class=\"dataframe\">\n",
              "  <thead>\n",
              "    <tr style=\"text-align: right;\">\n",
              "      <th></th>\n",
              "      <th>GDP per capita</th>\n",
              "    </tr>\n",
              "    <tr>\n",
              "      <th>Country</th>\n",
              "      <th></th>\n",
              "    </tr>\n",
              "  </thead>\n",
              "  <tbody>\n",
              "    <tr>\n",
              "      <th>Albania</th>\n",
              "      <td>3995.38</td>\n",
              "    </tr>\n",
              "    <tr>\n",
              "      <th>Algeria</th>\n",
              "      <td>4318.14</td>\n",
              "    </tr>\n",
              "    <tr>\n",
              "      <th>Angola</th>\n",
              "      <td>4100.32</td>\n",
              "    </tr>\n",
              "    <tr>\n",
              "      <th>Antigua and Barbuda</th>\n",
              "      <td>14414.30</td>\n",
              "    </tr>\n",
              "    <tr>\n",
              "      <th>Argentina</th>\n",
              "      <td>13588.85</td>\n",
              "    </tr>\n",
              "  </tbody>\n",
              "</table>\n",
              "</div>"
            ],
            "text/plain": [
              "                     GDP per capita\n",
              "Country                            \n",
              "Albania                     3995.38\n",
              "Algeria                     4318.14\n",
              "Angola                      4100.32\n",
              "Antigua and Barbuda        14414.30\n",
              "Argentina                  13588.85"
            ]
          },
          "metadata": {},
          "execution_count": 6
        }
      ]
    },
    {
      "cell_type": "markdown",
      "metadata": {
        "id": "XX_8yJTKNPkt"
      },
      "source": [
        "# Merge/Join dataset"
      ]
    },
    {
      "cell_type": "code",
      "metadata": {
        "id": "ZibYb4W-HuEy",
        "colab": {
          "base_uri": "https://localhost:8080/",
          "height": 377
        },
        "outputId": "9b634a6e-6109-467f-b911-ef46fd5f3e4a"
      },
      "source": [
        "# Now merge BLI and WEO datasets\n",
        "df = pd.merge(left = weo, right = bli, left_index=True, right_index=True)\n",
        "\n",
        "#sort the dataframe by GPD per capita\n",
        "df.sort_values(by=\"GDP per capita\", inplace=True)\n",
        "df.head()\n"
      ],
      "execution_count": null,
      "outputs": [
        {
          "output_type": "execute_result",
          "data": {
            "text/html": [
              "<div>\n",
              "<style scoped>\n",
              "    .dataframe tbody tr th:only-of-type {\n",
              "        vertical-align: middle;\n",
              "    }\n",
              "\n",
              "    .dataframe tbody tr th {\n",
              "        vertical-align: top;\n",
              "    }\n",
              "\n",
              "    .dataframe thead th {\n",
              "        text-align: right;\n",
              "    }\n",
              "</style>\n",
              "<table border=\"1\" class=\"dataframe\">\n",
              "  <thead>\n",
              "    <tr style=\"text-align: right;\">\n",
              "      <th></th>\n",
              "      <th>GDP per capita</th>\n",
              "      <th>Air pollution</th>\n",
              "      <th>Dwellings without basic facilities</th>\n",
              "      <th>Educational attainment</th>\n",
              "      <th>Employees working very long hours</th>\n",
              "      <th>Employment rate</th>\n",
              "      <th>Feeling safe walking alone at night</th>\n",
              "      <th>Homicide rate</th>\n",
              "      <th>Household net adjusted disposable income</th>\n",
              "      <th>Household net financial wealth</th>\n",
              "      <th>Housing expenditure</th>\n",
              "      <th>Labour market insecurity</th>\n",
              "      <th>Life expectancy</th>\n",
              "      <th>Life satisfaction</th>\n",
              "      <th>Long-term unemployment rate</th>\n",
              "      <th>Personal earnings</th>\n",
              "      <th>Quality of support network</th>\n",
              "      <th>Rooms per person</th>\n",
              "      <th>Self-reported health</th>\n",
              "      <th>Stakeholder engagement for developing regulations</th>\n",
              "      <th>Student skills</th>\n",
              "      <th>Time devoted to leisure and personal care</th>\n",
              "      <th>Voter turnout</th>\n",
              "      <th>Water quality</th>\n",
              "      <th>Years in education</th>\n",
              "    </tr>\n",
              "    <tr>\n",
              "      <th>Country</th>\n",
              "      <th></th>\n",
              "      <th></th>\n",
              "      <th></th>\n",
              "      <th></th>\n",
              "      <th></th>\n",
              "      <th></th>\n",
              "      <th></th>\n",
              "      <th></th>\n",
              "      <th></th>\n",
              "      <th></th>\n",
              "      <th></th>\n",
              "      <th></th>\n",
              "      <th></th>\n",
              "      <th></th>\n",
              "      <th></th>\n",
              "      <th></th>\n",
              "      <th></th>\n",
              "      <th></th>\n",
              "      <th></th>\n",
              "      <th></th>\n",
              "      <th></th>\n",
              "      <th></th>\n",
              "      <th></th>\n",
              "      <th></th>\n",
              "      <th></th>\n",
              "    </tr>\n",
              "  </thead>\n",
              "  <tbody>\n",
              "    <tr>\n",
              "      <th>South Africa</th>\n",
              "      <td>5694.57</td>\n",
              "      <td>22.0</td>\n",
              "      <td>37.0</td>\n",
              "      <td>43.0</td>\n",
              "      <td>18.68</td>\n",
              "      <td>43.0</td>\n",
              "      <td>36.1</td>\n",
              "      <td>10.0</td>\n",
              "      <td>10872.0</td>\n",
              "      <td>17042.0</td>\n",
              "      <td>18.0</td>\n",
              "      <td>26.5</td>\n",
              "      <td>57.4</td>\n",
              "      <td>4.8</td>\n",
              "      <td>15.57</td>\n",
              "      <td>11554.0</td>\n",
              "      <td>88.0</td>\n",
              "      <td>0.7</td>\n",
              "      <td>67.0</td>\n",
              "      <td>1.6</td>\n",
              "      <td>391.0</td>\n",
              "      <td>14.73</td>\n",
              "      <td>73.0</td>\n",
              "      <td>69.0</td>\n",
              "      <td>15.3</td>\n",
              "    </tr>\n",
              "    <tr>\n",
              "      <th>Brazil</th>\n",
              "      <td>8670.00</td>\n",
              "      <td>10.0</td>\n",
              "      <td>6.7</td>\n",
              "      <td>49.0</td>\n",
              "      <td>7.15</td>\n",
              "      <td>64.0</td>\n",
              "      <td>37.3</td>\n",
              "      <td>27.6</td>\n",
              "      <td>12227.0</td>\n",
              "      <td>7102.0</td>\n",
              "      <td>20.0</td>\n",
              "      <td>4.9</td>\n",
              "      <td>74.7</td>\n",
              "      <td>6.6</td>\n",
              "      <td>3.37</td>\n",
              "      <td>14024.0</td>\n",
              "      <td>90.0</td>\n",
              "      <td>0.8</td>\n",
              "      <td>70.0</td>\n",
              "      <td>2.2</td>\n",
              "      <td>395.0</td>\n",
              "      <td>14.45</td>\n",
              "      <td>79.0</td>\n",
              "      <td>72.0</td>\n",
              "      <td>15.9</td>\n",
              "    </tr>\n",
              "    <tr>\n",
              "      <th>Mexico</th>\n",
              "      <td>9009.28</td>\n",
              "      <td>16.0</td>\n",
              "      <td>4.2</td>\n",
              "      <td>37.0</td>\n",
              "      <td>29.48</td>\n",
              "      <td>61.0</td>\n",
              "      <td>45.9</td>\n",
              "      <td>17.9</td>\n",
              "      <td>13891.0</td>\n",
              "      <td>4750.0</td>\n",
              "      <td>21.0</td>\n",
              "      <td>4.6</td>\n",
              "      <td>75.0</td>\n",
              "      <td>6.6</td>\n",
              "      <td>0.08</td>\n",
              "      <td>15311.0</td>\n",
              "      <td>80.0</td>\n",
              "      <td>1.0</td>\n",
              "      <td>66.0</td>\n",
              "      <td>3.5</td>\n",
              "      <td>416.0</td>\n",
              "      <td>12.74</td>\n",
              "      <td>63.0</td>\n",
              "      <td>67.0</td>\n",
              "      <td>14.8</td>\n",
              "    </tr>\n",
              "    <tr>\n",
              "      <th>Russia</th>\n",
              "      <td>9054.91</td>\n",
              "      <td>15.0</td>\n",
              "      <td>13.8</td>\n",
              "      <td>95.0</td>\n",
              "      <td>0.16</td>\n",
              "      <td>70.0</td>\n",
              "      <td>52.2</td>\n",
              "      <td>11.3</td>\n",
              "      <td>16657.0</td>\n",
              "      <td>2260.0</td>\n",
              "      <td>19.0</td>\n",
              "      <td>3.6</td>\n",
              "      <td>71.3</td>\n",
              "      <td>6.0</td>\n",
              "      <td>1.64</td>\n",
              "      <td>22101.0</td>\n",
              "      <td>90.0</td>\n",
              "      <td>1.0</td>\n",
              "      <td>43.0</td>\n",
              "      <td>0.8</td>\n",
              "      <td>492.0</td>\n",
              "      <td>14.90</td>\n",
              "      <td>65.0</td>\n",
              "      <td>54.0</td>\n",
              "      <td>16.1</td>\n",
              "    </tr>\n",
              "    <tr>\n",
              "      <th>Turkey</th>\n",
              "      <td>9437.37</td>\n",
              "      <td>20.0</td>\n",
              "      <td>6.5</td>\n",
              "      <td>39.0</td>\n",
              "      <td>33.77</td>\n",
              "      <td>51.0</td>\n",
              "      <td>60.6</td>\n",
              "      <td>1.7</td>\n",
              "      <td>17067.0</td>\n",
              "      <td>4429.0</td>\n",
              "      <td>20.0</td>\n",
              "      <td>13.0</td>\n",
              "      <td>78.0</td>\n",
              "      <td>5.5</td>\n",
              "      <td>2.24</td>\n",
              "      <td>22848.0</td>\n",
              "      <td>86.0</td>\n",
              "      <td>1.0</td>\n",
              "      <td>66.0</td>\n",
              "      <td>2.1</td>\n",
              "      <td>425.0</td>\n",
              "      <td>12.59</td>\n",
              "      <td>85.0</td>\n",
              "      <td>63.0</td>\n",
              "      <td>17.9</td>\n",
              "    </tr>\n",
              "  </tbody>\n",
              "</table>\n",
              "</div>"
            ],
            "text/plain": [
              "              GDP per capita  Air pollution  ...  Water quality  Years in education\n",
              "Country                                      ...                                   \n",
              "South Africa         5694.57           22.0  ...           69.0                15.3\n",
              "Brazil               8670.00           10.0  ...           72.0                15.9\n",
              "Mexico               9009.28           16.0  ...           67.0                14.8\n",
              "Russia               9054.91           15.0  ...           54.0                16.1\n",
              "Turkey               9437.37           20.0  ...           63.0                17.9\n",
              "\n",
              "[5 rows x 25 columns]"
            ]
          },
          "metadata": {},
          "execution_count": 7
        }
      ]
    },
    {
      "cell_type": "code",
      "metadata": {
        "id": "eoJn-lxSPfqP",
        "colab": {
          "base_uri": "https://localhost:8080/"
        },
        "outputId": "8e285222-62cb-479b-fb35-56d36c118684"
      },
      "source": [
        "df.iloc[1]"
      ],
      "execution_count": null,
      "outputs": [
        {
          "output_type": "execute_result",
          "data": {
            "text/plain": [
              "GDP per capita                                        8670.00\n",
              "Air pollution                                           10.00\n",
              "Dwellings without basic facilities                       6.70\n",
              "Educational attainment                                  49.00\n",
              "Employees working very long hours                        7.15\n",
              "Employment rate                                         64.00\n",
              "Feeling safe walking alone at night                     37.30\n",
              "Homicide rate                                           27.60\n",
              "Household net adjusted disposable income             12227.00\n",
              "Household net financial wealth                        7102.00\n",
              "Housing expenditure                                     20.00\n",
              "Labour market insecurity                                 4.90\n",
              "Life expectancy                                         74.70\n",
              "Life satisfaction                                        6.60\n",
              "Long-term unemployment rate                              3.37\n",
              "Personal earnings                                    14024.00\n",
              "Quality of support network                              90.00\n",
              "Rooms per person                                         0.80\n",
              "Self-reported health                                    70.00\n",
              "Stakeholder engagement for developing regulations        2.20\n",
              "Student skills                                         395.00\n",
              "Time devoted to leisure and personal care               14.45\n",
              "Voter turnout                                           79.00\n",
              "Water quality                                           72.00\n",
              "Years in education                                      15.90\n",
              "Name: Brazil, dtype: float64"
            ]
          },
          "metadata": {},
          "execution_count": 8
        }
      ]
    },
    {
      "cell_type": "markdown",
      "metadata": {
        "id": "MkSTXnclPGLd"
      },
      "source": [
        "## Split dataset into Train & Test"
      ]
    },
    {
      "cell_type": "code",
      "metadata": {
        "id": "6HOaSt93Nqkz"
      },
      "source": [
        "# Below snippet is the most basic way of splitting data in Python; It is for illustration only and in\n",
        "# later sections we will use proper library from Sklearn to split the data\n",
        "test_indices = [0, 1, 6, 8, 33, 34, 35]\n",
        "\n",
        "#define the indices of the training set by substracting the test indices from all indices\n",
        "train_indices = list(set(range(36)) - set(test_indices))\n",
        "\n",
        "#use the above indices to select parts of the dataframe as the training set and the test set\n",
        "train = df[[\"GDP per capita\", 'Life satisfaction']].iloc[train_indices]\n",
        "test = df[[\"GDP per capita\", 'Life satisfaction']].iloc[test_indices]"
      ],
      "execution_count": null,
      "outputs": []
    },
    {
      "cell_type": "code",
      "metadata": {
        "id": "9CRVFFEX_voT",
        "colab": {
          "base_uri": "https://localhost:8080/",
          "height": 236
        },
        "outputId": "59301dc4-9efc-4977-acca-6891c01b0eaa"
      },
      "source": [
        "train.head()"
      ],
      "execution_count": null,
      "outputs": [
        {
          "output_type": "execute_result",
          "data": {
            "text/html": [
              "<div>\n",
              "<style scoped>\n",
              "    .dataframe tbody tr th:only-of-type {\n",
              "        vertical-align: middle;\n",
              "    }\n",
              "\n",
              "    .dataframe tbody tr th {\n",
              "        vertical-align: top;\n",
              "    }\n",
              "\n",
              "    .dataframe thead th {\n",
              "        text-align: right;\n",
              "    }\n",
              "</style>\n",
              "<table border=\"1\" class=\"dataframe\">\n",
              "  <thead>\n",
              "    <tr style=\"text-align: right;\">\n",
              "      <th></th>\n",
              "      <th>GDP per capita</th>\n",
              "      <th>Life satisfaction</th>\n",
              "    </tr>\n",
              "    <tr>\n",
              "      <th>Country</th>\n",
              "      <th></th>\n",
              "      <th></th>\n",
              "    </tr>\n",
              "  </thead>\n",
              "  <tbody>\n",
              "    <tr>\n",
              "      <th>Mexico</th>\n",
              "      <td>9009.28</td>\n",
              "      <td>6.6</td>\n",
              "    </tr>\n",
              "    <tr>\n",
              "      <th>Russia</th>\n",
              "      <td>9054.91</td>\n",
              "      <td>6.0</td>\n",
              "    </tr>\n",
              "    <tr>\n",
              "      <th>Turkey</th>\n",
              "      <td>9437.37</td>\n",
              "      <td>5.5</td>\n",
              "    </tr>\n",
              "    <tr>\n",
              "      <th>Hungary</th>\n",
              "      <td>12239.89</td>\n",
              "      <td>5.3</td>\n",
              "    </tr>\n",
              "    <tr>\n",
              "      <th>Chile</th>\n",
              "      <td>13340.91</td>\n",
              "      <td>6.7</td>\n",
              "    </tr>\n",
              "  </tbody>\n",
              "</table>\n",
              "</div>"
            ],
            "text/plain": [
              "         GDP per capita  Life satisfaction\n",
              "Country                                   \n",
              "Mexico          9009.28                6.6\n",
              "Russia          9054.91                6.0\n",
              "Turkey          9437.37                5.5\n",
              "Hungary        12239.89                5.3\n",
              "Chile          13340.91                6.7"
            ]
          },
          "metadata": {},
          "execution_count": 10
        }
      ]
    },
    {
      "cell_type": "code",
      "metadata": {
        "id": "NqZnpDGyR_3f"
      },
      "source": [
        "# Code example\n",
        "import matplotlib.pyplot as plt\n",
        "import numpy as np\n",
        "import pandas as pd\n",
        "import sklearn.linear_model\n",
        "\n",
        "# Prepare the data\n",
        "X = np.c_[train[\"GDP per capita\"]]\n",
        "y = np.c_[train[\"Life satisfaction\"]]"
      ],
      "execution_count": null,
      "outputs": []
    },
    {
      "cell_type": "code",
      "metadata": {
        "id": "UzRnfo8yAEbI",
        "colab": {
          "base_uri": "https://localhost:8080/"
        },
        "outputId": "58a54f0e-82a8-47cf-eeac-a705d795a5e6"
      },
      "source": [
        "type(y)"
      ],
      "execution_count": null,
      "outputs": [
        {
          "output_type": "execute_result",
          "data": {
            "text/plain": [
              "numpy.ndarray"
            ]
          },
          "metadata": {},
          "execution_count": 12
        }
      ]
    },
    {
      "cell_type": "code",
      "metadata": {
        "id": "BzUJ0hnrwYgd",
        "colab": {
          "base_uri": "https://localhost:8080/"
        },
        "outputId": "b5b1799f-9d15-4a31-b4fa-b7993904550a"
      },
      "source": [
        "#Lets look at what is inside X and y. Print first 5 records\n",
        "X[:5], y[:5]"
      ],
      "execution_count": null,
      "outputs": [
        {
          "output_type": "execute_result",
          "data": {
            "text/plain": [
              "(array([[ 9009.28],\n",
              "        [ 9054.91],\n",
              "        [ 9437.37],\n",
              "        [12239.89],\n",
              "        [13340.91]]), array([[6.6],\n",
              "        [6. ],\n",
              "        [5.5],\n",
              "        [5.3],\n",
              "        [6.7]]))"
            ]
          },
          "metadata": {},
          "execution_count": 13
        }
      ]
    },
    {
      "cell_type": "markdown",
      "metadata": {
        "id": "WJFLcCBgPPXj"
      },
      "source": [
        "# ML Starts Now\n",
        "## Define a model with default values"
      ]
    },
    {
      "cell_type": "code",
      "metadata": {
        "id": "_mimmXfQNTD1",
        "colab": {
          "base_uri": "https://localhost:8080/"
        },
        "outputId": "9e0eeb27-8066-408c-fabf-b19fc0e49aa7"
      },
      "source": [
        "# Select a basic linear model without setting any parameter (nothing inside paranthesis below)\n",
        "model = sklearn.linear_model.LinearRegression()\n",
        "\n",
        "# See the model for yourself\n",
        "model"
      ],
      "execution_count": null,
      "outputs": [
        {
          "output_type": "execute_result",
          "data": {
            "text/plain": [
              "LinearRegression(copy_X=True, fit_intercept=True, n_jobs=None, normalize=False)"
            ]
          },
          "metadata": {},
          "execution_count": 14
        }
      ]
    },
    {
      "cell_type": "markdown",
      "metadata": {
        "id": "0pf1NGpkPSnD"
      },
      "source": [
        "## Start training the model using X and y"
      ]
    },
    {
      "cell_type": "code",
      "metadata": {
        "id": "NySTaTDMp_Ve",
        "colab": {
          "base_uri": "https://localhost:8080/"
        },
        "outputId": "d434338b-58df-4557-fecd-6bb92ad6793d"
      },
      "source": [
        "# Train the model\n",
        "model.fit(X, y)"
      ],
      "execution_count": null,
      "outputs": [
        {
          "output_type": "execute_result",
          "data": {
            "text/plain": [
              "LinearRegression(copy_X=True, fit_intercept=True, n_jobs=None, normalize=False)"
            ]
          },
          "metadata": {},
          "execution_count": 15
        }
      ]
    },
    {
      "cell_type": "code",
      "metadata": {
        "colab": {
          "base_uri": "https://localhost:8080/"
        },
        "id": "YzVQ4lQors1b",
        "outputId": "ab92e928-cf0f-4808-a9b5-203ca0b4e8e3"
      },
      "source": [
        "model.coef_"
      ],
      "execution_count": null,
      "outputs": [
        {
          "output_type": "execute_result",
          "data": {
            "text/plain": [
              "array([[3.93552544e-05]])"
            ]
          },
          "metadata": {},
          "execution_count": 16
        }
      ]
    },
    {
      "cell_type": "code",
      "metadata": {
        "colab": {
          "base_uri": "https://localhost:8080/"
        },
        "id": "KF0UFvZxsgPA",
        "outputId": "b8c411a2-42f3-4306-a509-3722a6cd352e"
      },
      "source": [
        "model.intercept_"
      ],
      "execution_count": null,
      "outputs": [
        {
          "output_type": "execute_result",
          "data": {
            "text/plain": [
              "array([5.29552139])"
            ]
          },
          "metadata": {},
          "execution_count": 17
        }
      ]
    },
    {
      "cell_type": "markdown",
      "metadata": {
        "id": "v519lr8DPW1v"
      },
      "source": [
        "## Do prediction on test data"
      ]
    },
    {
      "cell_type": "code",
      "metadata": {
        "id": "cMGgmbBJlcvb",
        "colab": {
          "base_uri": "https://localhost:8080/"
        },
        "outputId": "50ec5d51-b5c2-4555-f8d2-2ddca877d44f"
      },
      "source": [
        "# Make a prediction for Cyprus\n",
        "X_new = [[17770]]  # Cyprus' GDP per capita\n",
        "print(model.predict(X_new)) # outputs [[5.95199478]]"
      ],
      "execution_count": null,
      "outputs": [
        {
          "output_type": "stream",
          "name": "stdout",
          "text": [
            "[[5.99486426]]\n"
          ]
        }
      ]
    },
    {
      "cell_type": "code",
      "metadata": {
        "id": "46aihcuVpT0E"
      },
      "source": [
        "# Make a prediction for our test data\n",
        "pred = model.predict(test['GDP per capita'].values.reshape(-1,1))"
      ],
      "execution_count": null,
      "outputs": []
    },
    {
      "cell_type": "code",
      "metadata": {
        "id": "D9QinOHvItbt",
        "colab": {
          "base_uri": "https://localhost:8080/"
        },
        "outputId": "f6f351ec-b1b7-4a06-f8a0-d95d53d31171"
      },
      "source": [
        "pred"
      ],
      "execution_count": null,
      "outputs": [
        {
          "output_type": "execute_result",
          "data": {
            "text/plain": [
              "array([[5.51963264],\n",
              "       [5.63673145],\n",
              "       [5.78727828],\n",
              "       [5.83148368],\n",
              "       [7.34648781],\n",
              "       [7.49174923],\n",
              "       [8.24016457]])"
            ]
          },
          "metadata": {},
          "execution_count": 20
        }
      ]
    },
    {
      "cell_type": "code",
      "metadata": {
        "id": "XIzF0beeP9vs"
      },
      "source": [],
      "execution_count": null,
      "outputs": []
    }
  ]
}