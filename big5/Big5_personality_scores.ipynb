{
  "nbformat": 4,
  "nbformat_minor": 0,
  "metadata": {
    "colab": {
      "provenance": [],
      "authorship_tag": "ABX9TyMj+ZHS8JKXhmXi/Z/me0xp",
      "include_colab_link": true
    },
    "kernelspec": {
      "name": "python3",
      "display_name": "Python 3"
    },
    "language_info": {
      "name": "python"
    }
  },
  "cells": [
    {
      "cell_type": "markdown",
      "metadata": {
        "id": "view-in-github",
        "colab_type": "text"
      },
      "source": [
        "<a href=\"https://colab.research.google.com/github/gc2321/3235-Machine-Learning/blob/main/big5/Big5_personality_scores.ipynb\" target=\"_parent\"><img src=\"https://colab.research.google.com/assets/colab-badge.svg\" alt=\"Open In Colab\"/></a>"
      ]
    },
    {
      "cell_type": "code",
      "execution_count": 1,
      "metadata": {
        "colab": {
          "base_uri": "https://localhost:8080/"
        },
        "id": "2mm1nS3eXBBL",
        "outputId": "a97a8796-3dcc-493d-efb8-01bdd64ac61f"
      },
      "outputs": [
        {
          "output_type": "stream",
          "name": "stdout",
          "text": [
            "Mounted at /content/gdrive\n"
          ]
        }
      ],
      "source": [
        "import numpy as np\n",
        "from sklearn.cluster import KMeans\n",
        "import matplotlib.pyplot as plt\n",
        "import random\n",
        "from sklearn.metrics import silhouette_score\n",
        "from sklearn.cluster import AgglomerativeClustering\n",
        "random.seed(42)\n",
        "\n",
        "# Mount Google drive\n",
        "from google.colab import drive\n",
        "drive.mount('/content/gdrive')"
      ]
    },
    {
      "cell_type": "code",
      "source": [
        "import fileinput\n",
        "\n",
        "# location of big5 personality scores data\n",
        "filePath =\"/content/gdrive/MyDrive/big5/data/big5_personality_scores/data-final.csv\""
      ],
      "metadata": {
        "id": "PvqC5GYfXYek"
      },
      "execution_count": 2,
      "outputs": []
    },
    {
      "cell_type": "code",
      "source": [
        "# Create dataframe\n",
        "import pandas as pd\n",
        "data = pd.read_csv(filePath, delimiter='\\t')"
      ],
      "metadata": {
        "id": "hgDnIeA_YErt"
      },
      "execution_count": 3,
      "outputs": []
    },
    {
      "cell_type": "code",
      "source": [
        "data.shape"
      ],
      "metadata": {
        "colab": {
          "base_uri": "https://localhost:8080/"
        },
        "id": "tEdYB7n_YfSa",
        "outputId": "0668782c-2653-47e8-9c29-291b0ebeec93"
      },
      "execution_count": 4,
      "outputs": [
        {
          "output_type": "execute_result",
          "data": {
            "text/plain": [
              "(1015341, 110)"
            ]
          },
          "metadata": {},
          "execution_count": 4
        }
      ]
    },
    {
      "cell_type": "code",
      "source": [
        "data.head()"
      ],
      "metadata": {
        "colab": {
          "base_uri": "https://localhost:8080/",
          "height": 235
        },
        "id": "GCoQkYSSYggU",
        "outputId": "5d312ec9-6d7e-457c-ec4c-3674fe43508c"
      },
      "execution_count": 5,
      "outputs": [
        {
          "output_type": "execute_result",
          "data": {
            "text/plain": [
              "   EXT1  EXT2  EXT3  EXT4  EXT5  EXT6  EXT7  EXT8  EXT9  EXT10  ...  \\\n",
              "0   4.0   1.0   5.0   2.0   5.0   1.0   5.0   2.0   4.0    1.0  ...   \n",
              "1   3.0   5.0   3.0   4.0   3.0   3.0   2.0   5.0   1.0    5.0  ...   \n",
              "2   2.0   3.0   4.0   4.0   3.0   2.0   1.0   3.0   2.0    5.0  ...   \n",
              "3   2.0   2.0   2.0   3.0   4.0   2.0   2.0   4.0   1.0    4.0  ...   \n",
              "4   3.0   3.0   3.0   3.0   5.0   3.0   3.0   5.0   3.0    4.0  ...   \n",
              "\n",
              "              dateload  screenw  screenh  introelapse  testelapse  endelapse  \\\n",
              "0  2016-03-03 02:01:01    768.0   1024.0          9.0       234.0          6   \n",
              "1  2016-03-03 02:01:20   1360.0    768.0         12.0       179.0         11   \n",
              "2  2016-03-03 02:01:56   1366.0    768.0          3.0       186.0          7   \n",
              "3  2016-03-03 02:02:02   1920.0   1200.0        186.0       219.0          7   \n",
              "4  2016-03-03 02:02:57   1366.0    768.0          8.0       315.0         17   \n",
              "\n",
              "   IPC  country  lat_appx_lots_of_err  long_appx_lots_of_err  \n",
              "0    1       GB               51.5448                 0.1991  \n",
              "1    1       MY                3.1698                101.706  \n",
              "2    1       GB               54.9119                -1.3833  \n",
              "3    1       GB                 51.75                  -1.25  \n",
              "4    2       KE                   1.0                   38.0  \n",
              "\n",
              "[5 rows x 110 columns]"
            ],
            "text/html": [
              "\n",
              "  <div id=\"df-484686ee-804b-4ca6-b435-c8ec8072f316\" class=\"colab-df-container\">\n",
              "    <div>\n",
              "<style scoped>\n",
              "    .dataframe tbody tr th:only-of-type {\n",
              "        vertical-align: middle;\n",
              "    }\n",
              "\n",
              "    .dataframe tbody tr th {\n",
              "        vertical-align: top;\n",
              "    }\n",
              "\n",
              "    .dataframe thead th {\n",
              "        text-align: right;\n",
              "    }\n",
              "</style>\n",
              "<table border=\"1\" class=\"dataframe\">\n",
              "  <thead>\n",
              "    <tr style=\"text-align: right;\">\n",
              "      <th></th>\n",
              "      <th>EXT1</th>\n",
              "      <th>EXT2</th>\n",
              "      <th>EXT3</th>\n",
              "      <th>EXT4</th>\n",
              "      <th>EXT5</th>\n",
              "      <th>EXT6</th>\n",
              "      <th>EXT7</th>\n",
              "      <th>EXT8</th>\n",
              "      <th>EXT9</th>\n",
              "      <th>EXT10</th>\n",
              "      <th>...</th>\n",
              "      <th>dateload</th>\n",
              "      <th>screenw</th>\n",
              "      <th>screenh</th>\n",
              "      <th>introelapse</th>\n",
              "      <th>testelapse</th>\n",
              "      <th>endelapse</th>\n",
              "      <th>IPC</th>\n",
              "      <th>country</th>\n",
              "      <th>lat_appx_lots_of_err</th>\n",
              "      <th>long_appx_lots_of_err</th>\n",
              "    </tr>\n",
              "  </thead>\n",
              "  <tbody>\n",
              "    <tr>\n",
              "      <th>0</th>\n",
              "      <td>4.0</td>\n",
              "      <td>1.0</td>\n",
              "      <td>5.0</td>\n",
              "      <td>2.0</td>\n",
              "      <td>5.0</td>\n",
              "      <td>1.0</td>\n",
              "      <td>5.0</td>\n",
              "      <td>2.0</td>\n",
              "      <td>4.0</td>\n",
              "      <td>1.0</td>\n",
              "      <td>...</td>\n",
              "      <td>2016-03-03 02:01:01</td>\n",
              "      <td>768.0</td>\n",
              "      <td>1024.0</td>\n",
              "      <td>9.0</td>\n",
              "      <td>234.0</td>\n",
              "      <td>6</td>\n",
              "      <td>1</td>\n",
              "      <td>GB</td>\n",
              "      <td>51.5448</td>\n",
              "      <td>0.1991</td>\n",
              "    </tr>\n",
              "    <tr>\n",
              "      <th>1</th>\n",
              "      <td>3.0</td>\n",
              "      <td>5.0</td>\n",
              "      <td>3.0</td>\n",
              "      <td>4.0</td>\n",
              "      <td>3.0</td>\n",
              "      <td>3.0</td>\n",
              "      <td>2.0</td>\n",
              "      <td>5.0</td>\n",
              "      <td>1.0</td>\n",
              "      <td>5.0</td>\n",
              "      <td>...</td>\n",
              "      <td>2016-03-03 02:01:20</td>\n",
              "      <td>1360.0</td>\n",
              "      <td>768.0</td>\n",
              "      <td>12.0</td>\n",
              "      <td>179.0</td>\n",
              "      <td>11</td>\n",
              "      <td>1</td>\n",
              "      <td>MY</td>\n",
              "      <td>3.1698</td>\n",
              "      <td>101.706</td>\n",
              "    </tr>\n",
              "    <tr>\n",
              "      <th>2</th>\n",
              "      <td>2.0</td>\n",
              "      <td>3.0</td>\n",
              "      <td>4.0</td>\n",
              "      <td>4.0</td>\n",
              "      <td>3.0</td>\n",
              "      <td>2.0</td>\n",
              "      <td>1.0</td>\n",
              "      <td>3.0</td>\n",
              "      <td>2.0</td>\n",
              "      <td>5.0</td>\n",
              "      <td>...</td>\n",
              "      <td>2016-03-03 02:01:56</td>\n",
              "      <td>1366.0</td>\n",
              "      <td>768.0</td>\n",
              "      <td>3.0</td>\n",
              "      <td>186.0</td>\n",
              "      <td>7</td>\n",
              "      <td>1</td>\n",
              "      <td>GB</td>\n",
              "      <td>54.9119</td>\n",
              "      <td>-1.3833</td>\n",
              "    </tr>\n",
              "    <tr>\n",
              "      <th>3</th>\n",
              "      <td>2.0</td>\n",
              "      <td>2.0</td>\n",
              "      <td>2.0</td>\n",
              "      <td>3.0</td>\n",
              "      <td>4.0</td>\n",
              "      <td>2.0</td>\n",
              "      <td>2.0</td>\n",
              "      <td>4.0</td>\n",
              "      <td>1.0</td>\n",
              "      <td>4.0</td>\n",
              "      <td>...</td>\n",
              "      <td>2016-03-03 02:02:02</td>\n",
              "      <td>1920.0</td>\n",
              "      <td>1200.0</td>\n",
              "      <td>186.0</td>\n",
              "      <td>219.0</td>\n",
              "      <td>7</td>\n",
              "      <td>1</td>\n",
              "      <td>GB</td>\n",
              "      <td>51.75</td>\n",
              "      <td>-1.25</td>\n",
              "    </tr>\n",
              "    <tr>\n",
              "      <th>4</th>\n",
              "      <td>3.0</td>\n",
              "      <td>3.0</td>\n",
              "      <td>3.0</td>\n",
              "      <td>3.0</td>\n",
              "      <td>5.0</td>\n",
              "      <td>3.0</td>\n",
              "      <td>3.0</td>\n",
              "      <td>5.0</td>\n",
              "      <td>3.0</td>\n",
              "      <td>4.0</td>\n",
              "      <td>...</td>\n",
              "      <td>2016-03-03 02:02:57</td>\n",
              "      <td>1366.0</td>\n",
              "      <td>768.0</td>\n",
              "      <td>8.0</td>\n",
              "      <td>315.0</td>\n",
              "      <td>17</td>\n",
              "      <td>2</td>\n",
              "      <td>KE</td>\n",
              "      <td>1.0</td>\n",
              "      <td>38.0</td>\n",
              "    </tr>\n",
              "  </tbody>\n",
              "</table>\n",
              "<p>5 rows × 110 columns</p>\n",
              "</div>\n",
              "    <div class=\"colab-df-buttons\">\n",
              "\n",
              "  <div class=\"colab-df-container\">\n",
              "    <button class=\"colab-df-convert\" onclick=\"convertToInteractive('df-484686ee-804b-4ca6-b435-c8ec8072f316')\"\n",
              "            title=\"Convert this dataframe to an interactive table.\"\n",
              "            style=\"display:none;\">\n",
              "\n",
              "  <svg xmlns=\"http://www.w3.org/2000/svg\" height=\"24px\" viewBox=\"0 -960 960 960\">\n",
              "    <path d=\"M120-120v-720h720v720H120Zm60-500h600v-160H180v160Zm220 220h160v-160H400v160Zm0 220h160v-160H400v160ZM180-400h160v-160H180v160Zm440 0h160v-160H620v160ZM180-180h160v-160H180v160Zm440 0h160v-160H620v160Z\"/>\n",
              "  </svg>\n",
              "    </button>\n",
              "\n",
              "  <style>\n",
              "    .colab-df-container {\n",
              "      display:flex;\n",
              "      gap: 12px;\n",
              "    }\n",
              "\n",
              "    .colab-df-convert {\n",
              "      background-color: #E8F0FE;\n",
              "      border: none;\n",
              "      border-radius: 50%;\n",
              "      cursor: pointer;\n",
              "      display: none;\n",
              "      fill: #1967D2;\n",
              "      height: 32px;\n",
              "      padding: 0 0 0 0;\n",
              "      width: 32px;\n",
              "    }\n",
              "\n",
              "    .colab-df-convert:hover {\n",
              "      background-color: #E2EBFA;\n",
              "      box-shadow: 0px 1px 2px rgba(60, 64, 67, 0.3), 0px 1px 3px 1px rgba(60, 64, 67, 0.15);\n",
              "      fill: #174EA6;\n",
              "    }\n",
              "\n",
              "    .colab-df-buttons div {\n",
              "      margin-bottom: 4px;\n",
              "    }\n",
              "\n",
              "    [theme=dark] .colab-df-convert {\n",
              "      background-color: #3B4455;\n",
              "      fill: #D2E3FC;\n",
              "    }\n",
              "\n",
              "    [theme=dark] .colab-df-convert:hover {\n",
              "      background-color: #434B5C;\n",
              "      box-shadow: 0px 1px 3px 1px rgba(0, 0, 0, 0.15);\n",
              "      filter: drop-shadow(0px 1px 2px rgba(0, 0, 0, 0.3));\n",
              "      fill: #FFFFFF;\n",
              "    }\n",
              "  </style>\n",
              "\n",
              "    <script>\n",
              "      const buttonEl =\n",
              "        document.querySelector('#df-484686ee-804b-4ca6-b435-c8ec8072f316 button.colab-df-convert');\n",
              "      buttonEl.style.display =\n",
              "        google.colab.kernel.accessAllowed ? 'block' : 'none';\n",
              "\n",
              "      async function convertToInteractive(key) {\n",
              "        const element = document.querySelector('#df-484686ee-804b-4ca6-b435-c8ec8072f316');\n",
              "        const dataTable =\n",
              "          await google.colab.kernel.invokeFunction('convertToInteractive',\n",
              "                                                    [key], {});\n",
              "        if (!dataTable) return;\n",
              "\n",
              "        const docLinkHtml = 'Like what you see? Visit the ' +\n",
              "          '<a target=\"_blank\" href=https://colab.research.google.com/notebooks/data_table.ipynb>data table notebook</a>'\n",
              "          + ' to learn more about interactive tables.';\n",
              "        element.innerHTML = '';\n",
              "        dataTable['output_type'] = 'display_data';\n",
              "        await google.colab.output.renderOutput(dataTable, element);\n",
              "        const docLink = document.createElement('div');\n",
              "        docLink.innerHTML = docLinkHtml;\n",
              "        element.appendChild(docLink);\n",
              "      }\n",
              "    </script>\n",
              "  </div>\n",
              "\n",
              "\n",
              "<div id=\"df-526abd6e-18e1-4980-a0ab-dbe56d0d9df7\">\n",
              "  <button class=\"colab-df-quickchart\" onclick=\"quickchart('df-526abd6e-18e1-4980-a0ab-dbe56d0d9df7')\"\n",
              "            title=\"Suggest charts\"\n",
              "            style=\"display:none;\">\n",
              "\n",
              "<svg xmlns=\"http://www.w3.org/2000/svg\" height=\"24px\"viewBox=\"0 0 24 24\"\n",
              "     width=\"24px\">\n",
              "    <g>\n",
              "        <path d=\"M19 3H5c-1.1 0-2 .9-2 2v14c0 1.1.9 2 2 2h14c1.1 0 2-.9 2-2V5c0-1.1-.9-2-2-2zM9 17H7v-7h2v7zm4 0h-2V7h2v10zm4 0h-2v-4h2v4z\"/>\n",
              "    </g>\n",
              "</svg>\n",
              "  </button>\n",
              "\n",
              "<style>\n",
              "  .colab-df-quickchart {\n",
              "      --bg-color: #E8F0FE;\n",
              "      --fill-color: #1967D2;\n",
              "      --hover-bg-color: #E2EBFA;\n",
              "      --hover-fill-color: #174EA6;\n",
              "      --disabled-fill-color: #AAA;\n",
              "      --disabled-bg-color: #DDD;\n",
              "  }\n",
              "\n",
              "  [theme=dark] .colab-df-quickchart {\n",
              "      --bg-color: #3B4455;\n",
              "      --fill-color: #D2E3FC;\n",
              "      --hover-bg-color: #434B5C;\n",
              "      --hover-fill-color: #FFFFFF;\n",
              "      --disabled-bg-color: #3B4455;\n",
              "      --disabled-fill-color: #666;\n",
              "  }\n",
              "\n",
              "  .colab-df-quickchart {\n",
              "    background-color: var(--bg-color);\n",
              "    border: none;\n",
              "    border-radius: 50%;\n",
              "    cursor: pointer;\n",
              "    display: none;\n",
              "    fill: var(--fill-color);\n",
              "    height: 32px;\n",
              "    padding: 0;\n",
              "    width: 32px;\n",
              "  }\n",
              "\n",
              "  .colab-df-quickchart:hover {\n",
              "    background-color: var(--hover-bg-color);\n",
              "    box-shadow: 0 1px 2px rgba(60, 64, 67, 0.3), 0 1px 3px 1px rgba(60, 64, 67, 0.15);\n",
              "    fill: var(--button-hover-fill-color);\n",
              "  }\n",
              "\n",
              "  .colab-df-quickchart-complete:disabled,\n",
              "  .colab-df-quickchart-complete:disabled:hover {\n",
              "    background-color: var(--disabled-bg-color);\n",
              "    fill: var(--disabled-fill-color);\n",
              "    box-shadow: none;\n",
              "  }\n",
              "\n",
              "  .colab-df-spinner {\n",
              "    border: 2px solid var(--fill-color);\n",
              "    border-color: transparent;\n",
              "    border-bottom-color: var(--fill-color);\n",
              "    animation:\n",
              "      spin 1s steps(1) infinite;\n",
              "  }\n",
              "\n",
              "  @keyframes spin {\n",
              "    0% {\n",
              "      border-color: transparent;\n",
              "      border-bottom-color: var(--fill-color);\n",
              "      border-left-color: var(--fill-color);\n",
              "    }\n",
              "    20% {\n",
              "      border-color: transparent;\n",
              "      border-left-color: var(--fill-color);\n",
              "      border-top-color: var(--fill-color);\n",
              "    }\n",
              "    30% {\n",
              "      border-color: transparent;\n",
              "      border-left-color: var(--fill-color);\n",
              "      border-top-color: var(--fill-color);\n",
              "      border-right-color: var(--fill-color);\n",
              "    }\n",
              "    40% {\n",
              "      border-color: transparent;\n",
              "      border-right-color: var(--fill-color);\n",
              "      border-top-color: var(--fill-color);\n",
              "    }\n",
              "    60% {\n",
              "      border-color: transparent;\n",
              "      border-right-color: var(--fill-color);\n",
              "    }\n",
              "    80% {\n",
              "      border-color: transparent;\n",
              "      border-right-color: var(--fill-color);\n",
              "      border-bottom-color: var(--fill-color);\n",
              "    }\n",
              "    90% {\n",
              "      border-color: transparent;\n",
              "      border-bottom-color: var(--fill-color);\n",
              "    }\n",
              "  }\n",
              "</style>\n",
              "\n",
              "  <script>\n",
              "    async function quickchart(key) {\n",
              "      const quickchartButtonEl =\n",
              "        document.querySelector('#' + key + ' button');\n",
              "      quickchartButtonEl.disabled = true;  // To prevent multiple clicks.\n",
              "      quickchartButtonEl.classList.add('colab-df-spinner');\n",
              "      try {\n",
              "        const charts = await google.colab.kernel.invokeFunction(\n",
              "            'suggestCharts', [key], {});\n",
              "      } catch (error) {\n",
              "        console.error('Error during call to suggestCharts:', error);\n",
              "      }\n",
              "      quickchartButtonEl.classList.remove('colab-df-spinner');\n",
              "      quickchartButtonEl.classList.add('colab-df-quickchart-complete');\n",
              "    }\n",
              "    (() => {\n",
              "      let quickchartButtonEl =\n",
              "        document.querySelector('#df-526abd6e-18e1-4980-a0ab-dbe56d0d9df7 button');\n",
              "      quickchartButtonEl.style.display =\n",
              "        google.colab.kernel.accessAllowed ? 'block' : 'none';\n",
              "    })();\n",
              "  </script>\n",
              "</div>\n",
              "\n",
              "    </div>\n",
              "  </div>\n"
            ],
            "application/vnd.google.colaboratory.intrinsic+json": {
              "type": "dataframe",
              "variable_name": "data"
            }
          },
          "metadata": {},
          "execution_count": 5
        }
      ]
    },
    {
      "cell_type": "code",
      "source": [
        "# get the first 50 columns (include only answers to all questions)\n",
        "data = data.iloc[:, :50]"
      ],
      "metadata": {
        "id": "Gaj9fec6bNTs"
      },
      "execution_count": 6,
      "outputs": []
    },
    {
      "cell_type": "code",
      "source": [
        "data.head()"
      ],
      "metadata": {
        "colab": {
          "base_uri": "https://localhost:8080/",
          "height": 235
        },
        "id": "SY33Lu7TYkk1",
        "outputId": "58203f5c-d312-4e73-eb4e-97ecf84805e5"
      },
      "execution_count": 7,
      "outputs": [
        {
          "output_type": "execute_result",
          "data": {
            "text/plain": [
              "   EXT1  EXT2  EXT3  EXT4  EXT5  EXT6  EXT7  EXT8  EXT9  EXT10  ...  OPN1  \\\n",
              "0   4.0   1.0   5.0   2.0   5.0   1.0   5.0   2.0   4.0    1.0  ...   5.0   \n",
              "1   3.0   5.0   3.0   4.0   3.0   3.0   2.0   5.0   1.0    5.0  ...   1.0   \n",
              "2   2.0   3.0   4.0   4.0   3.0   2.0   1.0   3.0   2.0    5.0  ...   5.0   \n",
              "3   2.0   2.0   2.0   3.0   4.0   2.0   2.0   4.0   1.0    4.0  ...   4.0   \n",
              "4   3.0   3.0   3.0   3.0   5.0   3.0   3.0   5.0   3.0    4.0  ...   5.0   \n",
              "\n",
              "   OPN2  OPN3  OPN4  OPN5  OPN6  OPN7  OPN8  OPN9  OPN10  \n",
              "0   1.0   4.0   1.0   4.0   1.0   5.0   3.0   4.0    5.0  \n",
              "1   2.0   4.0   2.0   3.0   1.0   4.0   2.0   5.0    3.0  \n",
              "2   1.0   2.0   1.0   4.0   2.0   5.0   3.0   4.0    4.0  \n",
              "3   2.0   5.0   2.0   3.0   1.0   4.0   4.0   3.0    3.0  \n",
              "4   1.0   5.0   1.0   5.0   1.0   5.0   3.0   5.0    5.0  \n",
              "\n",
              "[5 rows x 50 columns]"
            ],
            "text/html": [
              "\n",
              "  <div id=\"df-d832274c-fd7e-415f-966e-41e2ab83055f\" class=\"colab-df-container\">\n",
              "    <div>\n",
              "<style scoped>\n",
              "    .dataframe tbody tr th:only-of-type {\n",
              "        vertical-align: middle;\n",
              "    }\n",
              "\n",
              "    .dataframe tbody tr th {\n",
              "        vertical-align: top;\n",
              "    }\n",
              "\n",
              "    .dataframe thead th {\n",
              "        text-align: right;\n",
              "    }\n",
              "</style>\n",
              "<table border=\"1\" class=\"dataframe\">\n",
              "  <thead>\n",
              "    <tr style=\"text-align: right;\">\n",
              "      <th></th>\n",
              "      <th>EXT1</th>\n",
              "      <th>EXT2</th>\n",
              "      <th>EXT3</th>\n",
              "      <th>EXT4</th>\n",
              "      <th>EXT5</th>\n",
              "      <th>EXT6</th>\n",
              "      <th>EXT7</th>\n",
              "      <th>EXT8</th>\n",
              "      <th>EXT9</th>\n",
              "      <th>EXT10</th>\n",
              "      <th>...</th>\n",
              "      <th>OPN1</th>\n",
              "      <th>OPN2</th>\n",
              "      <th>OPN3</th>\n",
              "      <th>OPN4</th>\n",
              "      <th>OPN5</th>\n",
              "      <th>OPN6</th>\n",
              "      <th>OPN7</th>\n",
              "      <th>OPN8</th>\n",
              "      <th>OPN9</th>\n",
              "      <th>OPN10</th>\n",
              "    </tr>\n",
              "  </thead>\n",
              "  <tbody>\n",
              "    <tr>\n",
              "      <th>0</th>\n",
              "      <td>4.0</td>\n",
              "      <td>1.0</td>\n",
              "      <td>5.0</td>\n",
              "      <td>2.0</td>\n",
              "      <td>5.0</td>\n",
              "      <td>1.0</td>\n",
              "      <td>5.0</td>\n",
              "      <td>2.0</td>\n",
              "      <td>4.0</td>\n",
              "      <td>1.0</td>\n",
              "      <td>...</td>\n",
              "      <td>5.0</td>\n",
              "      <td>1.0</td>\n",
              "      <td>4.0</td>\n",
              "      <td>1.0</td>\n",
              "      <td>4.0</td>\n",
              "      <td>1.0</td>\n",
              "      <td>5.0</td>\n",
              "      <td>3.0</td>\n",
              "      <td>4.0</td>\n",
              "      <td>5.0</td>\n",
              "    </tr>\n",
              "    <tr>\n",
              "      <th>1</th>\n",
              "      <td>3.0</td>\n",
              "      <td>5.0</td>\n",
              "      <td>3.0</td>\n",
              "      <td>4.0</td>\n",
              "      <td>3.0</td>\n",
              "      <td>3.0</td>\n",
              "      <td>2.0</td>\n",
              "      <td>5.0</td>\n",
              "      <td>1.0</td>\n",
              "      <td>5.0</td>\n",
              "      <td>...</td>\n",
              "      <td>1.0</td>\n",
              "      <td>2.0</td>\n",
              "      <td>4.0</td>\n",
              "      <td>2.0</td>\n",
              "      <td>3.0</td>\n",
              "      <td>1.0</td>\n",
              "      <td>4.0</td>\n",
              "      <td>2.0</td>\n",
              "      <td>5.0</td>\n",
              "      <td>3.0</td>\n",
              "    </tr>\n",
              "    <tr>\n",
              "      <th>2</th>\n",
              "      <td>2.0</td>\n",
              "      <td>3.0</td>\n",
              "      <td>4.0</td>\n",
              "      <td>4.0</td>\n",
              "      <td>3.0</td>\n",
              "      <td>2.0</td>\n",
              "      <td>1.0</td>\n",
              "      <td>3.0</td>\n",
              "      <td>2.0</td>\n",
              "      <td>5.0</td>\n",
              "      <td>...</td>\n",
              "      <td>5.0</td>\n",
              "      <td>1.0</td>\n",
              "      <td>2.0</td>\n",
              "      <td>1.0</td>\n",
              "      <td>4.0</td>\n",
              "      <td>2.0</td>\n",
              "      <td>5.0</td>\n",
              "      <td>3.0</td>\n",
              "      <td>4.0</td>\n",
              "      <td>4.0</td>\n",
              "    </tr>\n",
              "    <tr>\n",
              "      <th>3</th>\n",
              "      <td>2.0</td>\n",
              "      <td>2.0</td>\n",
              "      <td>2.0</td>\n",
              "      <td>3.0</td>\n",
              "      <td>4.0</td>\n",
              "      <td>2.0</td>\n",
              "      <td>2.0</td>\n",
              "      <td>4.0</td>\n",
              "      <td>1.0</td>\n",
              "      <td>4.0</td>\n",
              "      <td>...</td>\n",
              "      <td>4.0</td>\n",
              "      <td>2.0</td>\n",
              "      <td>5.0</td>\n",
              "      <td>2.0</td>\n",
              "      <td>3.0</td>\n",
              "      <td>1.0</td>\n",
              "      <td>4.0</td>\n",
              "      <td>4.0</td>\n",
              "      <td>3.0</td>\n",
              "      <td>3.0</td>\n",
              "    </tr>\n",
              "    <tr>\n",
              "      <th>4</th>\n",
              "      <td>3.0</td>\n",
              "      <td>3.0</td>\n",
              "      <td>3.0</td>\n",
              "      <td>3.0</td>\n",
              "      <td>5.0</td>\n",
              "      <td>3.0</td>\n",
              "      <td>3.0</td>\n",
              "      <td>5.0</td>\n",
              "      <td>3.0</td>\n",
              "      <td>4.0</td>\n",
              "      <td>...</td>\n",
              "      <td>5.0</td>\n",
              "      <td>1.0</td>\n",
              "      <td>5.0</td>\n",
              "      <td>1.0</td>\n",
              "      <td>5.0</td>\n",
              "      <td>1.0</td>\n",
              "      <td>5.0</td>\n",
              "      <td>3.0</td>\n",
              "      <td>5.0</td>\n",
              "      <td>5.0</td>\n",
              "    </tr>\n",
              "  </tbody>\n",
              "</table>\n",
              "<p>5 rows × 50 columns</p>\n",
              "</div>\n",
              "    <div class=\"colab-df-buttons\">\n",
              "\n",
              "  <div class=\"colab-df-container\">\n",
              "    <button class=\"colab-df-convert\" onclick=\"convertToInteractive('df-d832274c-fd7e-415f-966e-41e2ab83055f')\"\n",
              "            title=\"Convert this dataframe to an interactive table.\"\n",
              "            style=\"display:none;\">\n",
              "\n",
              "  <svg xmlns=\"http://www.w3.org/2000/svg\" height=\"24px\" viewBox=\"0 -960 960 960\">\n",
              "    <path d=\"M120-120v-720h720v720H120Zm60-500h600v-160H180v160Zm220 220h160v-160H400v160Zm0 220h160v-160H400v160ZM180-400h160v-160H180v160Zm440 0h160v-160H620v160ZM180-180h160v-160H180v160Zm440 0h160v-160H620v160Z\"/>\n",
              "  </svg>\n",
              "    </button>\n",
              "\n",
              "  <style>\n",
              "    .colab-df-container {\n",
              "      display:flex;\n",
              "      gap: 12px;\n",
              "    }\n",
              "\n",
              "    .colab-df-convert {\n",
              "      background-color: #E8F0FE;\n",
              "      border: none;\n",
              "      border-radius: 50%;\n",
              "      cursor: pointer;\n",
              "      display: none;\n",
              "      fill: #1967D2;\n",
              "      height: 32px;\n",
              "      padding: 0 0 0 0;\n",
              "      width: 32px;\n",
              "    }\n",
              "\n",
              "    .colab-df-convert:hover {\n",
              "      background-color: #E2EBFA;\n",
              "      box-shadow: 0px 1px 2px rgba(60, 64, 67, 0.3), 0px 1px 3px 1px rgba(60, 64, 67, 0.15);\n",
              "      fill: #174EA6;\n",
              "    }\n",
              "\n",
              "    .colab-df-buttons div {\n",
              "      margin-bottom: 4px;\n",
              "    }\n",
              "\n",
              "    [theme=dark] .colab-df-convert {\n",
              "      background-color: #3B4455;\n",
              "      fill: #D2E3FC;\n",
              "    }\n",
              "\n",
              "    [theme=dark] .colab-df-convert:hover {\n",
              "      background-color: #434B5C;\n",
              "      box-shadow: 0px 1px 3px 1px rgba(0, 0, 0, 0.15);\n",
              "      filter: drop-shadow(0px 1px 2px rgba(0, 0, 0, 0.3));\n",
              "      fill: #FFFFFF;\n",
              "    }\n",
              "  </style>\n",
              "\n",
              "    <script>\n",
              "      const buttonEl =\n",
              "        document.querySelector('#df-d832274c-fd7e-415f-966e-41e2ab83055f button.colab-df-convert');\n",
              "      buttonEl.style.display =\n",
              "        google.colab.kernel.accessAllowed ? 'block' : 'none';\n",
              "\n",
              "      async function convertToInteractive(key) {\n",
              "        const element = document.querySelector('#df-d832274c-fd7e-415f-966e-41e2ab83055f');\n",
              "        const dataTable =\n",
              "          await google.colab.kernel.invokeFunction('convertToInteractive',\n",
              "                                                    [key], {});\n",
              "        if (!dataTable) return;\n",
              "\n",
              "        const docLinkHtml = 'Like what you see? Visit the ' +\n",
              "          '<a target=\"_blank\" href=https://colab.research.google.com/notebooks/data_table.ipynb>data table notebook</a>'\n",
              "          + ' to learn more about interactive tables.';\n",
              "        element.innerHTML = '';\n",
              "        dataTable['output_type'] = 'display_data';\n",
              "        await google.colab.output.renderOutput(dataTable, element);\n",
              "        const docLink = document.createElement('div');\n",
              "        docLink.innerHTML = docLinkHtml;\n",
              "        element.appendChild(docLink);\n",
              "      }\n",
              "    </script>\n",
              "  </div>\n",
              "\n",
              "\n",
              "<div id=\"df-298724c1-e022-4345-9bf1-468b3e1e695c\">\n",
              "  <button class=\"colab-df-quickchart\" onclick=\"quickchart('df-298724c1-e022-4345-9bf1-468b3e1e695c')\"\n",
              "            title=\"Suggest charts\"\n",
              "            style=\"display:none;\">\n",
              "\n",
              "<svg xmlns=\"http://www.w3.org/2000/svg\" height=\"24px\"viewBox=\"0 0 24 24\"\n",
              "     width=\"24px\">\n",
              "    <g>\n",
              "        <path d=\"M19 3H5c-1.1 0-2 .9-2 2v14c0 1.1.9 2 2 2h14c1.1 0 2-.9 2-2V5c0-1.1-.9-2-2-2zM9 17H7v-7h2v7zm4 0h-2V7h2v10zm4 0h-2v-4h2v4z\"/>\n",
              "    </g>\n",
              "</svg>\n",
              "  </button>\n",
              "\n",
              "<style>\n",
              "  .colab-df-quickchart {\n",
              "      --bg-color: #E8F0FE;\n",
              "      --fill-color: #1967D2;\n",
              "      --hover-bg-color: #E2EBFA;\n",
              "      --hover-fill-color: #174EA6;\n",
              "      --disabled-fill-color: #AAA;\n",
              "      --disabled-bg-color: #DDD;\n",
              "  }\n",
              "\n",
              "  [theme=dark] .colab-df-quickchart {\n",
              "      --bg-color: #3B4455;\n",
              "      --fill-color: #D2E3FC;\n",
              "      --hover-bg-color: #434B5C;\n",
              "      --hover-fill-color: #FFFFFF;\n",
              "      --disabled-bg-color: #3B4455;\n",
              "      --disabled-fill-color: #666;\n",
              "  }\n",
              "\n",
              "  .colab-df-quickchart {\n",
              "    background-color: var(--bg-color);\n",
              "    border: none;\n",
              "    border-radius: 50%;\n",
              "    cursor: pointer;\n",
              "    display: none;\n",
              "    fill: var(--fill-color);\n",
              "    height: 32px;\n",
              "    padding: 0;\n",
              "    width: 32px;\n",
              "  }\n",
              "\n",
              "  .colab-df-quickchart:hover {\n",
              "    background-color: var(--hover-bg-color);\n",
              "    box-shadow: 0 1px 2px rgba(60, 64, 67, 0.3), 0 1px 3px 1px rgba(60, 64, 67, 0.15);\n",
              "    fill: var(--button-hover-fill-color);\n",
              "  }\n",
              "\n",
              "  .colab-df-quickchart-complete:disabled,\n",
              "  .colab-df-quickchart-complete:disabled:hover {\n",
              "    background-color: var(--disabled-bg-color);\n",
              "    fill: var(--disabled-fill-color);\n",
              "    box-shadow: none;\n",
              "  }\n",
              "\n",
              "  .colab-df-spinner {\n",
              "    border: 2px solid var(--fill-color);\n",
              "    border-color: transparent;\n",
              "    border-bottom-color: var(--fill-color);\n",
              "    animation:\n",
              "      spin 1s steps(1) infinite;\n",
              "  }\n",
              "\n",
              "  @keyframes spin {\n",
              "    0% {\n",
              "      border-color: transparent;\n",
              "      border-bottom-color: var(--fill-color);\n",
              "      border-left-color: var(--fill-color);\n",
              "    }\n",
              "    20% {\n",
              "      border-color: transparent;\n",
              "      border-left-color: var(--fill-color);\n",
              "      border-top-color: var(--fill-color);\n",
              "    }\n",
              "    30% {\n",
              "      border-color: transparent;\n",
              "      border-left-color: var(--fill-color);\n",
              "      border-top-color: var(--fill-color);\n",
              "      border-right-color: var(--fill-color);\n",
              "    }\n",
              "    40% {\n",
              "      border-color: transparent;\n",
              "      border-right-color: var(--fill-color);\n",
              "      border-top-color: var(--fill-color);\n",
              "    }\n",
              "    60% {\n",
              "      border-color: transparent;\n",
              "      border-right-color: var(--fill-color);\n",
              "    }\n",
              "    80% {\n",
              "      border-color: transparent;\n",
              "      border-right-color: var(--fill-color);\n",
              "      border-bottom-color: var(--fill-color);\n",
              "    }\n",
              "    90% {\n",
              "      border-color: transparent;\n",
              "      border-bottom-color: var(--fill-color);\n",
              "    }\n",
              "  }\n",
              "</style>\n",
              "\n",
              "  <script>\n",
              "    async function quickchart(key) {\n",
              "      const quickchartButtonEl =\n",
              "        document.querySelector('#' + key + ' button');\n",
              "      quickchartButtonEl.disabled = true;  // To prevent multiple clicks.\n",
              "      quickchartButtonEl.classList.add('colab-df-spinner');\n",
              "      try {\n",
              "        const charts = await google.colab.kernel.invokeFunction(\n",
              "            'suggestCharts', [key], {});\n",
              "      } catch (error) {\n",
              "        console.error('Error during call to suggestCharts:', error);\n",
              "      }\n",
              "      quickchartButtonEl.classList.remove('colab-df-spinner');\n",
              "      quickchartButtonEl.classList.add('colab-df-quickchart-complete');\n",
              "    }\n",
              "    (() => {\n",
              "      let quickchartButtonEl =\n",
              "        document.querySelector('#df-298724c1-e022-4345-9bf1-468b3e1e695c button');\n",
              "      quickchartButtonEl.style.display =\n",
              "        google.colab.kernel.accessAllowed ? 'block' : 'none';\n",
              "    })();\n",
              "  </script>\n",
              "</div>\n",
              "\n",
              "    </div>\n",
              "  </div>\n"
            ],
            "application/vnd.google.colaboratory.intrinsic+json": {
              "type": "dataframe",
              "variable_name": "data"
            }
          },
          "metadata": {},
          "execution_count": 7
        }
      ]
    },
    {
      "cell_type": "code",
      "source": [
        "# clean data of missing values\n",
        "data = data.dropna()"
      ],
      "metadata": {
        "id": "B4LGWcuxd9Vn"
      },
      "execution_count": 8,
      "outputs": []
    },
    {
      "cell_type": "code",
      "source": [
        "# Check for NaN values in the entire DataFrame\n",
        "nan_values_overall = data.isna().sum().sum()\n",
        "\n",
        "# Check for NaN values column-wise\n",
        "nan_values_per_column = data.isna().sum()\n",
        "\n",
        "# Display the total number of NaN values and NaN values per column\n",
        "print(\"Total NaN values:\", nan_values_overall)\n",
        "print(\"\\nNaN values per column:\")\n",
        "print(nan_values_per_column)"
      ],
      "metadata": {
        "colab": {
          "base_uri": "https://localhost:8080/"
        },
        "id": "xK_MWrAxde0g",
        "outputId": "c40d8aaf-a36b-48c9-9d97-59c18dba1581"
      },
      "execution_count": 9,
      "outputs": [
        {
          "output_type": "stream",
          "name": "stdout",
          "text": [
            "Total NaN values: 0\n",
            "\n",
            "NaN values per column:\n",
            "EXT1     0\n",
            "EXT2     0\n",
            "EXT3     0\n",
            "EXT4     0\n",
            "EXT5     0\n",
            "EXT6     0\n",
            "EXT7     0\n",
            "EXT8     0\n",
            "EXT9     0\n",
            "EXT10    0\n",
            "EST1     0\n",
            "EST2     0\n",
            "EST3     0\n",
            "EST4     0\n",
            "EST5     0\n",
            "EST6     0\n",
            "EST7     0\n",
            "EST8     0\n",
            "EST9     0\n",
            "EST10    0\n",
            "AGR1     0\n",
            "AGR2     0\n",
            "AGR3     0\n",
            "AGR4     0\n",
            "AGR5     0\n",
            "AGR6     0\n",
            "AGR7     0\n",
            "AGR8     0\n",
            "AGR9     0\n",
            "AGR10    0\n",
            "CSN1     0\n",
            "CSN2     0\n",
            "CSN3     0\n",
            "CSN4     0\n",
            "CSN5     0\n",
            "CSN6     0\n",
            "CSN7     0\n",
            "CSN8     0\n",
            "CSN9     0\n",
            "CSN10    0\n",
            "OPN1     0\n",
            "OPN2     0\n",
            "OPN3     0\n",
            "OPN4     0\n",
            "OPN5     0\n",
            "OPN6     0\n",
            "OPN7     0\n",
            "OPN8     0\n",
            "OPN9     0\n",
            "OPN10    0\n",
            "dtype: int64\n"
          ]
        }
      ]
    },
    {
      "cell_type": "code",
      "source": [
        "data.info()"
      ],
      "metadata": {
        "colab": {
          "base_uri": "https://localhost:8080/"
        },
        "id": "lRNt7-84eJkM",
        "outputId": "96cae63f-42fb-41dd-b8df-41603ea3ba08"
      },
      "execution_count": 10,
      "outputs": [
        {
          "output_type": "stream",
          "name": "stdout",
          "text": [
            "<class 'pandas.core.frame.DataFrame'>\n",
            "Int64Index: 1013558 entries, 0 to 1015340\n",
            "Data columns (total 50 columns):\n",
            " #   Column  Non-Null Count    Dtype  \n",
            "---  ------  --------------    -----  \n",
            " 0   EXT1    1013558 non-null  float64\n",
            " 1   EXT2    1013558 non-null  float64\n",
            " 2   EXT3    1013558 non-null  float64\n",
            " 3   EXT4    1013558 non-null  float64\n",
            " 4   EXT5    1013558 non-null  float64\n",
            " 5   EXT6    1013558 non-null  float64\n",
            " 6   EXT7    1013558 non-null  float64\n",
            " 7   EXT8    1013558 non-null  float64\n",
            " 8   EXT9    1013558 non-null  float64\n",
            " 9   EXT10   1013558 non-null  float64\n",
            " 10  EST1    1013558 non-null  float64\n",
            " 11  EST2    1013558 non-null  float64\n",
            " 12  EST3    1013558 non-null  float64\n",
            " 13  EST4    1013558 non-null  float64\n",
            " 14  EST5    1013558 non-null  float64\n",
            " 15  EST6    1013558 non-null  float64\n",
            " 16  EST7    1013558 non-null  float64\n",
            " 17  EST8    1013558 non-null  float64\n",
            " 18  EST9    1013558 non-null  float64\n",
            " 19  EST10   1013558 non-null  float64\n",
            " 20  AGR1    1013558 non-null  float64\n",
            " 21  AGR2    1013558 non-null  float64\n",
            " 22  AGR3    1013558 non-null  float64\n",
            " 23  AGR4    1013558 non-null  float64\n",
            " 24  AGR5    1013558 non-null  float64\n",
            " 25  AGR6    1013558 non-null  float64\n",
            " 26  AGR7    1013558 non-null  float64\n",
            " 27  AGR8    1013558 non-null  float64\n",
            " 28  AGR9    1013558 non-null  float64\n",
            " 29  AGR10   1013558 non-null  float64\n",
            " 30  CSN1    1013558 non-null  float64\n",
            " 31  CSN2    1013558 non-null  float64\n",
            " 32  CSN3    1013558 non-null  float64\n",
            " 33  CSN4    1013558 non-null  float64\n",
            " 34  CSN5    1013558 non-null  float64\n",
            " 35  CSN6    1013558 non-null  float64\n",
            " 36  CSN7    1013558 non-null  float64\n",
            " 37  CSN8    1013558 non-null  float64\n",
            " 38  CSN9    1013558 non-null  float64\n",
            " 39  CSN10   1013558 non-null  float64\n",
            " 40  OPN1    1013558 non-null  float64\n",
            " 41  OPN2    1013558 non-null  float64\n",
            " 42  OPN3    1013558 non-null  float64\n",
            " 43  OPN4    1013558 non-null  float64\n",
            " 44  OPN5    1013558 non-null  float64\n",
            " 45  OPN6    1013558 non-null  float64\n",
            " 46  OPN7    1013558 non-null  float64\n",
            " 47  OPN8    1013558 non-null  float64\n",
            " 48  OPN9    1013558 non-null  float64\n",
            " 49  OPN10   1013558 non-null  float64\n",
            "dtypes: float64(50)\n",
            "memory usage: 394.4 MB\n"
          ]
        }
      ]
    },
    {
      "cell_type": "code",
      "source": [
        "column_names = data.columns\n",
        "X = data.values"
      ],
      "metadata": {
        "id": "HnxGZ443cf1x"
      },
      "execution_count": 11,
      "outputs": []
    },
    {
      "cell_type": "code",
      "source": [
        "column_names"
      ],
      "metadata": {
        "colab": {
          "base_uri": "https://localhost:8080/"
        },
        "id": "I9nlRDqocqn_",
        "outputId": "0510ee01-b5cd-4cb0-e670-ccfea974529a"
      },
      "execution_count": 12,
      "outputs": [
        {
          "output_type": "execute_result",
          "data": {
            "text/plain": [
              "Index(['EXT1', 'EXT2', 'EXT3', 'EXT4', 'EXT5', 'EXT6', 'EXT7', 'EXT8', 'EXT9',\n",
              "       'EXT10', 'EST1', 'EST2', 'EST3', 'EST4', 'EST5', 'EST6', 'EST7', 'EST8',\n",
              "       'EST9', 'EST10', 'AGR1', 'AGR2', 'AGR3', 'AGR4', 'AGR5', 'AGR6', 'AGR7',\n",
              "       'AGR8', 'AGR9', 'AGR10', 'CSN1', 'CSN2', 'CSN3', 'CSN4', 'CSN5', 'CSN6',\n",
              "       'CSN7', 'CSN8', 'CSN9', 'CSN10', 'OPN1', 'OPN2', 'OPN3', 'OPN4', 'OPN5',\n",
              "       'OPN6', 'OPN7', 'OPN8', 'OPN9', 'OPN10'],\n",
              "      dtype='object')"
            ]
          },
          "metadata": {},
          "execution_count": 12
        }
      ]
    },
    {
      "cell_type": "code",
      "source": [
        "X.shape"
      ],
      "metadata": {
        "colab": {
          "base_uri": "https://localhost:8080/"
        },
        "id": "kNQeGaHAczYB",
        "outputId": "cc87870b-a57e-4011-8936-3cbd5f21c30f"
      },
      "execution_count": 13,
      "outputs": [
        {
          "output_type": "execute_result",
          "data": {
            "text/plain": [
              "(1013558, 50)"
            ]
          },
          "metadata": {},
          "execution_count": 13
        }
      ]
    },
    {
      "cell_type": "code",
      "source": [
        "# take a subset for finding getting silhouette_avgs\n",
        "num_samples = 100000\n",
        "random_indices = np.random.choice(X.shape[0], size=num_samples, replace=False)\n",
        "sub_X = X[random_indices]"
      ],
      "metadata": {
        "id": "7UVOK8ZznYVM"
      },
      "execution_count": 14,
      "outputs": []
    },
    {
      "cell_type": "code",
      "source": [
        "sub_X.shape"
      ],
      "metadata": {
        "colab": {
          "base_uri": "https://localhost:8080/"
        },
        "id": "LscmAly8ntzL",
        "outputId": "24a26487-d3c1-46a8-f02c-dac5378afa2a"
      },
      "execution_count": 15,
      "outputs": [
        {
          "output_type": "execute_result",
          "data": {
            "text/plain": [
              "(100000, 50)"
            ]
          },
          "metadata": {},
          "execution_count": 15
        }
      ]
    },
    {
      "cell_type": "code",
      "source": [
        "#try different K values for clustering and find the optimal K\n",
        "\n",
        "# inertias_1 = []\n",
        "# silhouette_avgs = []\n",
        "# max_K = 10\n",
        "# for k in np.arange(1,max_K+1):\n",
        "#     kmeans = KMeans(n_clusters=k, random_state=0).fit(sub_X)\n",
        "#     inertias_1 = inertias_1 + [kmeans.inertia_]\n",
        "#     if k>1:\n",
        "#         silhouette_avgs = silhouette_avgs + [silhouette_score(sub_X, kmeans.labels_)]"
      ],
      "metadata": {
        "id": "_IDcVVNAbqSo"
      },
      "execution_count": 16,
      "outputs": []
    },
    {
      "cell_type": "code",
      "source": [
        "# plt.figure(figsize=(8, 3.5))\n",
        "# plt.plot(range(1, 11), inertias_1, \"bo-\")\n",
        "# plt.xlabel(\"$k$\")\n",
        "# plt.ylabel(\"Inertia\")\n",
        "# plt.grid()\n",
        "# plt.show()"
      ],
      "metadata": {
        "id": "eh2Yhysula8b"
      },
      "execution_count": 17,
      "outputs": []
    },
    {
      "cell_type": "code",
      "source": [
        "# plt.figure(figsize=(8, 3))\n",
        "\n",
        "# k_range = range(2, 11)\n",
        "# best_index = np.argmax(silhouette_avgs)\n",
        "# best_k = k_range[best_index]\n",
        "# best_score = silhouette_avgs[best_index]\n",
        "\n",
        "# plt.plot(k_range, silhouette_avgs, \"bo-\")\n",
        "# plt.xlabel(\"$k$\")\n",
        "# plt.ylabel(\"Silhouette score\")\n",
        "# plt.plot(best_k, best_score, \"rs\")\n",
        "# plt.grid()\n",
        "# plt.show()"
      ],
      "metadata": {
        "id": "JWpXPkiLljmd"
      },
      "execution_count": 18,
      "outputs": []
    },
    {
      "cell_type": "code",
      "source": [
        "# using 5 clusters using all of the data\n",
        "kmeans = KMeans(n_clusters=5, random_state=0).fit(X)"
      ],
      "metadata": {
        "colab": {
          "base_uri": "https://localhost:8080/"
        },
        "id": "OIm1fb9m1oII",
        "outputId": "2cfc786d-8614-425d-dda1-09a762f3ac08"
      },
      "execution_count": 19,
      "outputs": [
        {
          "output_type": "stream",
          "name": "stderr",
          "text": [
            "/usr/local/lib/python3.10/dist-packages/sklearn/cluster/_kmeans.py:870: FutureWarning: The default value of `n_init` will change from 10 to 'auto' in 1.4. Set the value of `n_init` explicitly to suppress the warning\n",
            "  warnings.warn(\n"
          ]
        }
      ]
    },
    {
      "cell_type": "code",
      "source": [
        "from itertools import compress\n",
        "\n",
        "cluster_0 = {}\n",
        "cluster_1 = {}\n",
        "cluster_2 = {}\n",
        "cluster_3 = {}\n",
        "cluster_4 = {}\n",
        "\n",
        "def add_to_dict(dict, key, val):\n",
        "  if key in dict:\n",
        "    dict[key].append(val)\n",
        "  else:\n",
        "    dict[key] = [val]\n",
        "\n",
        "for cluster_id in np.unique(kmeans.labels_):\n",
        "  print(\"Cluster\", cluster_id)\n",
        "\n",
        "  in_cluster = kmeans.labels_ == cluster_id\n",
        "  indices = np.where(in_cluster)[0]\n",
        "\n",
        "  for index in indices:\n",
        "    row = data.iloc[index]\n",
        "    for column, val in row.items():\n",
        "      if cluster_id == 0:\n",
        "        add_to_dict(cluster_0, column, val)\n",
        "      elif cluster_id == 1:\n",
        "        add_to_dict(cluster_1, column, val)\n",
        "      elif cluster_id == 2:\n",
        "        add_to_dict(cluster_2, column, val)\n",
        "      elif cluster_id == 3:\n",
        "        add_to_dict(cluster_3, column, val)\n",
        "      elif cluster_id == 4:\n",
        "        add_to_dict(cluster_4, column, val)\n"
      ],
      "metadata": {
        "colab": {
          "base_uri": "https://localhost:8080/"
        },
        "id": "kjPOAVdi36Rw",
        "outputId": "a1b8d35b-aed7-4a27-da73-10941dc31353"
      },
      "execution_count": 20,
      "outputs": [
        {
          "output_type": "stream",
          "name": "stdout",
          "text": [
            "Cluster 0\n",
            "Cluster 1\n",
            "Cluster 2\n",
            "Cluster 3\n",
            "Cluster 4\n"
          ]
        }
      ]
    },
    {
      "cell_type": "code",
      "source": [
        "questions = {'EXT1': 'I am the life of the party.', 'EXT2': \"I don't talk a lot.\", 'EXT3': 'I feel comfortable around people.', 'EXT4': 'I keep in the background.', 'EXT5': 'I start conversations.', 'EXT6': 'I have little to say.', 'EXT7': 'I talk to a lot of different people at parties.', 'EXT8': \"I don't like to draw attention to myself.\", 'EXT9': \"I don't mind being the center of attention.\", 'EXT10': 'I am quiet around strangers.', 'EST1': 'I get stressed out easily.', 'EST2': 'I am relaxed most of the time.', 'EST3': 'I worry about things.', 'EST4': 'I seldom feel blue.', 'EST5': 'I am easily disturbed.', 'EST6': 'I get upset easily.', 'EST7': 'I change my mood a lot.', 'EST8': 'I have frequent mood swings.', 'EST9': 'I get irritated easily.', 'EST10': 'I often feel blue.', 'AGR1': 'I feel little concern for others.', 'AGR2': 'I am interested in people.', 'AGR3': 'I insult people.', 'AGR4': \"I sympathize with others' feelings.\", 'AGR5': \"I am not interested in other people's problems.\", 'AGR6': 'I have a soft heart.', 'AGR7': 'I am not really interested in others.', 'AGR8': 'I take time out for others.', 'AGR9': \"I feel others' emotions.\", 'AGR10': 'I make people feel at ease.', 'CSN1': 'I am always prepared.', 'CSN2': 'I leave my belongings around.', 'CSN3': 'I pay attention to details.', 'CSN4': 'I make a mess of things.', 'CSN5': 'I get chores done right away.', 'CSN6': 'I often forget to put things back in their proper place.', 'CSN7': 'I like order.', 'CSN8': 'I shirk my duties.', 'CSN9': 'I follow a schedule.', 'CSN10': 'I am exacting in my work.', 'OPN1': 'I have a rich vocabulary.', 'OPN2': 'I have difficulty understanding abstract ideas.', 'OPN3': 'I have a vivid imagination.', 'OPN4': 'I am not interested in abstract ideas.', 'OPN5': 'I have excellent ideas.', 'OPN6': 'I do not have a good imagination.', 'OPN7': 'I am quick to understand things.', 'OPN8': 'I use difficult words.', 'OPN9': 'I spend time reflecting on things.', 'OPN10': 'I am full of ideas.'}\n"
      ],
      "metadata": {
        "id": "rDTw6otlEQPg"
      },
      "execution_count": 21,
      "outputs": []
    },
    {
      "cell_type": "code",
      "source": [
        "# cluster 0\n",
        "for key, value in cluster_0.items():\n",
        "  avg = sum(value)/len(value)\n",
        "  if avg > 4 or avg < 2:\n",
        "    print(questions[key], \"->\", round(avg,1))"
      ],
      "metadata": {
        "colab": {
          "base_uri": "https://localhost:8080/"
        },
        "id": "gBxswJj4BW6S",
        "outputId": "012a68c0-480f-4bcd-b393-de8574e20f54"
      },
      "execution_count": 22,
      "outputs": [
        {
          "output_type": "stream",
          "name": "stdout",
          "text": [
            "I am the life of the party. -> 1.8\n",
            "I keep in the background. -> 4.1\n",
            "I talk to a lot of different people at parties. -> 1.7\n",
            "I don't like to draw attention to myself. -> 4.1\n",
            "I am quiet around strangers. -> 4.5\n",
            "I get stressed out easily. -> 4.2\n",
            "I worry about things. -> 4.5\n",
            "I get irritated easily. -> 4.0\n",
            "I have a vivid imagination. -> 4.1\n",
            "I spend time reflecting on things. -> 4.3\n"
          ]
        }
      ]
    },
    {
      "cell_type": "code",
      "source": [
        "# cluster 1\n",
        "for key, value in cluster_1.items():\n",
        "  avg = sum(value)/len(value)\n",
        "  if avg > 4 or avg < 2:\n",
        "    print(questions[key], \"->\", round(avg,1))"
      ],
      "metadata": {
        "colab": {
          "base_uri": "https://localhost:8080/"
        },
        "id": "1UrrF8hmFPGZ",
        "outputId": "715efaed-eefa-4e57-fe8b-6e06b617ca22"
      },
      "execution_count": 23,
      "outputs": [
        {
          "output_type": "stream",
          "name": "stdout",
          "text": [
            "I don't talk a lot. -> 1.9\n",
            "I feel comfortable around people. -> 4.3\n",
            "I start conversations. -> 4.3\n",
            "I have little to say. -> 1.7\n",
            "I get upset easily. -> 1.9\n",
            "I have frequent mood swings. -> 1.7\n",
            "I often feel blue. -> 1.7\n",
            "I feel little concern for others. -> 1.9\n",
            "I am interested in people. -> 4.4\n",
            "I insult people. -> 1.8\n",
            "I sympathize with others' feelings. -> 4.2\n",
            "I am not interested in other people's problems. -> 1.9\n",
            "I am not really interested in others. -> 1.6\n",
            "I take time out for others. -> 4.1\n",
            "I feel others' emotions. -> 4.1\n",
            "I make people feel at ease. -> 4.2\n",
            "I pay attention to details. -> 4.2\n",
            "I make a mess of things. -> 1.9\n",
            "I shirk my duties. -> 1.9\n",
            "I have difficulty understanding abstract ideas. -> 1.8\n",
            "I have a vivid imagination. -> 4.1\n",
            "I am not interested in abstract ideas. -> 1.8\n",
            "I have excellent ideas. -> 4.2\n",
            "I do not have a good imagination. -> 1.7\n",
            "I am quick to understand things. -> 4.3\n",
            "I spend time reflecting on things. -> 4.1\n",
            "I am full of ideas. -> 4.3\n"
          ]
        }
      ]
    },
    {
      "cell_type": "code",
      "source": [
        "# cluster 2\n",
        "for key, value in cluster_2.items():\n",
        "  avg = sum(value)/len(value)\n",
        "  if avg > 4 or avg < 2:\n",
        "    print(questions[key], \"->\", round(avg,1))"
      ],
      "metadata": {
        "colab": {
          "base_uri": "https://localhost:8080/"
        },
        "id": "-jqcrnBcLlW2",
        "outputId": "e7c0eba8-c924-4271-b9a3-60d17f553ac4"
      },
      "execution_count": 24,
      "outputs": [
        {
          "output_type": "stream",
          "name": "stdout",
          "text": [
            "I don't talk a lot. -> 1.9\n",
            "I start conversations. -> 4.0\n",
            "I have little to say. -> 1.8\n",
            "I worry about things. -> 4.2\n",
            "I am interested in people. -> 4.3\n",
            "I sympathize with others' feelings. -> 4.2\n",
            "I am not really interested in others. -> 1.9\n",
            "I feel others' emotions. -> 4.1\n",
            "I have a vivid imagination. -> 4.2\n",
            "I am not interested in abstract ideas. -> 2.0\n",
            "I do not have a good imagination. -> 1.8\n",
            "I spend time reflecting on things. -> 4.2\n",
            "I am full of ideas. -> 4.2\n"
          ]
        }
      ]
    },
    {
      "cell_type": "code",
      "source": [
        "# cluster 3\n",
        "for key, value in cluster_3.items():\n",
        "  avg = sum(value)/len(value)\n",
        "  if avg > 4 or avg < 2:\n",
        "    print(questions[key], \"->\", round(avg,1))"
      ],
      "metadata": {
        "colab": {
          "base_uri": "https://localhost:8080/"
        },
        "id": "LM9JObdpL7hd",
        "outputId": "9eda50ca-a240-4c5a-efd1-9520e1adf3a5"
      },
      "execution_count": 25,
      "outputs": [
        {
          "output_type": "stream",
          "name": "stdout",
          "text": [
            "I don't like to draw attention to myself. -> 4.0\n",
            "I am quiet around strangers. -> 4.1\n",
            "I worry about things. -> 4.2\n",
            "I feel little concern for others. -> 1.9\n",
            "I insult people. -> 1.7\n",
            "I sympathize with others' feelings. -> 4.3\n",
            "I am not interested in other people's problems. -> 2.0\n",
            "I have a soft heart. -> 4.1\n",
            "I feel others' emotions. -> 4.2\n",
            "I pay attention to details. -> 4.3\n",
            "I like order. -> 4.2\n",
            "I do not have a good imagination. -> 2.0\n",
            "I am quick to understand things. -> 4.0\n",
            "I spend time reflecting on things. -> 4.3\n"
          ]
        }
      ]
    },
    {
      "cell_type": "code",
      "source": [
        "# cluster 4\n",
        "for key, value in cluster_4.items():\n",
        "  avg = sum(value)/len(value)\n",
        "  if avg > 4 or avg < 2:\n",
        "    print(questions[key], \"->\", round(avg,1))"
      ],
      "metadata": {
        "colab": {
          "base_uri": "https://localhost:8080/"
        },
        "id": "mJswfg7HMIDH",
        "outputId": "6ddcbe44-f247-4215-9138-d1b9270016fd"
      },
      "execution_count": 26,
      "outputs": [
        {
          "output_type": "stream",
          "name": "stdout",
          "text": [
            "I have frequent mood swings. -> 1.9\n",
            "I have difficulty understanding abstract ideas. -> 2.0\n"
          ]
        }
      ]
    },
    {
      "cell_type": "code",
      "source": [
        "# use two clusters on all of the ata\n",
        "\n",
        "kmeans = KMeans(n_clusters=2, random_state=0).fit(X)"
      ],
      "metadata": {
        "colab": {
          "base_uri": "https://localhost:8080/"
        },
        "id": "w37VKxhwNBUo",
        "outputId": "0ca586b9-45e8-4eca-d651-cadab792e658"
      },
      "execution_count": 27,
      "outputs": [
        {
          "output_type": "stream",
          "name": "stderr",
          "text": [
            "/usr/local/lib/python3.10/dist-packages/sklearn/cluster/_kmeans.py:870: FutureWarning: The default value of `n_init` will change from 10 to 'auto' in 1.4. Set the value of `n_init` explicitly to suppress the warning\n",
            "  warnings.warn(\n"
          ]
        }
      ]
    },
    {
      "cell_type": "code",
      "source": [
        "cluster_0 = {}\n",
        "cluster_1 = {}\n",
        "cluster_0_count = 0\n",
        "cluster_1_count = 0\n",
        "\n",
        "for cluster_id in np.unique(kmeans.labels_):\n",
        "  print(\"Cluster\", cluster_id)\n",
        "\n",
        "  in_cluster = kmeans.labels_ == cluster_id\n",
        "  indices = np.where(in_cluster)[0]\n",
        "\n",
        "  if cluster_id == 0:\n",
        "    cluster_0_count = len(indices)\n",
        "  elif cluster_id == 1:\n",
        "    cluster_1_count = len(indices)\n",
        "\n",
        "  for index in indices:\n",
        "    row = data.iloc[index]\n",
        "    for column, val in row.items():\n",
        "      if cluster_id == 0:\n",
        "        add_to_dict(cluster_0, column, val)\n",
        "      elif cluster_id == 1:\n",
        "        add_to_dict(cluster_1, column, val)\n",
        ""
      ],
      "metadata": {
        "colab": {
          "base_uri": "https://localhost:8080/"
        },
        "id": "PUM4wfQRNXsO",
        "outputId": "6b7234ab-55e7-4eb9-f7c9-db1ce0a94d4c"
      },
      "execution_count": 31,
      "outputs": [
        {
          "output_type": "stream",
          "name": "stdout",
          "text": [
            "Cluster 0\n",
            "Cluster 1\n"
          ]
        }
      ]
    },
    {
      "cell_type": "code",
      "source": [
        "# cluster 0\n",
        "for key, value in cluster_0.items():\n",
        "  avg = sum(value)/len(value)\n",
        "  if avg > 3.8 or avg < 2.3:\n",
        "    print(key, questions[key], \"->\", round(avg,1))\n",
        "\n",
        "print('...........')\n",
        "print(f\"this cluster has {cluster_0_count} entries\")"
      ],
      "metadata": {
        "colab": {
          "base_uri": "https://localhost:8080/"
        },
        "id": "c9E-lsXnNhHE",
        "outputId": "2c931740-15dc-46df-ff7b-46fcbef8ae09"
      },
      "execution_count": 39,
      "outputs": [
        {
          "output_type": "stream",
          "name": "stdout",
          "text": [
            "EXT2 I don't talk a lot. -> 2.1\n",
            "EXT3 I feel comfortable around people. -> 4.0\n",
            "EXT5 I start conversations. -> 4.0\n",
            "EXT6 I have little to say. -> 1.9\n",
            "EST8 I have frequent mood swings. -> 2.2\n",
            "EST10 I often feel blue. -> 2.1\n",
            "AGR1 I feel little concern for others. -> 2.0\n",
            "AGR2 I am interested in people. -> 4.2\n",
            "AGR3 I insult people. -> 2.1\n",
            "AGR4 I sympathize with others' feelings. -> 4.1\n",
            "AGR5 I am not interested in other people's problems. -> 2.0\n",
            "AGR7 I am not really interested in others. -> 1.8\n",
            "AGR8 I take time out for others. -> 3.9\n",
            "AGR9 I feel others' emotions. -> 4.0\n",
            "AGR10 I make people feel at ease. -> 4.0\n",
            "CSN3 I pay attention to details. -> 4.0\n",
            "CSN4 I make a mess of things. -> 2.2\n",
            "CSN8 I shirk my duties. -> 2.2\n",
            "OPN2 I have difficulty understanding abstract ideas. -> 1.9\n",
            "OPN3 I have a vivid imagination. -> 4.0\n",
            "OPN4 I am not interested in abstract ideas. -> 1.9\n",
            "OPN5 I have excellent ideas. -> 4.0\n",
            "OPN6 I do not have a good imagination. -> 1.7\n",
            "OPN7 I am quick to understand things. -> 4.1\n",
            "OPN9 I spend time reflecting on things. -> 4.1\n",
            "OPN10 I am full of ideas. -> 4.1\n",
            "...........\n",
            "this cluster has 497977 entries\n"
          ]
        }
      ]
    },
    {
      "cell_type": "code",
      "source": [
        "# cluster 1\n",
        "for key, value in cluster_1.items():\n",
        "  avg = sum(value)/len(value)\n",
        "  if avg > 3.8 or avg < 2.3:\n",
        "    print(key, questions[key], \"->\", round(avg,1))\n",
        "\n",
        "print('...........')\n",
        "print(f\"this cluster has {cluster_1_count} entries\")"
      ],
      "metadata": {
        "colab": {
          "base_uri": "https://localhost:8080/"
        },
        "id": "NIMjl7GcNn3D",
        "outputId": "1e42e302-5b9c-4bc8-8b82-4a1355c31711"
      },
      "execution_count": 40,
      "outputs": [
        {
          "output_type": "stream",
          "name": "stdout",
          "text": [
            "EXT1 I am the life of the party. -> 2.1\n",
            "EXT7 I talk to a lot of different people at parties. -> 2.1\n",
            "EXT8 I don't like to draw attention to myself. -> 3.9\n",
            "EXT10 I am quiet around strangers. -> 4.2\n",
            "EST3 I worry about things. -> 4.2\n",
            "CSN3 I pay attention to details. -> 3.9\n",
            "OPN2 I have difficulty understanding abstract ideas. -> 2.3\n",
            "OPN3 I have a vivid imagination. -> 4.0\n",
            "OPN4 I am not interested in abstract ideas. -> 2.1\n",
            "OPN6 I do not have a good imagination. -> 2.1\n",
            "OPN7 I am quick to understand things. -> 3.8\n",
            "OPN9 I spend time reflecting on things. -> 4.2\n",
            "...........\n",
            "this cluster has 515581 entries\n"
          ]
        }
      ]
    },
    {
      "cell_type": "code",
      "source": [
        "print(f'the ratio of cluster_0 and cluster_1 is {round(cluster_0_count/cluster_1_count, 2)}')"
      ],
      "metadata": {
        "colab": {
          "base_uri": "https://localhost:8080/"
        },
        "id": "rQpdPgnUc5KZ",
        "outputId": "6723e429-b21e-480a-dbd7-b15146a3c353"
      },
      "execution_count": 34,
      "outputs": [
        {
          "output_type": "stream",
          "name": "stdout",
          "text": [
            "the ratio of cluster_0 and cluster_1 is 0.97\n"
          ]
        }
      ]
    },
    {
      "cell_type": "code",
      "source": [
        "# get difference of two groups\n",
        "diff_dict = {}\n",
        "\n",
        "for key in cluster_0.keys():\n",
        "  avg_0 = sum(cluster_0[key]) / len(cluster_0[key])\n",
        "  avg_1 = sum(cluster_1[key]) / len(cluster_1[key])\n",
        "\n",
        "  diff = abs((avg_0 - avg_1)/2)\n",
        "  diff_dict[key]=diff"
      ],
      "metadata": {
        "id": "IHSmdZ9QgXGH"
      },
      "execution_count": 45,
      "outputs": []
    },
    {
      "cell_type": "code",
      "source": [
        "sorted_diff_dict = dict(sorted(diff_dict.items(), key=lambda item: item[1]*-1))\n",
        "for key, value in sorted_diff_dict.items():\n",
        "  avg_0 = sum(cluster_0[key]) / len(cluster_0[key])\n",
        "  avg_1 = sum(cluster_1[key]) / len(cluster_1[key])\n",
        "  print(key, questions[key], round(value,2), 'cluster_0 scores ', round(avg_0, 1), ' cluster_1 scores ', round(avg_1,1))"
      ],
      "metadata": {
        "colab": {
          "base_uri": "https://localhost:8080/"
        },
        "id": "EBbkbLwfjW6v",
        "outputId": "a3b0a964-7174-4ec0-acbe-6e51c2e4dba3"
      },
      "execution_count": 53,
      "outputs": [
        {
          "output_type": "stream",
          "name": "stdout",
          "text": [
            "EXT7 I talk to a lot of different people at parties. 0.73 cluster_0 scores  3.5  cluster_1 scores  2.1\n",
            "EXT3 I feel comfortable around people. 0.69 cluster_0 scores  4.0  cluster_1 scores  2.6\n",
            "EXT10 I am quiet around strangers. 0.69 cluster_0 scores  2.9  cluster_1 scores  4.2\n",
            "EXT5 I start conversations. 0.67 cluster_0 scores  4.0  cluster_1 scores  2.6\n",
            "EXT4 I keep in the background. 0.65 cluster_0 scores  2.5  cluster_1 scores  3.8\n",
            "EST10 I often feel blue. 0.62 cluster_0 scores  2.1  cluster_1 scores  3.4\n",
            "EXT2 I don't talk a lot. 0.62 cluster_0 scores  2.1  cluster_1 scores  3.4\n",
            "EXT1 I am the life of the party. 0.58 cluster_0 scores  3.2  cluster_1 scores  2.1\n",
            "EXT6 I have little to say. 0.54 cluster_0 scores  1.9  cluster_1 scores  2.9\n",
            "EXT9 I don't mind being the center of attention. 0.54 cluster_0 scores  3.5  cluster_1 scores  2.4\n",
            "EST8 I have frequent mood swings. 0.52 cluster_0 scores  2.2  cluster_1 scores  3.2\n",
            "EST1 I get stressed out easily. 0.51 cluster_0 scores  2.8  cluster_1 scores  3.8\n",
            "EST9 I get irritated easily. 0.5 cluster_0 scores  2.6  cluster_1 scores  3.6\n",
            "EST6 I get upset easily. 0.5 cluster_0 scores  2.3  cluster_1 scores  3.3\n",
            "EXT8 I don't like to draw attention to myself. 0.47 cluster_0 scores  2.9  cluster_1 scores  3.9\n",
            "EST7 I change my mood a lot. 0.46 cluster_0 scores  2.6  cluster_1 scores  3.5\n",
            "AGR7 I am not really interested in others. 0.42 cluster_0 scores  1.8  cluster_1 scores  2.6\n",
            "EST5 I am easily disturbed. 0.38 cluster_0 scores  2.5  cluster_1 scores  3.2\n",
            "CSN4 I make a mess of things. 0.38 cluster_0 scores  2.2  cluster_1 scores  3.0\n",
            "AGR2 I am interested in people. 0.38 cluster_0 scores  4.2  cluster_1 scores  3.5\n",
            "EST3 I worry about things. 0.36 cluster_0 scores  3.5  cluster_1 scores  4.2\n",
            "AGR10 I make people feel at ease. 0.35 cluster_0 scores  4.0  cluster_1 scores  3.2\n",
            "EST2 I am relaxed most of the time. 0.34 cluster_0 scores  3.5  cluster_1 scores  2.8\n",
            "CSN8 I shirk my duties. 0.29 cluster_0 scores  2.2  cluster_1 scores  2.7\n",
            "EST4 I seldom feel blue. 0.29 cluster_0 scores  3.0  cluster_1 scores  2.4\n",
            "AGR5 I am not interested in other people's problems. 0.28 cluster_0 scores  2.0  cluster_1 scores  2.5\n",
            "CSN6 I often forget to put things back in their proper place. 0.27 cluster_0 scores  2.6  cluster_1 scores  3.1\n",
            "CSN5 I get chores done right away. 0.23 cluster_0 scores  2.9  cluster_1 scores  2.4\n",
            "AGR8 I take time out for others. 0.22 cluster_0 scores  3.9  cluster_1 scores  3.5\n",
            "AGR1 I feel little concern for others. 0.22 cluster_0 scores  2.0  cluster_1 scores  2.5\n",
            "OPN5 I have excellent ideas. 0.2 cluster_0 scores  4.0  cluster_1 scores  3.6\n",
            "AGR3 I insult people. 0.2 cluster_0 scores  2.1  cluster_1 scores  2.5\n",
            "CSN1 I am always prepared. 0.19 cluster_0 scores  3.5  cluster_1 scores  3.1\n",
            "OPN2 I have difficulty understanding abstract ideas. 0.19 cluster_0 scores  1.9  cluster_1 scores  2.3\n",
            "OPN10 I am full of ideas. 0.18 cluster_0 scores  4.1  cluster_1 scores  3.8\n",
            "AGR9 I feel others' emotions. 0.17 cluster_0 scores  4.0  cluster_1 scores  3.6\n",
            "CSN9 I follow a schedule. 0.17 cluster_0 scores  3.4  cluster_1 scores  3.0\n",
            "OPN6 I do not have a good imagination. 0.16 cluster_0 scores  1.7  cluster_1 scores  2.1\n",
            "AGR4 I sympathize with others' feelings. 0.16 cluster_0 scores  4.1  cluster_1 scores  3.8\n",
            "OPN7 I am quick to understand things. 0.16 cluster_0 scores  4.1  cluster_1 scores  3.8\n",
            "CSN2 I leave my belongings around. 0.14 cluster_0 scores  2.8  cluster_1 scores  3.1\n",
            "OPN4 I am not interested in abstract ideas. 0.12 cluster_0 scores  1.9  cluster_1 scores  2.1\n",
            "CSN10 I am exacting in my work. 0.12 cluster_0 scores  3.7  cluster_1 scores  3.5\n",
            "OPN1 I have a rich vocabulary. 0.1 cluster_0 scores  3.8  cluster_1 scores  3.6\n",
            "CSN3 I pay attention to details. 0.07 cluster_0 scores  4.0  cluster_1 scores  3.9\n",
            "OPN9 I spend time reflecting on things. 0.07 cluster_0 scores  4.1  cluster_1 scores  4.2\n",
            "AGR6 I have a soft heart. 0.04 cluster_0 scores  3.8  cluster_1 scores  3.7\n",
            "CSN7 I like order. 0.03 cluster_0 scores  3.7  cluster_1 scores  3.7\n",
            "OPN3 I have a vivid imagination. 0.02 cluster_0 scores  4.0  cluster_1 scores  4.0\n",
            "OPN8 I use difficult words. 0.01 cluster_0 scores  3.2  cluster_1 scores  3.2\n"
          ]
        }
      ]
    },
    {
      "cell_type": "code",
      "source": [
        "# difference between cluster_0 and cluster_1 are largely due to difference in EXT question, cluster_0 scores higher in Extraversion, cluster_1 score lower in Extraversion, and higher in some Neuroticism questions\n",
        "# print all questions with difference  > 0.4\n",
        "\n",
        "for key, value in sorted_diff_dict.items():\n",
        "  if value > 0.4:\n",
        "    print(key, questions[key], round(value,2))"
      ],
      "metadata": {
        "colab": {
          "base_uri": "https://localhost:8080/"
        },
        "id": "QplKgHpKsr-2",
        "outputId": "fe8fbcaf-1702-4389-d5a0-fedb6019cf33"
      },
      "execution_count": 54,
      "outputs": [
        {
          "output_type": "stream",
          "name": "stdout",
          "text": [
            "EXT7 I talk to a lot of different people at parties. 0.73\n",
            "EXT3 I feel comfortable around people. 0.69\n",
            "EXT10 I am quiet around strangers. 0.69\n",
            "EXT5 I start conversations. 0.67\n",
            "EXT4 I keep in the background. 0.65\n",
            "EST10 I often feel blue. 0.62\n",
            "EXT2 I don't talk a lot. 0.62\n",
            "EXT1 I am the life of the party. 0.58\n",
            "EXT6 I have little to say. 0.54\n",
            "EXT9 I don't mind being the center of attention. 0.54\n",
            "EST8 I have frequent mood swings. 0.52\n",
            "EST1 I get stressed out easily. 0.51\n",
            "EST9 I get irritated easily. 0.5\n",
            "EST6 I get upset easily. 0.5\n",
            "EXT8 I don't like to draw attention to myself. 0.47\n",
            "EST7 I change my mood a lot. 0.46\n",
            "AGR7 I am not really interested in others. 0.42\n"
          ]
        }
      ]
    },
    {
      "cell_type": "code",
      "source": [
        "for key, value in sorted_diff_dict.items():\n",
        "  if value > 0.4:\n",
        "    print(key, round(value,2))"
      ],
      "metadata": {
        "colab": {
          "base_uri": "https://localhost:8080/"
        },
        "id": "P75SBr9FuqFp",
        "outputId": "2bcac37a-42f4-49ee-eee6-0dbb9564af1d"
      },
      "execution_count": 55,
      "outputs": [
        {
          "output_type": "stream",
          "name": "stdout",
          "text": [
            "EXT7 0.73\n",
            "EXT3 0.69\n",
            "EXT10 0.69\n",
            "EXT5 0.67\n",
            "EXT4 0.65\n",
            "EST10 0.62\n",
            "EXT2 0.62\n",
            "EXT1 0.58\n",
            "EXT6 0.54\n",
            "EXT9 0.54\n",
            "EST8 0.52\n",
            "EST1 0.51\n",
            "EST9 0.5\n",
            "EST6 0.5\n",
            "EXT8 0.47\n",
            "EST7 0.46\n",
            "AGR7 0.42\n"
          ]
        }
      ]
    },
    {
      "cell_type": "code",
      "source": [
        "# establish a score for separating cluster_0 and cluster_1\n",
        "\n",
        "cluster_dict = {'EXT7': 0.73, 'EXT3': 0.69, 'EXT10': 0.69, 'EXT5': 0.67, 'EXT4': 0.65, 'EST10': 0.62, 'EXT2': 0.62, 'EXT1': 0.58, 'EXT6': 0.54, 'EXT9': 0.54, 'EST8': 0.52, 'EST1': 0.51, 'EST9': 0.5, 'EST6': 0.5, 'EXT8': 0.47, 'EST7': 0.46, 'AGR7': 0.42}"
      ],
      "metadata": {
        "id": "IhNsKqHNvQGZ"
      },
      "execution_count": 56,
      "outputs": []
    }
  ]
}